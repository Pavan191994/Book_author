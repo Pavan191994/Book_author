{
 "cells": [
  {
   "cell_type": "code",
   "execution_count": 1,
   "metadata": {
    "scrolled": true
   },
   "outputs": [],
   "source": [
    "import numpy as np\n",
    "import pandas as pd\n",
    "\n",
    "#!pip install urllib\n",
    "import urllib.request as url \n",
    "\n",
    "#!pip install bs4\n",
    "from bs4 import BeautifulSoup as bs\n",
    "\n",
    "#!pip install wordcloud\n",
    "from wordcloud import WordCloud\n",
    "\n",
    "import re\n",
    "import matplotlib.pyplot as plt\n",
    "%matplotlib inline\n",
    "\n",
    "import random\n",
    "random.seed(123)\n",
    "\n",
    "#ignore warnings\n",
    "import warnings\n",
    "warnings.filterwarnings('ignore')"
   ]
  },
  {
   "cell_type": "code",
   "execution_count": 2,
   "metadata": {
    "scrolled": true
   },
   "outputs": [],
   "source": [
    "#!conda install -c conda-forge spacy\n",
    "#!python -m spacy download en_core_web_sm\n",
    "#!pip install -U spacy\n",
    "import spacy\n",
    "nlp = spacy.load(\"en_core_web_sm\")\n",
    "\n",
    "# import en_core_web_sm\n",
    "#nlp = en_core_web_sm.load()"
   ]
  },
  {
   "cell_type": "markdown",
   "metadata": {},
   "source": [
    "# Download 100 text books"
   ]
  },
  {
   "cell_type": "code",
   "execution_count": 4,
   "metadata": {},
   "outputs": [],
   "source": [
    "import requests\n",
    "from bs4 import BeautifulSoup\n",
    "def go_gutenberg(file_format,book_no):\n",
    "       url = \"https://www.gutenberg.org/ebooks/\" + str(book_no)\n",
    "       r =requests.get(url)\n",
    "       r_html  = r.text\n",
    "       soup = BeautifulSoup(r_html,\"html.parser\")\n",
    "       for file in soup.find_all('a',class_=\"link\"):\n",
    "         if file_format in file.text:\n",
    "           get_book=file.get('href')\n",
    "           g = requests.get(\"https://www.gutenberg.org/\"+get_book)\n",
    "\n",
    "           with open(\"C:/Users/91989/Documents/PYTHON/INSOFE_Internship/Task3/Book_author\"+str(book_no)+\".txt\",'wb') as open_file:\n",
    "               for chunk in g.iter_content(10000):\n",
    "                    open_file.write(chunk)\n"
   ]
  },
  {
   "cell_type": "code",
   "execution_count": 5,
   "metadata": {},
   "outputs": [
    {
     "ename": "KeyboardInterrupt",
     "evalue": "",
     "output_type": "error",
     "traceback": [
      "\u001b[1;31m---------------------------------------------------------------------------\u001b[0m",
      "\u001b[1;31mTimeoutError\u001b[0m                              Traceback (most recent call last)",
      "\u001b[1;32m~\\Anaconda3\\lib\\site-packages\\urllib3\\util\\connection.py\u001b[0m in \u001b[0;36mcreate_connection\u001b[1;34m(address, timeout, source_address, socket_options)\u001b[0m\n\u001b[0;32m     69\u001b[0m                 \u001b[0msock\u001b[0m\u001b[1;33m.\u001b[0m\u001b[0mbind\u001b[0m\u001b[1;33m(\u001b[0m\u001b[0msource_address\u001b[0m\u001b[1;33m)\u001b[0m\u001b[1;33m\u001b[0m\u001b[1;33m\u001b[0m\u001b[0m\n\u001b[1;32m---> 70\u001b[1;33m             \u001b[0msock\u001b[0m\u001b[1;33m.\u001b[0m\u001b[0mconnect\u001b[0m\u001b[1;33m(\u001b[0m\u001b[0msa\u001b[0m\u001b[1;33m)\u001b[0m\u001b[1;33m\u001b[0m\u001b[1;33m\u001b[0m\u001b[0m\n\u001b[0m\u001b[0;32m     71\u001b[0m             \u001b[1;32mreturn\u001b[0m \u001b[0msock\u001b[0m\u001b[1;33m\u001b[0m\u001b[1;33m\u001b[0m\u001b[0m\n",
      "\u001b[1;31mTimeoutError\u001b[0m: [WinError 10060] A connection attempt failed because the connected party did not properly respond after a period of time, or established connection failed because connected host has failed to respond",
      "\nDuring handling of the above exception, another exception occurred:\n",
      "\u001b[1;31mKeyboardInterrupt\u001b[0m                         Traceback (most recent call last)",
      "\u001b[1;32m<ipython-input-5-3b3a19253f2f>\u001b[0m in \u001b[0;36m<module>\u001b[1;34m\u001b[0m\n\u001b[0;32m      1\u001b[0m \u001b[0mbook_num\u001b[0m \u001b[1;33m=\u001b[0m \u001b[0mrange\u001b[0m\u001b[1;33m(\u001b[0m\u001b[1;36m1\u001b[0m\u001b[1;33m,\u001b[0m\u001b[1;36m101\u001b[0m\u001b[1;33m)\u001b[0m\u001b[1;33m\u001b[0m\u001b[1;33m\u001b[0m\u001b[0m\n\u001b[0;32m      2\u001b[0m \u001b[1;32mfor\u001b[0m \u001b[0mx\u001b[0m \u001b[1;32min\u001b[0m \u001b[0mbook_num\u001b[0m\u001b[1;33m:\u001b[0m\u001b[1;33m\u001b[0m\u001b[1;33m\u001b[0m\u001b[0m\n\u001b[1;32m----> 3\u001b[1;33m     \u001b[0mgo_gutenberg\u001b[0m\u001b[1;33m(\u001b[0m\u001b[1;34m\"Text\"\u001b[0m\u001b[1;33m,\u001b[0m\u001b[0mx\u001b[0m\u001b[1;33m)\u001b[0m\u001b[1;33m\u001b[0m\u001b[1;33m\u001b[0m\u001b[0m\n\u001b[0m",
      "\u001b[1;32m<ipython-input-4-b0087f6c2429>\u001b[0m in \u001b[0;36mgo_gutenberg\u001b[1;34m(file_format, book_no)\u001b[0m\n\u001b[0;32m      9\u001b[0m          \u001b[1;32mif\u001b[0m \u001b[0mfile_format\u001b[0m \u001b[1;32min\u001b[0m \u001b[0mfile\u001b[0m\u001b[1;33m.\u001b[0m\u001b[0mtext\u001b[0m\u001b[1;33m:\u001b[0m\u001b[1;33m\u001b[0m\u001b[1;33m\u001b[0m\u001b[0m\n\u001b[0;32m     10\u001b[0m            \u001b[0mget_book\u001b[0m\u001b[1;33m=\u001b[0m\u001b[0mfile\u001b[0m\u001b[1;33m.\u001b[0m\u001b[0mget\u001b[0m\u001b[1;33m(\u001b[0m\u001b[1;34m'href'\u001b[0m\u001b[1;33m)\u001b[0m\u001b[1;33m\u001b[0m\u001b[1;33m\u001b[0m\u001b[0m\n\u001b[1;32m---> 11\u001b[1;33m            \u001b[0mg\u001b[0m \u001b[1;33m=\u001b[0m \u001b[0mrequests\u001b[0m\u001b[1;33m.\u001b[0m\u001b[0mget\u001b[0m\u001b[1;33m(\u001b[0m\u001b[1;34m\"https://www.gutenberg.org/\"\u001b[0m\u001b[1;33m+\u001b[0m\u001b[0mget_book\u001b[0m\u001b[1;33m)\u001b[0m\u001b[1;33m\u001b[0m\u001b[1;33m\u001b[0m\u001b[0m\n\u001b[0m\u001b[0;32m     12\u001b[0m \u001b[1;33m\u001b[0m\u001b[0m\n\u001b[0;32m     13\u001b[0m            \u001b[1;32mwith\u001b[0m \u001b[0mopen\u001b[0m\u001b[1;33m(\u001b[0m\u001b[1;34m\"C:/Users/91989/Documents/PYTHON/INSOFE_Internship/Task3/Book_author\"\u001b[0m\u001b[1;33m+\u001b[0m\u001b[0mstr\u001b[0m\u001b[1;33m(\u001b[0m\u001b[0mbook_no\u001b[0m\u001b[1;33m)\u001b[0m\u001b[1;33m+\u001b[0m\u001b[1;34m\".txt\"\u001b[0m\u001b[1;33m,\u001b[0m\u001b[1;34m'wb'\u001b[0m\u001b[1;33m)\u001b[0m \u001b[1;32mas\u001b[0m \u001b[0mopen_file\u001b[0m\u001b[1;33m:\u001b[0m\u001b[1;33m\u001b[0m\u001b[1;33m\u001b[0m\u001b[0m\n",
      "\u001b[1;32m~\\Anaconda3\\lib\\site-packages\\requests\\api.py\u001b[0m in \u001b[0;36mget\u001b[1;34m(url, params, **kwargs)\u001b[0m\n\u001b[0;32m     73\u001b[0m \u001b[1;33m\u001b[0m\u001b[0m\n\u001b[0;32m     74\u001b[0m     \u001b[0mkwargs\u001b[0m\u001b[1;33m.\u001b[0m\u001b[0msetdefault\u001b[0m\u001b[1;33m(\u001b[0m\u001b[1;34m'allow_redirects'\u001b[0m\u001b[1;33m,\u001b[0m \u001b[1;32mTrue\u001b[0m\u001b[1;33m)\u001b[0m\u001b[1;33m\u001b[0m\u001b[1;33m\u001b[0m\u001b[0m\n\u001b[1;32m---> 75\u001b[1;33m     \u001b[1;32mreturn\u001b[0m \u001b[0mrequest\u001b[0m\u001b[1;33m(\u001b[0m\u001b[1;34m'get'\u001b[0m\u001b[1;33m,\u001b[0m \u001b[0murl\u001b[0m\u001b[1;33m,\u001b[0m \u001b[0mparams\u001b[0m\u001b[1;33m=\u001b[0m\u001b[0mparams\u001b[0m\u001b[1;33m,\u001b[0m \u001b[1;33m**\u001b[0m\u001b[0mkwargs\u001b[0m\u001b[1;33m)\u001b[0m\u001b[1;33m\u001b[0m\u001b[1;33m\u001b[0m\u001b[0m\n\u001b[0m\u001b[0;32m     76\u001b[0m \u001b[1;33m\u001b[0m\u001b[0m\n\u001b[0;32m     77\u001b[0m \u001b[1;33m\u001b[0m\u001b[0m\n",
      "\u001b[1;32m~\\Anaconda3\\lib\\site-packages\\requests\\api.py\u001b[0m in \u001b[0;36mrequest\u001b[1;34m(method, url, **kwargs)\u001b[0m\n\u001b[0;32m     58\u001b[0m     \u001b[1;31m# cases, and look like a memory leak in others.\u001b[0m\u001b[1;33m\u001b[0m\u001b[1;33m\u001b[0m\u001b[1;33m\u001b[0m\u001b[0m\n\u001b[0;32m     59\u001b[0m     \u001b[1;32mwith\u001b[0m \u001b[0msessions\u001b[0m\u001b[1;33m.\u001b[0m\u001b[0mSession\u001b[0m\u001b[1;33m(\u001b[0m\u001b[1;33m)\u001b[0m \u001b[1;32mas\u001b[0m \u001b[0msession\u001b[0m\u001b[1;33m:\u001b[0m\u001b[1;33m\u001b[0m\u001b[1;33m\u001b[0m\u001b[0m\n\u001b[1;32m---> 60\u001b[1;33m         \u001b[1;32mreturn\u001b[0m \u001b[0msession\u001b[0m\u001b[1;33m.\u001b[0m\u001b[0mrequest\u001b[0m\u001b[1;33m(\u001b[0m\u001b[0mmethod\u001b[0m\u001b[1;33m=\u001b[0m\u001b[0mmethod\u001b[0m\u001b[1;33m,\u001b[0m \u001b[0murl\u001b[0m\u001b[1;33m=\u001b[0m\u001b[0murl\u001b[0m\u001b[1;33m,\u001b[0m \u001b[1;33m**\u001b[0m\u001b[0mkwargs\u001b[0m\u001b[1;33m)\u001b[0m\u001b[1;33m\u001b[0m\u001b[1;33m\u001b[0m\u001b[0m\n\u001b[0m\u001b[0;32m     61\u001b[0m \u001b[1;33m\u001b[0m\u001b[0m\n\u001b[0;32m     62\u001b[0m \u001b[1;33m\u001b[0m\u001b[0m\n",
      "\u001b[1;32m~\\Anaconda3\\lib\\site-packages\\requests\\sessions.py\u001b[0m in \u001b[0;36mrequest\u001b[1;34m(self, method, url, params, data, headers, cookies, files, auth, timeout, allow_redirects, proxies, hooks, stream, verify, cert, json)\u001b[0m\n\u001b[0;32m    531\u001b[0m         }\n\u001b[0;32m    532\u001b[0m         \u001b[0msend_kwargs\u001b[0m\u001b[1;33m.\u001b[0m\u001b[0mupdate\u001b[0m\u001b[1;33m(\u001b[0m\u001b[0msettings\u001b[0m\u001b[1;33m)\u001b[0m\u001b[1;33m\u001b[0m\u001b[1;33m\u001b[0m\u001b[0m\n\u001b[1;32m--> 533\u001b[1;33m         \u001b[0mresp\u001b[0m \u001b[1;33m=\u001b[0m \u001b[0mself\u001b[0m\u001b[1;33m.\u001b[0m\u001b[0msend\u001b[0m\u001b[1;33m(\u001b[0m\u001b[0mprep\u001b[0m\u001b[1;33m,\u001b[0m \u001b[1;33m**\u001b[0m\u001b[0msend_kwargs\u001b[0m\u001b[1;33m)\u001b[0m\u001b[1;33m\u001b[0m\u001b[1;33m\u001b[0m\u001b[0m\n\u001b[0m\u001b[0;32m    534\u001b[0m \u001b[1;33m\u001b[0m\u001b[0m\n\u001b[0;32m    535\u001b[0m         \u001b[1;32mreturn\u001b[0m \u001b[0mresp\u001b[0m\u001b[1;33m\u001b[0m\u001b[1;33m\u001b[0m\u001b[0m\n",
      "\u001b[1;32m~\\Anaconda3\\lib\\site-packages\\requests\\sessions.py\u001b[0m in \u001b[0;36msend\u001b[1;34m(self, request, **kwargs)\u001b[0m\n\u001b[0;32m    666\u001b[0m \u001b[1;33m\u001b[0m\u001b[0m\n\u001b[0;32m    667\u001b[0m         \u001b[1;31m# Resolve redirects if allowed.\u001b[0m\u001b[1;33m\u001b[0m\u001b[1;33m\u001b[0m\u001b[1;33m\u001b[0m\u001b[0m\n\u001b[1;32m--> 668\u001b[1;33m         \u001b[0mhistory\u001b[0m \u001b[1;33m=\u001b[0m \u001b[1;33m[\u001b[0m\u001b[0mresp\u001b[0m \u001b[1;32mfor\u001b[0m \u001b[0mresp\u001b[0m \u001b[1;32min\u001b[0m \u001b[0mgen\u001b[0m\u001b[1;33m]\u001b[0m \u001b[1;32mif\u001b[0m \u001b[0mallow_redirects\u001b[0m \u001b[1;32melse\u001b[0m \u001b[1;33m[\u001b[0m\u001b[1;33m]\u001b[0m\u001b[1;33m\u001b[0m\u001b[1;33m\u001b[0m\u001b[0m\n\u001b[0m\u001b[0;32m    669\u001b[0m \u001b[1;33m\u001b[0m\u001b[0m\n\u001b[0;32m    670\u001b[0m         \u001b[1;31m# Shuffle things around if there's history.\u001b[0m\u001b[1;33m\u001b[0m\u001b[1;33m\u001b[0m\u001b[1;33m\u001b[0m\u001b[0m\n",
      "\u001b[1;32m~\\Anaconda3\\lib\\site-packages\\requests\\sessions.py\u001b[0m in \u001b[0;36m<listcomp>\u001b[1;34m(.0)\u001b[0m\n\u001b[0;32m    666\u001b[0m \u001b[1;33m\u001b[0m\u001b[0m\n\u001b[0;32m    667\u001b[0m         \u001b[1;31m# Resolve redirects if allowed.\u001b[0m\u001b[1;33m\u001b[0m\u001b[1;33m\u001b[0m\u001b[1;33m\u001b[0m\u001b[0m\n\u001b[1;32m--> 668\u001b[1;33m         \u001b[0mhistory\u001b[0m \u001b[1;33m=\u001b[0m \u001b[1;33m[\u001b[0m\u001b[0mresp\u001b[0m \u001b[1;32mfor\u001b[0m \u001b[0mresp\u001b[0m \u001b[1;32min\u001b[0m \u001b[0mgen\u001b[0m\u001b[1;33m]\u001b[0m \u001b[1;32mif\u001b[0m \u001b[0mallow_redirects\u001b[0m \u001b[1;32melse\u001b[0m \u001b[1;33m[\u001b[0m\u001b[1;33m]\u001b[0m\u001b[1;33m\u001b[0m\u001b[1;33m\u001b[0m\u001b[0m\n\u001b[0m\u001b[0;32m    669\u001b[0m \u001b[1;33m\u001b[0m\u001b[0m\n\u001b[0;32m    670\u001b[0m         \u001b[1;31m# Shuffle things around if there's history.\u001b[0m\u001b[1;33m\u001b[0m\u001b[1;33m\u001b[0m\u001b[1;33m\u001b[0m\u001b[0m\n",
      "\u001b[1;32m~\\Anaconda3\\lib\\site-packages\\requests\\sessions.py\u001b[0m in \u001b[0;36mresolve_redirects\u001b[1;34m(self, resp, req, stream, timeout, verify, cert, proxies, yield_requests, **adapter_kwargs)\u001b[0m\n\u001b[0;32m    245\u001b[0m                     \u001b[0mproxies\u001b[0m\u001b[1;33m=\u001b[0m\u001b[0mproxies\u001b[0m\u001b[1;33m,\u001b[0m\u001b[1;33m\u001b[0m\u001b[1;33m\u001b[0m\u001b[0m\n\u001b[0;32m    246\u001b[0m                     \u001b[0mallow_redirects\u001b[0m\u001b[1;33m=\u001b[0m\u001b[1;32mFalse\u001b[0m\u001b[1;33m,\u001b[0m\u001b[1;33m\u001b[0m\u001b[1;33m\u001b[0m\u001b[0m\n\u001b[1;32m--> 247\u001b[1;33m                     \u001b[1;33m**\u001b[0m\u001b[0madapter_kwargs\u001b[0m\u001b[1;33m\u001b[0m\u001b[1;33m\u001b[0m\u001b[0m\n\u001b[0m\u001b[0;32m    248\u001b[0m                 )\n\u001b[0;32m    249\u001b[0m \u001b[1;33m\u001b[0m\u001b[0m\n",
      "\u001b[1;32m~\\Anaconda3\\lib\\site-packages\\requests\\sessions.py\u001b[0m in \u001b[0;36msend\u001b[1;34m(self, request, **kwargs)\u001b[0m\n\u001b[0;32m    644\u001b[0m \u001b[1;33m\u001b[0m\u001b[0m\n\u001b[0;32m    645\u001b[0m         \u001b[1;31m# Send the request\u001b[0m\u001b[1;33m\u001b[0m\u001b[1;33m\u001b[0m\u001b[1;33m\u001b[0m\u001b[0m\n\u001b[1;32m--> 646\u001b[1;33m         \u001b[0mr\u001b[0m \u001b[1;33m=\u001b[0m \u001b[0madapter\u001b[0m\u001b[1;33m.\u001b[0m\u001b[0msend\u001b[0m\u001b[1;33m(\u001b[0m\u001b[0mrequest\u001b[0m\u001b[1;33m,\u001b[0m \u001b[1;33m**\u001b[0m\u001b[0mkwargs\u001b[0m\u001b[1;33m)\u001b[0m\u001b[1;33m\u001b[0m\u001b[1;33m\u001b[0m\u001b[0m\n\u001b[0m\u001b[0;32m    647\u001b[0m \u001b[1;33m\u001b[0m\u001b[0m\n\u001b[0;32m    648\u001b[0m         \u001b[1;31m# Total elapsed time of the request (approximately)\u001b[0m\u001b[1;33m\u001b[0m\u001b[1;33m\u001b[0m\u001b[1;33m\u001b[0m\u001b[0m\n",
      "\u001b[1;32m~\\Anaconda3\\lib\\site-packages\\requests\\adapters.py\u001b[0m in \u001b[0;36msend\u001b[1;34m(self, request, stream, timeout, verify, cert, proxies)\u001b[0m\n\u001b[0;32m    447\u001b[0m                     \u001b[0mdecode_content\u001b[0m\u001b[1;33m=\u001b[0m\u001b[1;32mFalse\u001b[0m\u001b[1;33m,\u001b[0m\u001b[1;33m\u001b[0m\u001b[1;33m\u001b[0m\u001b[0m\n\u001b[0;32m    448\u001b[0m                     \u001b[0mretries\u001b[0m\u001b[1;33m=\u001b[0m\u001b[0mself\u001b[0m\u001b[1;33m.\u001b[0m\u001b[0mmax_retries\u001b[0m\u001b[1;33m,\u001b[0m\u001b[1;33m\u001b[0m\u001b[1;33m\u001b[0m\u001b[0m\n\u001b[1;32m--> 449\u001b[1;33m                     \u001b[0mtimeout\u001b[0m\u001b[1;33m=\u001b[0m\u001b[0mtimeout\u001b[0m\u001b[1;33m\u001b[0m\u001b[1;33m\u001b[0m\u001b[0m\n\u001b[0m\u001b[0;32m    450\u001b[0m                 )\n\u001b[0;32m    451\u001b[0m \u001b[1;33m\u001b[0m\u001b[0m\n",
      "\u001b[1;32m~\\Anaconda3\\lib\\site-packages\\urllib3\\connectionpool.py\u001b[0m in \u001b[0;36murlopen\u001b[1;34m(self, method, url, body, headers, retries, redirect, assert_same_host, timeout, pool_timeout, release_conn, chunked, body_pos, **response_kw)\u001b[0m\n\u001b[0;32m    598\u001b[0m                                                   \u001b[0mtimeout\u001b[0m\u001b[1;33m=\u001b[0m\u001b[0mtimeout_obj\u001b[0m\u001b[1;33m,\u001b[0m\u001b[1;33m\u001b[0m\u001b[1;33m\u001b[0m\u001b[0m\n\u001b[0;32m    599\u001b[0m                                                   \u001b[0mbody\u001b[0m\u001b[1;33m=\u001b[0m\u001b[0mbody\u001b[0m\u001b[1;33m,\u001b[0m \u001b[0mheaders\u001b[0m\u001b[1;33m=\u001b[0m\u001b[0mheaders\u001b[0m\u001b[1;33m,\u001b[0m\u001b[1;33m\u001b[0m\u001b[1;33m\u001b[0m\u001b[0m\n\u001b[1;32m--> 600\u001b[1;33m                                                   chunked=chunked)\n\u001b[0m\u001b[0;32m    601\u001b[0m \u001b[1;33m\u001b[0m\u001b[0m\n\u001b[0;32m    602\u001b[0m             \u001b[1;31m# If we're going to release the connection in ``finally:``, then\u001b[0m\u001b[1;33m\u001b[0m\u001b[1;33m\u001b[0m\u001b[1;33m\u001b[0m\u001b[0m\n",
      "\u001b[1;32m~\\Anaconda3\\lib\\site-packages\\urllib3\\connectionpool.py\u001b[0m in \u001b[0;36m_make_request\u001b[1;34m(self, conn, method, url, timeout, chunked, **httplib_request_kw)\u001b[0m\n\u001b[0;32m    352\u001b[0m             \u001b[0mconn\u001b[0m\u001b[1;33m.\u001b[0m\u001b[0mrequest_chunked\u001b[0m\u001b[1;33m(\u001b[0m\u001b[0mmethod\u001b[0m\u001b[1;33m,\u001b[0m \u001b[0murl\u001b[0m\u001b[1;33m,\u001b[0m \u001b[1;33m**\u001b[0m\u001b[0mhttplib_request_kw\u001b[0m\u001b[1;33m)\u001b[0m\u001b[1;33m\u001b[0m\u001b[1;33m\u001b[0m\u001b[0m\n\u001b[0;32m    353\u001b[0m         \u001b[1;32melse\u001b[0m\u001b[1;33m:\u001b[0m\u001b[1;33m\u001b[0m\u001b[1;33m\u001b[0m\u001b[0m\n\u001b[1;32m--> 354\u001b[1;33m             \u001b[0mconn\u001b[0m\u001b[1;33m.\u001b[0m\u001b[0mrequest\u001b[0m\u001b[1;33m(\u001b[0m\u001b[0mmethod\u001b[0m\u001b[1;33m,\u001b[0m \u001b[0murl\u001b[0m\u001b[1;33m,\u001b[0m \u001b[1;33m**\u001b[0m\u001b[0mhttplib_request_kw\u001b[0m\u001b[1;33m)\u001b[0m\u001b[1;33m\u001b[0m\u001b[1;33m\u001b[0m\u001b[0m\n\u001b[0m\u001b[0;32m    355\u001b[0m \u001b[1;33m\u001b[0m\u001b[0m\n\u001b[0;32m    356\u001b[0m         \u001b[1;31m# Reset the timeout for the recv() on the socket\u001b[0m\u001b[1;33m\u001b[0m\u001b[1;33m\u001b[0m\u001b[1;33m\u001b[0m\u001b[0m\n",
      "\u001b[1;32m~\\Anaconda3\\lib\\http\\client.py\u001b[0m in \u001b[0;36mrequest\u001b[1;34m(self, method, url, body, headers, encode_chunked)\u001b[0m\n\u001b[0;32m   1242\u001b[0m                 encode_chunked=False):\n\u001b[0;32m   1243\u001b[0m         \u001b[1;34m\"\"\"Send a complete request to the server.\"\"\"\u001b[0m\u001b[1;33m\u001b[0m\u001b[1;33m\u001b[0m\u001b[0m\n\u001b[1;32m-> 1244\u001b[1;33m         \u001b[0mself\u001b[0m\u001b[1;33m.\u001b[0m\u001b[0m_send_request\u001b[0m\u001b[1;33m(\u001b[0m\u001b[0mmethod\u001b[0m\u001b[1;33m,\u001b[0m \u001b[0murl\u001b[0m\u001b[1;33m,\u001b[0m \u001b[0mbody\u001b[0m\u001b[1;33m,\u001b[0m \u001b[0mheaders\u001b[0m\u001b[1;33m,\u001b[0m \u001b[0mencode_chunked\u001b[0m\u001b[1;33m)\u001b[0m\u001b[1;33m\u001b[0m\u001b[1;33m\u001b[0m\u001b[0m\n\u001b[0m\u001b[0;32m   1245\u001b[0m \u001b[1;33m\u001b[0m\u001b[0m\n\u001b[0;32m   1246\u001b[0m     \u001b[1;32mdef\u001b[0m \u001b[0m_send_request\u001b[0m\u001b[1;33m(\u001b[0m\u001b[0mself\u001b[0m\u001b[1;33m,\u001b[0m \u001b[0mmethod\u001b[0m\u001b[1;33m,\u001b[0m \u001b[0murl\u001b[0m\u001b[1;33m,\u001b[0m \u001b[0mbody\u001b[0m\u001b[1;33m,\u001b[0m \u001b[0mheaders\u001b[0m\u001b[1;33m,\u001b[0m \u001b[0mencode_chunked\u001b[0m\u001b[1;33m)\u001b[0m\u001b[1;33m:\u001b[0m\u001b[1;33m\u001b[0m\u001b[1;33m\u001b[0m\u001b[0m\n",
      "\u001b[1;32m~\\Anaconda3\\lib\\http\\client.py\u001b[0m in \u001b[0;36m_send_request\u001b[1;34m(self, method, url, body, headers, encode_chunked)\u001b[0m\n\u001b[0;32m   1288\u001b[0m             \u001b[1;31m# default charset of iso-8859-1.\u001b[0m\u001b[1;33m\u001b[0m\u001b[1;33m\u001b[0m\u001b[1;33m\u001b[0m\u001b[0m\n\u001b[0;32m   1289\u001b[0m             \u001b[0mbody\u001b[0m \u001b[1;33m=\u001b[0m \u001b[0m_encode\u001b[0m\u001b[1;33m(\u001b[0m\u001b[0mbody\u001b[0m\u001b[1;33m,\u001b[0m \u001b[1;34m'body'\u001b[0m\u001b[1;33m)\u001b[0m\u001b[1;33m\u001b[0m\u001b[1;33m\u001b[0m\u001b[0m\n\u001b[1;32m-> 1290\u001b[1;33m         \u001b[0mself\u001b[0m\u001b[1;33m.\u001b[0m\u001b[0mendheaders\u001b[0m\u001b[1;33m(\u001b[0m\u001b[0mbody\u001b[0m\u001b[1;33m,\u001b[0m \u001b[0mencode_chunked\u001b[0m\u001b[1;33m=\u001b[0m\u001b[0mencode_chunked\u001b[0m\u001b[1;33m)\u001b[0m\u001b[1;33m\u001b[0m\u001b[1;33m\u001b[0m\u001b[0m\n\u001b[0m\u001b[0;32m   1291\u001b[0m \u001b[1;33m\u001b[0m\u001b[0m\n\u001b[0;32m   1292\u001b[0m     \u001b[1;32mdef\u001b[0m \u001b[0mgetresponse\u001b[0m\u001b[1;33m(\u001b[0m\u001b[0mself\u001b[0m\u001b[1;33m)\u001b[0m\u001b[1;33m:\u001b[0m\u001b[1;33m\u001b[0m\u001b[1;33m\u001b[0m\u001b[0m\n",
      "\u001b[1;32m~\\Anaconda3\\lib\\http\\client.py\u001b[0m in \u001b[0;36mendheaders\u001b[1;34m(self, message_body, encode_chunked)\u001b[0m\n\u001b[0;32m   1237\u001b[0m         \u001b[1;32melse\u001b[0m\u001b[1;33m:\u001b[0m\u001b[1;33m\u001b[0m\u001b[1;33m\u001b[0m\u001b[0m\n\u001b[0;32m   1238\u001b[0m             \u001b[1;32mraise\u001b[0m \u001b[0mCannotSendHeader\u001b[0m\u001b[1;33m(\u001b[0m\u001b[1;33m)\u001b[0m\u001b[1;33m\u001b[0m\u001b[1;33m\u001b[0m\u001b[0m\n\u001b[1;32m-> 1239\u001b[1;33m         \u001b[0mself\u001b[0m\u001b[1;33m.\u001b[0m\u001b[0m_send_output\u001b[0m\u001b[1;33m(\u001b[0m\u001b[0mmessage_body\u001b[0m\u001b[1;33m,\u001b[0m \u001b[0mencode_chunked\u001b[0m\u001b[1;33m=\u001b[0m\u001b[0mencode_chunked\u001b[0m\u001b[1;33m)\u001b[0m\u001b[1;33m\u001b[0m\u001b[1;33m\u001b[0m\u001b[0m\n\u001b[0m\u001b[0;32m   1240\u001b[0m \u001b[1;33m\u001b[0m\u001b[0m\n\u001b[0;32m   1241\u001b[0m     def request(self, method, url, body=None, headers={}, *,\n",
      "\u001b[1;32m~\\Anaconda3\\lib\\http\\client.py\u001b[0m in \u001b[0;36m_send_output\u001b[1;34m(self, message_body, encode_chunked)\u001b[0m\n\u001b[0;32m   1024\u001b[0m         \u001b[0mmsg\u001b[0m \u001b[1;33m=\u001b[0m \u001b[1;34mb\"\\r\\n\"\u001b[0m\u001b[1;33m.\u001b[0m\u001b[0mjoin\u001b[0m\u001b[1;33m(\u001b[0m\u001b[0mself\u001b[0m\u001b[1;33m.\u001b[0m\u001b[0m_buffer\u001b[0m\u001b[1;33m)\u001b[0m\u001b[1;33m\u001b[0m\u001b[1;33m\u001b[0m\u001b[0m\n\u001b[0;32m   1025\u001b[0m         \u001b[1;32mdel\u001b[0m \u001b[0mself\u001b[0m\u001b[1;33m.\u001b[0m\u001b[0m_buffer\u001b[0m\u001b[1;33m[\u001b[0m\u001b[1;33m:\u001b[0m\u001b[1;33m]\u001b[0m\u001b[1;33m\u001b[0m\u001b[1;33m\u001b[0m\u001b[0m\n\u001b[1;32m-> 1026\u001b[1;33m         \u001b[0mself\u001b[0m\u001b[1;33m.\u001b[0m\u001b[0msend\u001b[0m\u001b[1;33m(\u001b[0m\u001b[0mmsg\u001b[0m\u001b[1;33m)\u001b[0m\u001b[1;33m\u001b[0m\u001b[1;33m\u001b[0m\u001b[0m\n\u001b[0m\u001b[0;32m   1027\u001b[0m \u001b[1;33m\u001b[0m\u001b[0m\n\u001b[0;32m   1028\u001b[0m         \u001b[1;32mif\u001b[0m \u001b[0mmessage_body\u001b[0m \u001b[1;32mis\u001b[0m \u001b[1;32mnot\u001b[0m \u001b[1;32mNone\u001b[0m\u001b[1;33m:\u001b[0m\u001b[1;33m\u001b[0m\u001b[1;33m\u001b[0m\u001b[0m\n",
      "\u001b[1;32m~\\Anaconda3\\lib\\http\\client.py\u001b[0m in \u001b[0;36msend\u001b[1;34m(self, data)\u001b[0m\n\u001b[0;32m    964\u001b[0m         \u001b[1;32mif\u001b[0m \u001b[0mself\u001b[0m\u001b[1;33m.\u001b[0m\u001b[0msock\u001b[0m \u001b[1;32mis\u001b[0m \u001b[1;32mNone\u001b[0m\u001b[1;33m:\u001b[0m\u001b[1;33m\u001b[0m\u001b[1;33m\u001b[0m\u001b[0m\n\u001b[0;32m    965\u001b[0m             \u001b[1;32mif\u001b[0m \u001b[0mself\u001b[0m\u001b[1;33m.\u001b[0m\u001b[0mauto_open\u001b[0m\u001b[1;33m:\u001b[0m\u001b[1;33m\u001b[0m\u001b[1;33m\u001b[0m\u001b[0m\n\u001b[1;32m--> 966\u001b[1;33m                 \u001b[0mself\u001b[0m\u001b[1;33m.\u001b[0m\u001b[0mconnect\u001b[0m\u001b[1;33m(\u001b[0m\u001b[1;33m)\u001b[0m\u001b[1;33m\u001b[0m\u001b[1;33m\u001b[0m\u001b[0m\n\u001b[0m\u001b[0;32m    967\u001b[0m             \u001b[1;32melse\u001b[0m\u001b[1;33m:\u001b[0m\u001b[1;33m\u001b[0m\u001b[1;33m\u001b[0m\u001b[0m\n\u001b[0;32m    968\u001b[0m                 \u001b[1;32mraise\u001b[0m \u001b[0mNotConnected\u001b[0m\u001b[1;33m(\u001b[0m\u001b[1;33m)\u001b[0m\u001b[1;33m\u001b[0m\u001b[1;33m\u001b[0m\u001b[0m\n",
      "\u001b[1;32m~\\Anaconda3\\lib\\site-packages\\urllib3\\connection.py\u001b[0m in \u001b[0;36mconnect\u001b[1;34m(self)\u001b[0m\n\u001b[0;32m    179\u001b[0m \u001b[1;33m\u001b[0m\u001b[0m\n\u001b[0;32m    180\u001b[0m     \u001b[1;32mdef\u001b[0m \u001b[0mconnect\u001b[0m\u001b[1;33m(\u001b[0m\u001b[0mself\u001b[0m\u001b[1;33m)\u001b[0m\u001b[1;33m:\u001b[0m\u001b[1;33m\u001b[0m\u001b[1;33m\u001b[0m\u001b[0m\n\u001b[1;32m--> 181\u001b[1;33m         \u001b[0mconn\u001b[0m \u001b[1;33m=\u001b[0m \u001b[0mself\u001b[0m\u001b[1;33m.\u001b[0m\u001b[0m_new_conn\u001b[0m\u001b[1;33m(\u001b[0m\u001b[1;33m)\u001b[0m\u001b[1;33m\u001b[0m\u001b[1;33m\u001b[0m\u001b[0m\n\u001b[0m\u001b[0;32m    182\u001b[0m         \u001b[0mself\u001b[0m\u001b[1;33m.\u001b[0m\u001b[0m_prepare_conn\u001b[0m\u001b[1;33m(\u001b[0m\u001b[0mconn\u001b[0m\u001b[1;33m)\u001b[0m\u001b[1;33m\u001b[0m\u001b[1;33m\u001b[0m\u001b[0m\n\u001b[0;32m    183\u001b[0m \u001b[1;33m\u001b[0m\u001b[0m\n",
      "\u001b[1;32m~\\Anaconda3\\lib\\site-packages\\urllib3\\connection.py\u001b[0m in \u001b[0;36m_new_conn\u001b[1;34m(self)\u001b[0m\n\u001b[0;32m    157\u001b[0m         \u001b[1;32mtry\u001b[0m\u001b[1;33m:\u001b[0m\u001b[1;33m\u001b[0m\u001b[1;33m\u001b[0m\u001b[0m\n\u001b[0;32m    158\u001b[0m             conn = connection.create_connection(\n\u001b[1;32m--> 159\u001b[1;33m                 (self._dns_host, self.port), self.timeout, **extra_kw)\n\u001b[0m\u001b[0;32m    160\u001b[0m \u001b[1;33m\u001b[0m\u001b[0m\n\u001b[0;32m    161\u001b[0m         \u001b[1;32mexcept\u001b[0m \u001b[0mSocketTimeout\u001b[0m \u001b[1;32mas\u001b[0m \u001b[0me\u001b[0m\u001b[1;33m:\u001b[0m\u001b[1;33m\u001b[0m\u001b[1;33m\u001b[0m\u001b[0m\n",
      "\u001b[1;32m~\\Anaconda3\\lib\\site-packages\\urllib3\\util\\connection.py\u001b[0m in \u001b[0;36mcreate_connection\u001b[1;34m(address, timeout, source_address, socket_options)\u001b[0m\n\u001b[0;32m     68\u001b[0m             \u001b[1;32mif\u001b[0m \u001b[0msource_address\u001b[0m\u001b[1;33m:\u001b[0m\u001b[1;33m\u001b[0m\u001b[1;33m\u001b[0m\u001b[0m\n\u001b[0;32m     69\u001b[0m                 \u001b[0msock\u001b[0m\u001b[1;33m.\u001b[0m\u001b[0mbind\u001b[0m\u001b[1;33m(\u001b[0m\u001b[0msource_address\u001b[0m\u001b[1;33m)\u001b[0m\u001b[1;33m\u001b[0m\u001b[1;33m\u001b[0m\u001b[0m\n\u001b[1;32m---> 70\u001b[1;33m             \u001b[0msock\u001b[0m\u001b[1;33m.\u001b[0m\u001b[0mconnect\u001b[0m\u001b[1;33m(\u001b[0m\u001b[0msa\u001b[0m\u001b[1;33m)\u001b[0m\u001b[1;33m\u001b[0m\u001b[1;33m\u001b[0m\u001b[0m\n\u001b[0m\u001b[0;32m     71\u001b[0m             \u001b[1;32mreturn\u001b[0m \u001b[0msock\u001b[0m\u001b[1;33m\u001b[0m\u001b[1;33m\u001b[0m\u001b[0m\n\u001b[0;32m     72\u001b[0m \u001b[1;33m\u001b[0m\u001b[0m\n",
      "\u001b[1;31mKeyboardInterrupt\u001b[0m: "
     ]
    }
   ],
   "source": [
    "book_num = range(1,101)\n",
    "for x in book_num:\n",
    "    go_gutenberg(\"Text\",x)"
   ]
  },
  {
   "cell_type": "markdown",
   "metadata": {},
   "source": [
    "# get author names for those 100 books"
   ]
  },
  {
   "cell_type": "code",
   "execution_count": 6,
   "metadata": {},
   "outputs": [],
   "source": [
    "d1={'author':[],'book_num':[]}\n",
    "def extract_author(book_num):\n",
    "    url = \"https://www.gutenberg.org/ebooks/\" + str(book_num)\n",
    "    r =requests.get(url)\n",
    "    r_html  = r.text\n",
    "    soup = BeautifulSoup(r_html,\"html.parser\")\n",
    "    #d1={'author':[]}\n",
    "    for link in soup.find_all('a'):\n",
    "         if len(link.text.strip()) > 1 and bool(\n",
    "            re.search('ebooks/author',link['href'])) and not bool(\n",
    "            re.search('by',link.text)):\n",
    "            d1['author'].append(link.text)\n",
    "            d1['book_num'].append(book_num)\n",
    "    #blog_list2 = pd.DataFrame(d1)       \n",
    "    #return blog_list2\n",
    "#extract_author(1)"
   ]
  },
  {
   "cell_type": "code",
   "execution_count": 7,
   "metadata": {},
   "outputs": [],
   "source": [
    "book_num = range(1,101)\n",
    "for x in book_num:\n",
    "    extract_author(x)"
   ]
  },
  {
   "cell_type": "code",
   "execution_count": 8,
   "metadata": {},
   "outputs": [],
   "source": [
    "author_names=pd.DataFrame(d1)"
   ]
  },
  {
   "cell_type": "code",
   "execution_count": 9,
   "metadata": {},
   "outputs": [
    {
     "data": {
      "text/html": [
       "<div>\n",
       "<style scoped>\n",
       "    .dataframe tbody tr th:only-of-type {\n",
       "        vertical-align: middle;\n",
       "    }\n",
       "\n",
       "    .dataframe tbody tr th {\n",
       "        vertical-align: top;\n",
       "    }\n",
       "\n",
       "    .dataframe thead th {\n",
       "        text-align: right;\n",
       "    }\n",
       "</style>\n",
       "<table border=\"1\" class=\"dataframe\">\n",
       "  <thead>\n",
       "    <tr style=\"text-align: right;\">\n",
       "      <th></th>\n",
       "      <th>author</th>\n",
       "      <th>book_num</th>\n",
       "    </tr>\n",
       "  </thead>\n",
       "  <tbody>\n",
       "    <tr>\n",
       "      <th>0</th>\n",
       "      <td>Jefferson, Thomas, 1743-1826</td>\n",
       "      <td>1</td>\n",
       "    </tr>\n",
       "    <tr>\n",
       "      <th>1</th>\n",
       "      <td>United States</td>\n",
       "      <td>2</td>\n",
       "    </tr>\n",
       "    <tr>\n",
       "      <th>2</th>\n",
       "      <td>Kennedy, John F. (John Fitzgerald), 1917-1963</td>\n",
       "      <td>3</td>\n",
       "    </tr>\n",
       "    <tr>\n",
       "      <th>3</th>\n",
       "      <td>Lincoln, Abraham, 1809-1865</td>\n",
       "      <td>4</td>\n",
       "    </tr>\n",
       "    <tr>\n",
       "      <th>4</th>\n",
       "      <td>United States</td>\n",
       "      <td>5</td>\n",
       "    </tr>\n",
       "  </tbody>\n",
       "</table>\n",
       "</div>"
      ],
      "text/plain": [
       "                                          author  book_num\n",
       "0                   Jefferson, Thomas, 1743-1826         1\n",
       "1                                  United States         2\n",
       "2  Kennedy, John F. (John Fitzgerald), 1917-1963         3\n",
       "3                    Lincoln, Abraham, 1809-1865         4\n",
       "4                                  United States         5"
      ]
     },
     "execution_count": 9,
     "metadata": {},
     "output_type": "execute_result"
    }
   ],
   "source": [
    "author_names.head()"
   ]
  },
  {
   "cell_type": "code",
   "execution_count": 10,
   "metadata": {},
   "outputs": [
    {
     "data": {
      "text/plain": [
       "(109, 2)"
      ]
     },
     "execution_count": 10,
     "metadata": {},
     "output_type": "execute_result"
    }
   ],
   "source": [
    "author_names.shape"
   ]
  },
  {
   "cell_type": "code",
   "execution_count": 11,
   "metadata": {
    "scrolled": true
   },
   "outputs": [
    {
     "data": {
      "text/html": [
       "<div>\n",
       "<style scoped>\n",
       "    .dataframe tbody tr th:only-of-type {\n",
       "        vertical-align: middle;\n",
       "    }\n",
       "\n",
       "    .dataframe tbody tr th {\n",
       "        vertical-align: top;\n",
       "    }\n",
       "\n",
       "    .dataframe thead th {\n",
       "        text-align: right;\n",
       "    }\n",
       "</style>\n",
       "<table border=\"1\" class=\"dataframe\">\n",
       "  <thead>\n",
       "    <tr style=\"text-align: right;\">\n",
       "      <th></th>\n",
       "      <th>author</th>\n",
       "      <th>book_num</th>\n",
       "    </tr>\n",
       "  </thead>\n",
       "  <tbody>\n",
       "    <tr>\n",
       "      <th>0</th>\n",
       "      <td>Jefferson, Thomas, 1743-1826</td>\n",
       "      <td>1</td>\n",
       "    </tr>\n",
       "    <tr>\n",
       "      <th>1</th>\n",
       "      <td>United States</td>\n",
       "      <td>2</td>\n",
       "    </tr>\n",
       "    <tr>\n",
       "      <th>2</th>\n",
       "      <td>Kennedy, John F. (John Fitzgerald), 1917-1963</td>\n",
       "      <td>3</td>\n",
       "    </tr>\n",
       "    <tr>\n",
       "      <th>3</th>\n",
       "      <td>Lincoln, Abraham, 1809-1865</td>\n",
       "      <td>4</td>\n",
       "    </tr>\n",
       "    <tr>\n",
       "      <th>4</th>\n",
       "      <td>United States</td>\n",
       "      <td>5</td>\n",
       "    </tr>\n",
       "  </tbody>\n",
       "</table>\n",
       "</div>"
      ],
      "text/plain": [
       "                                          author  book_num\n",
       "0                   Jefferson, Thomas, 1743-1826         1\n",
       "1                                  United States         2\n",
       "2  Kennedy, John F. (John Fitzgerald), 1917-1963         3\n",
       "3                    Lincoln, Abraham, 1809-1865         4\n",
       "4                                  United States         5"
      ]
     },
     "execution_count": 11,
     "metadata": {},
     "output_type": "execute_result"
    }
   ],
   "source": [
    "author_names.head()"
   ]
  },
  {
   "cell_type": "markdown",
   "metadata": {},
   "source": [
    "# read all books and book number in dataframe"
   ]
  },
  {
   "cell_type": "code",
   "execution_count": 12,
   "metadata": {},
   "outputs": [],
   "source": [
    "import os\n",
    "path='C:/Users/91989/Documents/PYTHON/INSOFE_Internship/Task3/Book_author/data'\n",
    "all_files = os.listdir(path)\n",
    "new_list = {'text':[],'name':[]}\n",
    "for fle in all_files:\n",
    "   # open the file and then call .read() to get the text\n",
    "   with open(os.path.join(path, fle),\"rb\") as f:\n",
    "      text = f.read()\n",
    "      new_list['text'].append(text)\n",
    "      new_list['name'].append(fle)"
   ]
  },
  {
   "cell_type": "code",
   "execution_count": 13,
   "metadata": {},
   "outputs": [],
   "source": [
    "train_data=pd.DataFrame(new_list)"
   ]
  },
  {
   "cell_type": "code",
   "execution_count": 14,
   "metadata": {},
   "outputs": [
    {
     "data": {
      "text/html": [
       "<div>\n",
       "<style scoped>\n",
       "    .dataframe tbody tr th:only-of-type {\n",
       "        vertical-align: middle;\n",
       "    }\n",
       "\n",
       "    .dataframe tbody tr th {\n",
       "        vertical-align: top;\n",
       "    }\n",
       "\n",
       "    .dataframe thead th {\n",
       "        text-align: right;\n",
       "    }\n",
       "</style>\n",
       "<table border=\"1\" class=\"dataframe\">\n",
       "  <thead>\n",
       "    <tr style=\"text-align: right;\">\n",
       "      <th></th>\n",
       "      <th>text</th>\n",
       "      <th>name</th>\n",
       "    </tr>\n",
       "  </thead>\n",
       "  <tbody>\n",
       "    <tr>\n",
       "      <th>0</th>\n",
       "      <td>b'\\xef\\xbb\\xbf\\r\\n\\r\\n========================...</td>\n",
       "      <td>Books1.txt</td>\n",
       "    </tr>\n",
       "    <tr>\n",
       "      <th>1</th>\n",
       "      <td>b'\\xef\\xbb\\xbfThe Project Gutenberg EBook of T...</td>\n",
       "      <td>Books10.txt</td>\n",
       "    </tr>\n",
       "    <tr>\n",
       "      <th>2</th>\n",
       "      <td>b'\\xef\\xbb\\xbf\\r\\nProject Gutenberg\\xe2\\x80\\x9...</td>\n",
       "      <td>Books100.txt</td>\n",
       "    </tr>\n",
       "    <tr>\n",
       "      <th>3</th>\n",
       "      <td>b'The Project Gutenberg EBook of Alice\\xe2\\x80...</td>\n",
       "      <td>Books11.txt</td>\n",
       "    </tr>\n",
       "    <tr>\n",
       "      <th>4</th>\n",
       "      <td>b'\\xef\\xbb\\xbfThe Project Gutenberg EBook of T...</td>\n",
       "      <td>Books12.txt</td>\n",
       "    </tr>\n",
       "  </tbody>\n",
       "</table>\n",
       "</div>"
      ],
      "text/plain": [
       "                                                text          name\n",
       "0  b'\\xef\\xbb\\xbf\\r\\n\\r\\n========================...    Books1.txt\n",
       "1  b'\\xef\\xbb\\xbfThe Project Gutenberg EBook of T...   Books10.txt\n",
       "2  b'\\xef\\xbb\\xbf\\r\\nProject Gutenberg\\xe2\\x80\\x9...  Books100.txt\n",
       "3  b'The Project Gutenberg EBook of Alice\\xe2\\x80...   Books11.txt\n",
       "4  b'\\xef\\xbb\\xbfThe Project Gutenberg EBook of T...   Books12.txt"
      ]
     },
     "execution_count": 14,
     "metadata": {},
     "output_type": "execute_result"
    }
   ],
   "source": [
    "train_data.head()"
   ]
  },
  {
   "cell_type": "code",
   "execution_count": 15,
   "metadata": {},
   "outputs": [],
   "source": [
    "train_data['name']=train_data.name.apply(lambda name: name.split('.')[0].strip())"
   ]
  },
  {
   "cell_type": "code",
   "execution_count": 16,
   "metadata": {},
   "outputs": [],
   "source": [
    "train_data['name']=train_data.name.apply(lambda name: name.split('s')[1].strip())"
   ]
  },
  {
   "cell_type": "code",
   "execution_count": 17,
   "metadata": {},
   "outputs": [
    {
     "data": {
      "text/html": [
       "<div>\n",
       "<style scoped>\n",
       "    .dataframe tbody tr th:only-of-type {\n",
       "        vertical-align: middle;\n",
       "    }\n",
       "\n",
       "    .dataframe tbody tr th {\n",
       "        vertical-align: top;\n",
       "    }\n",
       "\n",
       "    .dataframe thead th {\n",
       "        text-align: right;\n",
       "    }\n",
       "</style>\n",
       "<table border=\"1\" class=\"dataframe\">\n",
       "  <thead>\n",
       "    <tr style=\"text-align: right;\">\n",
       "      <th></th>\n",
       "      <th>text</th>\n",
       "      <th>name</th>\n",
       "    </tr>\n",
       "  </thead>\n",
       "  <tbody>\n",
       "    <tr>\n",
       "      <th>0</th>\n",
       "      <td>b'\\xef\\xbb\\xbf\\r\\n\\r\\n========================...</td>\n",
       "      <td>1</td>\n",
       "    </tr>\n",
       "    <tr>\n",
       "      <th>1</th>\n",
       "      <td>b'\\xef\\xbb\\xbfThe Project Gutenberg EBook of T...</td>\n",
       "      <td>10</td>\n",
       "    </tr>\n",
       "    <tr>\n",
       "      <th>2</th>\n",
       "      <td>b'\\xef\\xbb\\xbf\\r\\nProject Gutenberg\\xe2\\x80\\x9...</td>\n",
       "      <td>100</td>\n",
       "    </tr>\n",
       "    <tr>\n",
       "      <th>3</th>\n",
       "      <td>b'The Project Gutenberg EBook of Alice\\xe2\\x80...</td>\n",
       "      <td>11</td>\n",
       "    </tr>\n",
       "    <tr>\n",
       "      <th>4</th>\n",
       "      <td>b'\\xef\\xbb\\xbfThe Project Gutenberg EBook of T...</td>\n",
       "      <td>12</td>\n",
       "    </tr>\n",
       "  </tbody>\n",
       "</table>\n",
       "</div>"
      ],
      "text/plain": [
       "                                                text name\n",
       "0  b'\\xef\\xbb\\xbf\\r\\n\\r\\n========================...    1\n",
       "1  b'\\xef\\xbb\\xbfThe Project Gutenberg EBook of T...   10\n",
       "2  b'\\xef\\xbb\\xbf\\r\\nProject Gutenberg\\xe2\\x80\\x9...  100\n",
       "3  b'The Project Gutenberg EBook of Alice\\xe2\\x80...   11\n",
       "4  b'\\xef\\xbb\\xbfThe Project Gutenberg EBook of T...   12"
      ]
     },
     "execution_count": 17,
     "metadata": {},
     "output_type": "execute_result"
    }
   ],
   "source": [
    "train_data.head()"
   ]
  },
  {
   "cell_type": "code",
   "execution_count": 18,
   "metadata": {},
   "outputs": [
    {
     "name": "stdout",
     "output_type": "stream",
     "text": [
      "<class 'pandas.core.frame.DataFrame'>\n",
      "RangeIndex: 99 entries, 0 to 98\n",
      "Data columns (total 2 columns):\n",
      "text    99 non-null object\n",
      "name    99 non-null object\n",
      "dtypes: object(2)\n",
      "memory usage: 1.6+ KB\n"
     ]
    }
   ],
   "source": [
    "train_data.info()"
   ]
  },
  {
   "cell_type": "code",
   "execution_count": 19,
   "metadata": {},
   "outputs": [],
   "source": [
    "train_data['name'] = train_data['name'].astype('int')"
   ]
  },
  {
   "cell_type": "code",
   "execution_count": 20,
   "metadata": {},
   "outputs": [],
   "source": [
    "train_data=train_data.sort_values(by=['name'])"
   ]
  },
  {
   "cell_type": "code",
   "execution_count": 21,
   "metadata": {},
   "outputs": [
    {
     "data": {
      "text/html": [
       "<div>\n",
       "<style scoped>\n",
       "    .dataframe tbody tr th:only-of-type {\n",
       "        vertical-align: middle;\n",
       "    }\n",
       "\n",
       "    .dataframe tbody tr th {\n",
       "        vertical-align: top;\n",
       "    }\n",
       "\n",
       "    .dataframe thead th {\n",
       "        text-align: right;\n",
       "    }\n",
       "</style>\n",
       "<table border=\"1\" class=\"dataframe\">\n",
       "  <thead>\n",
       "    <tr style=\"text-align: right;\">\n",
       "      <th></th>\n",
       "      <th>text</th>\n",
       "      <th>name</th>\n",
       "    </tr>\n",
       "  </thead>\n",
       "  <tbody>\n",
       "    <tr>\n",
       "      <th>0</th>\n",
       "      <td>b'\\xef\\xbb\\xbf\\r\\n\\r\\n========================...</td>\n",
       "      <td>1</td>\n",
       "    </tr>\n",
       "    <tr>\n",
       "      <th>12</th>\n",
       "      <td>b'\\xef\\xbb\\xbf**Welcome To The World of Free P...</td>\n",
       "      <td>2</td>\n",
       "    </tr>\n",
       "    <tr>\n",
       "      <th>23</th>\n",
       "      <td>b'\\xef\\xbb\\xbf**Welcome To The World of Free P...</td>\n",
       "      <td>3</td>\n",
       "    </tr>\n",
       "    <tr>\n",
       "      <th>34</th>\n",
       "      <td>b'\\xef\\xbb\\xbf\\r\\n\\r\\n**Welcome To The World o...</td>\n",
       "      <td>4</td>\n",
       "    </tr>\n",
       "    <tr>\n",
       "      <th>44</th>\n",
       "      <td>b'\\xef\\xbb\\xbfThe Project Gutenberg EBook of T...</td>\n",
       "      <td>5</td>\n",
       "    </tr>\n",
       "  </tbody>\n",
       "</table>\n",
       "</div>"
      ],
      "text/plain": [
       "                                                 text  name\n",
       "0   b'\\xef\\xbb\\xbf\\r\\n\\r\\n========================...     1\n",
       "12  b'\\xef\\xbb\\xbf**Welcome To The World of Free P...     2\n",
       "23  b'\\xef\\xbb\\xbf**Welcome To The World of Free P...     3\n",
       "34  b'\\xef\\xbb\\xbf\\r\\n\\r\\n**Welcome To The World o...     4\n",
       "44  b'\\xef\\xbb\\xbfThe Project Gutenberg EBook of T...     5"
      ]
     },
     "execution_count": 21,
     "metadata": {},
     "output_type": "execute_result"
    }
   ],
   "source": [
    "train_data.head()"
   ]
  },
  {
   "cell_type": "code",
   "execution_count": 22,
   "metadata": {},
   "outputs": [
    {
     "data": {
      "text/plain": [
       "(99, 2)"
      ]
     },
     "execution_count": 22,
     "metadata": {},
     "output_type": "execute_result"
    }
   ],
   "source": [
    "train_data.shape"
   ]
  },
  {
   "cell_type": "code",
   "execution_count": 23,
   "metadata": {},
   "outputs": [],
   "source": [
    "train_data.reset_index(inplace=True)"
   ]
  },
  {
   "cell_type": "code",
   "execution_count": 24,
   "metadata": {},
   "outputs": [
    {
     "data": {
      "text/html": [
       "<div>\n",
       "<style scoped>\n",
       "    .dataframe tbody tr th:only-of-type {\n",
       "        vertical-align: middle;\n",
       "    }\n",
       "\n",
       "    .dataframe tbody tr th {\n",
       "        vertical-align: top;\n",
       "    }\n",
       "\n",
       "    .dataframe thead th {\n",
       "        text-align: right;\n",
       "    }\n",
       "</style>\n",
       "<table border=\"1\" class=\"dataframe\">\n",
       "  <thead>\n",
       "    <tr style=\"text-align: right;\">\n",
       "      <th></th>\n",
       "      <th>index</th>\n",
       "      <th>text</th>\n",
       "      <th>name</th>\n",
       "    </tr>\n",
       "  </thead>\n",
       "  <tbody>\n",
       "    <tr>\n",
       "      <th>0</th>\n",
       "      <td>0</td>\n",
       "      <td>b'\\xef\\xbb\\xbf\\r\\n\\r\\n========================...</td>\n",
       "      <td>1</td>\n",
       "    </tr>\n",
       "    <tr>\n",
       "      <th>1</th>\n",
       "      <td>12</td>\n",
       "      <td>b'\\xef\\xbb\\xbf**Welcome To The World of Free P...</td>\n",
       "      <td>2</td>\n",
       "    </tr>\n",
       "    <tr>\n",
       "      <th>2</th>\n",
       "      <td>23</td>\n",
       "      <td>b'\\xef\\xbb\\xbf**Welcome To The World of Free P...</td>\n",
       "      <td>3</td>\n",
       "    </tr>\n",
       "    <tr>\n",
       "      <th>3</th>\n",
       "      <td>34</td>\n",
       "      <td>b'\\xef\\xbb\\xbf\\r\\n\\r\\n**Welcome To The World o...</td>\n",
       "      <td>4</td>\n",
       "    </tr>\n",
       "    <tr>\n",
       "      <th>4</th>\n",
       "      <td>44</td>\n",
       "      <td>b'\\xef\\xbb\\xbfThe Project Gutenberg EBook of T...</td>\n",
       "      <td>5</td>\n",
       "    </tr>\n",
       "  </tbody>\n",
       "</table>\n",
       "</div>"
      ],
      "text/plain": [
       "   index                                               text  name\n",
       "0      0  b'\\xef\\xbb\\xbf\\r\\n\\r\\n========================...     1\n",
       "1     12  b'\\xef\\xbb\\xbf**Welcome To The World of Free P...     2\n",
       "2     23  b'\\xef\\xbb\\xbf**Welcome To The World of Free P...     3\n",
       "3     34  b'\\xef\\xbb\\xbf\\r\\n\\r\\n**Welcome To The World o...     4\n",
       "4     44  b'\\xef\\xbb\\xbfThe Project Gutenberg EBook of T...     5"
      ]
     },
     "execution_count": 24,
     "metadata": {},
     "output_type": "execute_result"
    }
   ],
   "source": [
    "train_data.head()"
   ]
  },
  {
   "cell_type": "code",
   "execution_count": 25,
   "metadata": {},
   "outputs": [],
   "source": [
    "train_data.drop(\"index\",axis=1,inplace=True)"
   ]
  },
  {
   "cell_type": "code",
   "execution_count": 26,
   "metadata": {},
   "outputs": [],
   "source": [
    "train_data.columns=['book_text','book_num']"
   ]
  },
  {
   "cell_type": "code",
   "execution_count": 27,
   "metadata": {
    "scrolled": true
   },
   "outputs": [
    {
     "data": {
      "text/html": [
       "<div>\n",
       "<style scoped>\n",
       "    .dataframe tbody tr th:only-of-type {\n",
       "        vertical-align: middle;\n",
       "    }\n",
       "\n",
       "    .dataframe tbody tr th {\n",
       "        vertical-align: top;\n",
       "    }\n",
       "\n",
       "    .dataframe thead th {\n",
       "        text-align: right;\n",
       "    }\n",
       "</style>\n",
       "<table border=\"1\" class=\"dataframe\">\n",
       "  <thead>\n",
       "    <tr style=\"text-align: right;\">\n",
       "      <th></th>\n",
       "      <th>book_text</th>\n",
       "      <th>book_num</th>\n",
       "    </tr>\n",
       "  </thead>\n",
       "  <tbody>\n",
       "    <tr>\n",
       "      <th>0</th>\n",
       "      <td>b'\\xef\\xbb\\xbf\\r\\n\\r\\n========================...</td>\n",
       "      <td>1</td>\n",
       "    </tr>\n",
       "    <tr>\n",
       "      <th>1</th>\n",
       "      <td>b'\\xef\\xbb\\xbf**Welcome To The World of Free P...</td>\n",
       "      <td>2</td>\n",
       "    </tr>\n",
       "    <tr>\n",
       "      <th>2</th>\n",
       "      <td>b'\\xef\\xbb\\xbf**Welcome To The World of Free P...</td>\n",
       "      <td>3</td>\n",
       "    </tr>\n",
       "    <tr>\n",
       "      <th>3</th>\n",
       "      <td>b'\\xef\\xbb\\xbf\\r\\n\\r\\n**Welcome To The World o...</td>\n",
       "      <td>4</td>\n",
       "    </tr>\n",
       "    <tr>\n",
       "      <th>4</th>\n",
       "      <td>b'\\xef\\xbb\\xbfThe Project Gutenberg EBook of T...</td>\n",
       "      <td>5</td>\n",
       "    </tr>\n",
       "  </tbody>\n",
       "</table>\n",
       "</div>"
      ],
      "text/plain": [
       "                                           book_text  book_num\n",
       "0  b'\\xef\\xbb\\xbf\\r\\n\\r\\n========================...         1\n",
       "1  b'\\xef\\xbb\\xbf**Welcome To The World of Free P...         2\n",
       "2  b'\\xef\\xbb\\xbf**Welcome To The World of Free P...         3\n",
       "3  b'\\xef\\xbb\\xbf\\r\\n\\r\\n**Welcome To The World o...         4\n",
       "4  b'\\xef\\xbb\\xbfThe Project Gutenberg EBook of T...         5"
      ]
     },
     "execution_count": 27,
     "metadata": {},
     "output_type": "execute_result"
    }
   ],
   "source": [
    "train_data.head()"
   ]
  },
  {
   "cell_type": "markdown",
   "metadata": {},
   "source": [
    "# merge both dataframes"
   ]
  },
  {
   "cell_type": "code",
   "execution_count": 28,
   "metadata": {},
   "outputs": [],
   "source": [
    "train_data_merge=pd.merge(train_data,author_names , on='book_num', how='outer')"
   ]
  },
  {
   "cell_type": "code",
   "execution_count": 29,
   "metadata": {},
   "outputs": [
    {
     "data": {
      "text/html": [
       "<div>\n",
       "<style scoped>\n",
       "    .dataframe tbody tr th:only-of-type {\n",
       "        vertical-align: middle;\n",
       "    }\n",
       "\n",
       "    .dataframe tbody tr th {\n",
       "        vertical-align: top;\n",
       "    }\n",
       "\n",
       "    .dataframe thead th {\n",
       "        text-align: right;\n",
       "    }\n",
       "</style>\n",
       "<table border=\"1\" class=\"dataframe\">\n",
       "  <thead>\n",
       "    <tr style=\"text-align: right;\">\n",
       "      <th></th>\n",
       "      <th>book_text</th>\n",
       "      <th>book_num</th>\n",
       "      <th>author</th>\n",
       "    </tr>\n",
       "  </thead>\n",
       "  <tbody>\n",
       "    <tr>\n",
       "      <th>0</th>\n",
       "      <td>b'\\xef\\xbb\\xbf\\r\\n\\r\\n========================...</td>\n",
       "      <td>1</td>\n",
       "      <td>Jefferson, Thomas, 1743-1826</td>\n",
       "    </tr>\n",
       "    <tr>\n",
       "      <th>1</th>\n",
       "      <td>b'\\xef\\xbb\\xbf**Welcome To The World of Free P...</td>\n",
       "      <td>2</td>\n",
       "      <td>United States</td>\n",
       "    </tr>\n",
       "    <tr>\n",
       "      <th>2</th>\n",
       "      <td>b'\\xef\\xbb\\xbf**Welcome To The World of Free P...</td>\n",
       "      <td>3</td>\n",
       "      <td>Kennedy, John F. (John Fitzgerald), 1917-1963</td>\n",
       "    </tr>\n",
       "    <tr>\n",
       "      <th>3</th>\n",
       "      <td>b'\\xef\\xbb\\xbf\\r\\n\\r\\n**Welcome To The World o...</td>\n",
       "      <td>4</td>\n",
       "      <td>Lincoln, Abraham, 1809-1865</td>\n",
       "    </tr>\n",
       "    <tr>\n",
       "      <th>4</th>\n",
       "      <td>b'\\xef\\xbb\\xbfThe Project Gutenberg EBook of T...</td>\n",
       "      <td>5</td>\n",
       "      <td>United States</td>\n",
       "    </tr>\n",
       "  </tbody>\n",
       "</table>\n",
       "</div>"
      ],
      "text/plain": [
       "                                           book_text  book_num  \\\n",
       "0  b'\\xef\\xbb\\xbf\\r\\n\\r\\n========================...         1   \n",
       "1  b'\\xef\\xbb\\xbf**Welcome To The World of Free P...         2   \n",
       "2  b'\\xef\\xbb\\xbf**Welcome To The World of Free P...         3   \n",
       "3  b'\\xef\\xbb\\xbf\\r\\n\\r\\n**Welcome To The World o...         4   \n",
       "4  b'\\xef\\xbb\\xbfThe Project Gutenberg EBook of T...         5   \n",
       "\n",
       "                                          author  \n",
       "0                   Jefferson, Thomas, 1743-1826  \n",
       "1                                  United States  \n",
       "2  Kennedy, John F. (John Fitzgerald), 1917-1963  \n",
       "3                    Lincoln, Abraham, 1809-1865  \n",
       "4                                  United States  "
      ]
     },
     "execution_count": 29,
     "metadata": {},
     "output_type": "execute_result"
    }
   ],
   "source": [
    "train_data_merge.head()"
   ]
  },
  {
   "cell_type": "code",
   "execution_count": 33,
   "metadata": {},
   "outputs": [
    {
     "data": {
      "text/plain": [
       "book_text    0\n",
       "book_num     0\n",
       "author       0\n",
       "dtype: int64"
      ]
     },
     "execution_count": 33,
     "metadata": {},
     "output_type": "execute_result"
    }
   ],
   "source": [
    "train_data_merge.isnull().sum()"
   ]
  },
  {
   "cell_type": "code",
   "execution_count": 31,
   "metadata": {},
   "outputs": [],
   "source": [
    "train_data_merge.dropna(inplace=True)"
   ]
  },
  {
   "cell_type": "code",
   "execution_count": 32,
   "metadata": {},
   "outputs": [
    {
     "data": {
      "text/plain": [
       "(108, 3)"
      ]
     },
     "execution_count": 32,
     "metadata": {},
     "output_type": "execute_result"
    }
   ],
   "source": [
    "train_data_merge.shape"
   ]
  },
  {
   "cell_type": "code",
   "execution_count": 92,
   "metadata": {},
   "outputs": [],
   "source": [
    "#Duplicating the original text extracted before proceeeding with preprocessing steps\n",
    "\n",
    "import copy\n",
    "data = copy.deepcopy(train_data_merge)"
   ]
  },
  {
   "cell_type": "code",
   "execution_count": 93,
   "metadata": {
    "scrolled": true
   },
   "outputs": [
    {
     "data": {
      "text/html": [
       "<div>\n",
       "<style scoped>\n",
       "    .dataframe tbody tr th:only-of-type {\n",
       "        vertical-align: middle;\n",
       "    }\n",
       "\n",
       "    .dataframe tbody tr th {\n",
       "        vertical-align: top;\n",
       "    }\n",
       "\n",
       "    .dataframe thead th {\n",
       "        text-align: right;\n",
       "    }\n",
       "</style>\n",
       "<table border=\"1\" class=\"dataframe\">\n",
       "  <thead>\n",
       "    <tr style=\"text-align: right;\">\n",
       "      <th></th>\n",
       "      <th>book_text</th>\n",
       "      <th>book_num</th>\n",
       "      <th>author</th>\n",
       "    </tr>\n",
       "  </thead>\n",
       "  <tbody>\n",
       "    <tr>\n",
       "      <th>0</th>\n",
       "      <td>b'\\xef\\xbb\\xbf\\r\\n\\r\\n========================...</td>\n",
       "      <td>1</td>\n",
       "      <td>Jefferson, Thomas, 1743-1826</td>\n",
       "    </tr>\n",
       "    <tr>\n",
       "      <th>1</th>\n",
       "      <td>b'\\xef\\xbb\\xbf**Welcome To The World of Free P...</td>\n",
       "      <td>2</td>\n",
       "      <td>United States</td>\n",
       "    </tr>\n",
       "    <tr>\n",
       "      <th>2</th>\n",
       "      <td>b'\\xef\\xbb\\xbf**Welcome To The World of Free P...</td>\n",
       "      <td>3</td>\n",
       "      <td>Kennedy, John F. (John Fitzgerald), 1917-1963</td>\n",
       "    </tr>\n",
       "    <tr>\n",
       "      <th>3</th>\n",
       "      <td>b'\\xef\\xbb\\xbf\\r\\n\\r\\n**Welcome To The World o...</td>\n",
       "      <td>4</td>\n",
       "      <td>Lincoln, Abraham, 1809-1865</td>\n",
       "    </tr>\n",
       "    <tr>\n",
       "      <th>4</th>\n",
       "      <td>b'\\xef\\xbb\\xbfThe Project Gutenberg EBook of T...</td>\n",
       "      <td>5</td>\n",
       "      <td>United States</td>\n",
       "    </tr>\n",
       "  </tbody>\n",
       "</table>\n",
       "</div>"
      ],
      "text/plain": [
       "                                           book_text  book_num  \\\n",
       "0  b'\\xef\\xbb\\xbf\\r\\n\\r\\n========================...         1   \n",
       "1  b'\\xef\\xbb\\xbf**Welcome To The World of Free P...         2   \n",
       "2  b'\\xef\\xbb\\xbf**Welcome To The World of Free P...         3   \n",
       "3  b'\\xef\\xbb\\xbf\\r\\n\\r\\n**Welcome To The World o...         4   \n",
       "4  b'\\xef\\xbb\\xbfThe Project Gutenberg EBook of T...         5   \n",
       "\n",
       "                                          author  \n",
       "0                   Jefferson, Thomas, 1743-1826  \n",
       "1                                  United States  \n",
       "2  Kennedy, John F. (John Fitzgerald), 1917-1963  \n",
       "3                    Lincoln, Abraham, 1809-1865  \n",
       "4                                  United States  "
      ]
     },
     "execution_count": 93,
     "metadata": {},
     "output_type": "execute_result"
    }
   ],
   "source": [
    "data.head()"
   ]
  },
  {
   "cell_type": "code",
   "execution_count": 94,
   "metadata": {},
   "outputs": [],
   "source": [
    "data.drop(\"book_num\",axis=1,inplace=True)"
   ]
  },
  {
   "cell_type": "code",
   "execution_count": 95,
   "metadata": {},
   "outputs": [],
   "source": [
    "data.columns=['text','author']"
   ]
  },
  {
   "cell_type": "code",
   "execution_count": 96,
   "metadata": {},
   "outputs": [
    {
     "data": {
      "text/html": [
       "<div>\n",
       "<style scoped>\n",
       "    .dataframe tbody tr th:only-of-type {\n",
       "        vertical-align: middle;\n",
       "    }\n",
       "\n",
       "    .dataframe tbody tr th {\n",
       "        vertical-align: top;\n",
       "    }\n",
       "\n",
       "    .dataframe thead th {\n",
       "        text-align: right;\n",
       "    }\n",
       "</style>\n",
       "<table border=\"1\" class=\"dataframe\">\n",
       "  <thead>\n",
       "    <tr style=\"text-align: right;\">\n",
       "      <th></th>\n",
       "      <th>text</th>\n",
       "      <th>author</th>\n",
       "    </tr>\n",
       "  </thead>\n",
       "  <tbody>\n",
       "    <tr>\n",
       "      <th>0</th>\n",
       "      <td>b'\\xef\\xbb\\xbf\\r\\n\\r\\n========================...</td>\n",
       "      <td>Jefferson, Thomas, 1743-1826</td>\n",
       "    </tr>\n",
       "    <tr>\n",
       "      <th>1</th>\n",
       "      <td>b'\\xef\\xbb\\xbf**Welcome To The World of Free P...</td>\n",
       "      <td>United States</td>\n",
       "    </tr>\n",
       "    <tr>\n",
       "      <th>2</th>\n",
       "      <td>b'\\xef\\xbb\\xbf**Welcome To The World of Free P...</td>\n",
       "      <td>Kennedy, John F. (John Fitzgerald), 1917-1963</td>\n",
       "    </tr>\n",
       "    <tr>\n",
       "      <th>3</th>\n",
       "      <td>b'\\xef\\xbb\\xbf\\r\\n\\r\\n**Welcome To The World o...</td>\n",
       "      <td>Lincoln, Abraham, 1809-1865</td>\n",
       "    </tr>\n",
       "    <tr>\n",
       "      <th>4</th>\n",
       "      <td>b'\\xef\\xbb\\xbfThe Project Gutenberg EBook of T...</td>\n",
       "      <td>United States</td>\n",
       "    </tr>\n",
       "  </tbody>\n",
       "</table>\n",
       "</div>"
      ],
      "text/plain": [
       "                                                text  \\\n",
       "0  b'\\xef\\xbb\\xbf\\r\\n\\r\\n========================...   \n",
       "1  b'\\xef\\xbb\\xbf**Welcome To The World of Free P...   \n",
       "2  b'\\xef\\xbb\\xbf**Welcome To The World of Free P...   \n",
       "3  b'\\xef\\xbb\\xbf\\r\\n\\r\\n**Welcome To The World o...   \n",
       "4  b'\\xef\\xbb\\xbfThe Project Gutenberg EBook of T...   \n",
       "\n",
       "                                          author  \n",
       "0                   Jefferson, Thomas, 1743-1826  \n",
       "1                                  United States  \n",
       "2  Kennedy, John F. (John Fitzgerald), 1917-1963  \n",
       "3                    Lincoln, Abraham, 1809-1865  \n",
       "4                                  United States  "
      ]
     },
     "execution_count": 96,
     "metadata": {},
     "output_type": "execute_result"
    }
   ],
   "source": [
    "data.head()"
   ]
  },
  {
   "cell_type": "markdown",
   "metadata": {},
   "source": [
    "# Text Preprocessing"
   ]
  },
  {
   "cell_type": "markdown",
   "metadata": {},
   "source": [
    "### LowerCase all text"
   ]
  },
  {
   "cell_type": "code",
   "execution_count": 97,
   "metadata": {},
   "outputs": [
    {
     "data": {
      "text/plain": [
       "0     b'\\xef\\xbb\\xbf\\r\\n\\r\\n========================...\n",
       "1     b'\\xef\\xbb\\xbf**welcome to the world of free p...\n",
       "2     b'\\xef\\xbb\\xbf**welcome to the world of free p...\n",
       "3     b'\\xef\\xbb\\xbf\\r\\n\\r\\n**welcome to the world o...\n",
       "4     b'\\xef\\xbb\\xbfthe project gutenberg ebook of t...\n",
       "5     b'\\xef\\xbb\\xbf**welcome to the world of free p...\n",
       "7     b'\\xef\\xbb\\xbfthe project gutenberg ebook of l...\n",
       "8     b'\\xef\\xbb\\xbfthe project gutenberg ebook of l...\n",
       "10    b'the project gutenberg ebook of alice\\xe2\\x80...\n",
       "11    b'\\xef\\xbb\\xbfthe project gutenberg ebook of t...\n",
       "Name: text, dtype: object"
      ]
     },
     "execution_count": 97,
     "metadata": {},
     "output_type": "execute_result"
    }
   ],
   "source": [
    "data['text'] = [text.strip().lower() for text in data['text']]\n",
    "data['text'][:10]"
   ]
  },
  {
   "cell_type": "markdown",
   "metadata": {},
   "source": [
    "## Defining the functions to perform basic steps like \n",
    "\n",
    "- **expanding contractions**\n",
    " \n",
    "- **remove accented characters**\n",
    "\n",
    "- **scrub words**"
   ]
  },
  {
   "cell_type": "code",
   "execution_count": 98,
   "metadata": {},
   "outputs": [
    {
     "data": {
      "text/plain": [
       "pandas.core.series.Series"
      ]
     },
     "execution_count": 98,
     "metadata": {},
     "output_type": "execute_result"
    }
   ],
   "source": [
    "type(data['text'])"
   ]
  },
  {
   "cell_type": "markdown",
   "metadata": {},
   "source": [
    "###  Handling contractions "
   ]
  },
  {
   "cell_type": "code",
   "execution_count": 99,
   "metadata": {},
   "outputs": [],
   "source": [
    "contractions = {\n",
    "\"ain't\": \"is not\",\n",
    "\"aren't\": \"are not\",\n",
    "\"can't\": \"cannot\",\n",
    "\"can't've\": \"cannot have\",\n",
    "\"'cause\": \"because\",\n",
    "\"could've\": \"could have\",\n",
    "\"couldn't\": \"could not\",\n",
    "\"couldn't've\": \"could not have\",\n",
    "\"didn't\": \"did not\",\n",
    "\"doesn't\": \"does not\",\n",
    "\"don't\": \"do not\",\n",
    "\"hadn't\": \"had not\",\n",
    "\"hadn't've\": \"had not have\",\n",
    "\"hasn't\": \"has not\",\n",
    "\"haven't\": \"have not\",\n",
    "\"he'd\": \"he would\",\n",
    "\"he'd've\": \"he would have\",\n",
    "\"he'll\": \"he will\",\n",
    "\"he'll've\": \"he he will have\",\n",
    "\"he's\": \"he is\",\n",
    "\"how'd\": \"how did\",\n",
    "\"how'd'y\": \"how do you\",\n",
    "\"how'll\": \"how will\",\n",
    "\"how's\": \"how is\",\n",
    "\"I'd\": \"I would\",\n",
    "\"I'd've\": \"I would have\",\n",
    "\"I'll\": \"I will\",\n",
    "\"I'll've\": \"I will have\",\n",
    "\"I'm\": \"I am\",\n",
    "\"I've\": \"I have\",\n",
    "\"i'd\": \"i would\",\n",
    "\"i'd've\": \"i would have\",\n",
    "\"i'll\": \"i will\",\n",
    "\"i'll've\": \"i will have\",\n",
    "\"i'm\": \"i am\",\n",
    "\"i've\": \"i have\",\n",
    "\"isn't\": \"is not\",\n",
    "\"it'd\": \"it would\",\n",
    "\"it'd've\": \"it would have\",\n",
    "\"it'll\": \"it will\",\n",
    "\"it'll've\": \"it will have\",\n",
    "\"it's\": \"it is\",\n",
    "\"let's\": \"let us\",\n",
    "\"ma'am\": \"madam\",\n",
    "\"mayn't\": \"may not\",\n",
    "\"might've\": \"might have\",\n",
    "\"mightn't\": \"might not\",\n",
    "\"mightn't've\": \"might not have\",\n",
    "\"must've\": \"must have\",\n",
    "\"mustn't\": \"must not\",\n",
    "\"mustn't've\": \"must not have\",\n",
    "\"needn't\": \"need not\",\n",
    "\"needn't've\": \"need not have\",\n",
    "\"o'clock\": \"of the clock\",\n",
    "\"oughtn't\": \"ought not\",\n",
    "\"oughtn't've\": \"ought not have\",\n",
    "\"shan't\": \"shall not\",\n",
    "\"sha'n't\": \"shall not\",\n",
    "\"shan't've\": \"shall not have\",\n",
    "\"she'd\": \"she would\",\n",
    "\"she'd've\": \"she would have\",\n",
    "\"she'll\": \"she will\",\n",
    "\"she'll've\": \"she will have\",\n",
    "\"she's\": \"she is\",\n",
    "\"should've\": \"should have\",\n",
    "\"shouldn't\": \"should not\",\n",
    "\"shouldn't've\": \"should not have\",\n",
    "\"so've\": \"so have\",\n",
    "\"so's\": \"so as\",\n",
    "\"that'd\": \"that would\",\n",
    "\"that'd've\": \"that would have\",\n",
    "\"that's\": \"that is\",\n",
    "\"there'd\": \"there would\",\n",
    "\"there'd've\": \"there would have\",\n",
    "\"there's\": \"there is\",\n",
    "\"they'd\": \"they would\",\n",
    "\"they'd've\": \"they would have\",\n",
    "\"they'll\": \"they will\",\n",
    "\"they'll've\": \"they will have\",\n",
    "\"they're\": \"they are\",\n",
    "\"they've\": \"they have\",\n",
    "\"to've\": \"to have\",\n",
    "\"wasn't\": \"was not\",\n",
    "\"we'd\": \"we would\",\n",
    "\"we'd've\": \"we would have\",\n",
    "\"we'll\": \"we will\",\n",
    "\"we'll've\": \"we will have\",\n",
    "\"we're\": \"we are\",\n",
    "\"we've\": \"we have\",\n",
    "\"weren't\": \"were not\",\n",
    "\"what'll\": \"what will\",\n",
    "\"what'll've\": \"what will have\",\n",
    "\"what're\": \"what are\",\n",
    "\"what's\": \"what is\",\n",
    "\"what've\": \"what have\",\n",
    "\"when's\": \"when is\",\n",
    "\"when've\": \"when have\",\n",
    "\"where'd\": \"where did\",\n",
    "\"where's\": \"where is\",\n",
    "\"where've\": \"where have\",\n",
    "\"who'll\": \"who will\",\n",
    "\"who'll've\": \"who will have\",\n",
    "\"who's\": \"who is\",\n",
    "\"who've\": \"who have\",\n",
    "\"why's\": \"why is\",\n",
    "\"why've\": \"why have\",\n",
    "\"will've\": \"will have\",\n",
    "\"won't\": \"will not\",\n",
    "\"won't've\": \"will not have\",\n",
    "\"would've\": \"would have\",\n",
    "\"wouldn't\": \"would not\",\n",
    "\"wouldn't've\": \"would not have\",\n",
    "\"y'all\": \"you all\",\n",
    "\"y'all'd\": \"you all would\",\n",
    "\"y'all'd've\": \"you all would have\",\n",
    "\"y'all're\": \"you all are\",\n",
    "\"y'all've\": \"you all have\",\n",
    "\"you'd\": \"you would\",\n",
    "\"you'd've\": \"you would have\",\n",
    "\"you'll\": \"you will\",\n",
    "\"you'll've\": \"you will have\",\n",
    "\"you're\": \"you are\",\n",
    "\"you've\": \"you have\"\n",
    "}"
   ]
  },
  {
   "cell_type": "code",
   "execution_count": 100,
   "metadata": {
    "scrolled": true
   },
   "outputs": [],
   "source": [
    "def expand_contractions(text):\n",
    "    for word in text.split():\n",
    "        if word.lower() in contractions:\n",
    "            text = text.replace(word, contractions[word.lower()])\n",
    "    return text"
   ]
  },
  {
   "cell_type": "code",
   "execution_count": 101,
   "metadata": {},
   "outputs": [],
   "source": [
    "data['text'] = data['text'].astype(str)"
   ]
  },
  {
   "cell_type": "code",
   "execution_count": 102,
   "metadata": {},
   "outputs": [
    {
     "data": {
      "text/plain": [
       "'b\\'\\\\xef\\\\xbb\\\\xbf**welcome to the world of free plain vanilla electronic texts**\\\\r\\\\n\\\\r\\\\n**etexts readable by both humans and by computers, since 1971**\\\\r\\\\n\\\\r\\\\n*these etexts prepared by hundreds of volunteers and donations*\\\\r\\\\n\\\\r\\\\n\\\\r\\\\ndecember, 1972  [etext #2]\\\\r\\\\n\\\\r\\\\n\\\\r\\\\n****the project gutenberg etext of the u. s. bill of rights****\\\\r\\\\n*******this file should be named 2.txt or 2.zip******\\\\r\\\\n\\\\r\\\\nwe apologize for the fact that the legal small print is longer,\\\\r\\\\nand more complicated, than the etext itself, our legal beagles,\\\\r\\\\nof whom there are now a half dozen or so, insist this must be a\\\\r\\\\npart of any project gutenberg etext we post, for our protection\\\\r\\\\nfrom the rest of the legal beagles out there.  the us has twice\\\\r\\\\nas many lawyers as the rest of the world combined!\\\\r\\\\n\\\\r\\\\nyou are free to delete the headers and just keep the etexts, we\\\\r\\\\nare not free not to post it this way.  again my apologies.  the\\\\r\\\\nnormal project gutenberg blurb has been deleted, you can get it\\\\r\\\\nin this location in most project gutenberg etexts.  thanks,  mh\\\\r\\\\n\\\\r\\\\n\\\\r\\\\n***start**the small print!**for public domain etexts**start***\\\\r\\\\nwhy is this \"small print!\" statement here?  you know: lawyers.\\\\r\\\\nthey tell us you might sue us if there is something wrong with\\\\r\\\\nyour copy of this etext, even if you got it for free from\\\\r\\\\nsomeone other than us, and even if what\\\\\\'s wrong is not our\\\\r\\\\nfault.  so, among other things, this \"small print!\" statement\\\\r\\\\ndisclaims most of our liability to you.  it also tells you how\\\\r\\\\nyou can distribute copies of this etext if you want to.\\\\r\\\\n\\\\r\\\\n*before!* you use or read this etext\\\\r\\\\nby using or reading any part of this project gutenberg-tm\\\\r\\\\netext, you indicate that you understand, agree to and accept\\\\r\\\\nthis \"small print!\" statement.  if you do not, you can receive\\\\r\\\\na refund of the money (if any) you paid for this etext by\\\\r\\\\nsending a request within 30 days of receiving it to the person\\\\r\\\\nyou got it from.  if you received this etext on a physical\\\\r\\\\nmedium (such as a disk), you must return it with your request.\\\\r\\\\n\\\\r\\\\nabout project gutenberg-tm etexts\\\\r\\\\nthis project gutenberg-tm etext, like most project gutenberg-\\\\r\\\\ntm etexts, is a \"public domain\" work distributed by professor\\\\r\\\\nmichael s. hart through the project gutenberg association at\\\\r\\\\nillinois benedictine college (the \"project\").  among other\\\\r\\\\nthings, this means that no one owns a united states copyright\\\\r\\\\non or for this work, so the project (and you!) can copy and\\\\r\\\\ndistribute it in the united states without permission and\\\\r\\\\nwithout paying copyright royalties.  special rules, set forth\\\\r\\\\nbelow, apply if you wish to copy and distribute this etext\\\\r\\\\nunder the project\\\\\\'s \"project gutenberg\" trademark.\\\\r\\\\n\\\\r\\\\nto create these etexts, the project expends considerable\\\\r\\\\nefforts to identify, transcribe and proofread public domain\\\\r\\\\nworks.  despite these efforts, the project\\\\\\'s etexts and any\\\\r\\\\nmedium they may be on may contain \"defects\".  among other\\\\r\\\\nthings, defects may take the form of incomplete, inaccurate or\\\\r\\\\ncorrupt data, transcription errors, a copyright or other\\\\r\\\\nintellectual property infringement, a defective or damaged\\\\r\\\\ndisk or other etext medium, a computer virus, or computer\\\\r\\\\ncodes that damage or cannot be read by your equipment.\\\\r\\\\n\\\\r\\\\nlimited warranty; disclaimer of damages\\\\r\\\\nbut for the \"right of replacement or refund\" described below,\\\\r\\\\n[1] the project (and any other party you may receive this\\\\r\\\\netext from as a project gutenberg-tm etext) disclaims all\\\\r\\\\nliability to you for damages, costs and expenses, including\\\\r\\\\nlegal fees, and [2] you have no remedies for negligence or\\\\r\\\\nunder strict liability, or for breach of warranty or contract,\\\\r\\\\nincluding but not limited to indirect, consequential, punitive\\\\r\\\\nor incidental damages, even if you give notice of the\\\\r\\\\npossibility of such damages.\\\\r\\\\n\\\\r\\\\nif you discover a defect in this etext within 90 days of\\\\r\\\\nreceiving it, you can receive a refund of the money (if any)\\\\r\\\\nyou paid for it by sending an explanatory note within that\\\\r\\\\ntime to the person you received it from.  if you received it\\\\r\\\\non a physical medium, you must return it with your note, and\\\\r\\\\nsuch person may choose to alternatively give you a replacement\\\\r\\\\ncopy.  if you received it electronically, such person may\\\\r\\\\nchoose to alternatively give you a second opportunity to\\\\r\\\\nreceive it electronically.\\\\r\\\\n\\\\r\\\\nthis etext is otherwise provided to you \"as-is\".  no other\\\\r\\\\nwarranties of any kind, express or implied, are made to you as\\\\r\\\\nto the etext or any medium it may be on, including but not\\\\r\\\\nlimited to warranties of merchantability or fitness for a\\\\r\\\\nparticular purpose.\\\\r\\\\n\\\\r\\\\nsome states do not allow disclaimers of implied warranties or\\\\r\\\\nthe exclusion or limitation of consequential damages, so the\\\\r\\\\nabove disclaimers and exclusions may not apply to you, and you\\\\r\\\\nmay have other legal rights.\\\\r\\\\n\\\\r\\\\nindemnity\\\\r\\\\nyou will indemnify and hold the project, its directors,\\\\r\\\\nofficers, members and agents harmless from all liability, cost\\\\r\\\\nand expense, including legal fees, that arise directly or\\\\r\\\\nindirectly from any of the following that you do or cause:\\\\r\\\\n[1] distribution of this etext, [2] alteration, modification,\\\\r\\\\nor addition to the etext, or [3] any defect.\\\\r\\\\n\\\\r\\\\ndistribution under \"project gutenberg-tm\"\\\\r\\\\nyou may distribute copies of this etext electronically, or by\\\\r\\\\ndisk, book or any other medium if you either delete this\\\\r\\\\n\"small print!\" and all other references to project gutenberg,\\\\r\\\\nor:\\\\r\\\\n\\\\r\\\\n[1]  only give exact copies of it.  among other things, this\\\\r\\\\n     requires that you do not remove, alter or modify the\\\\r\\\\n     etext or this \"small print!\" statement.  you may however,\\\\r\\\\n     if you wish, distribute this etext in machine readable\\\\r\\\\n     binary, compressed, mark-up, or proprietary form,\\\\r\\\\n     including any form resulting from conversion by word pro-\\\\r\\\\n     cessing or hypertext software, but only so long as\\\\r\\\\n     *either*:\\\\r\\\\n\\\\r\\\\n     [*]  the etext, when displayed, is clearly readable, and\\\\r\\\\n          does *not* contain characters other than those\\\\r\\\\n          intended by the author of the work, although tilde\\\\r\\\\n          (~), asterisk (*) and underline (_) characters may\\\\r\\\\n          be used to convey punctuation intended by the\\\\r\\\\n          author, and additional characters may be used to\\\\r\\\\n          indicate hypertext links; or\\\\r\\\\n\\\\r\\\\n     [*]  the etext may be readily converted by the reader at\\\\r\\\\n          no expense into plain ascii, ebcdic or equivalent\\\\r\\\\n          form by the program that displays the etext (as is\\\\r\\\\n          the case, for instance, with most word processors);\\\\r\\\\n          or\\\\r\\\\n\\\\r\\\\n     [*]  you provide, or agree to also provide on request at\\\\r\\\\n          no additional cost, fee or expense, a copy of the\\\\r\\\\n          etext in its original plain ascii form (or in ebcdic\\\\r\\\\n          or other equivalent proprietary form).\\\\r\\\\n\\\\r\\\\n[2]  honor the etext refund and replacement provisions of this\\\\r\\\\n     \"small print!\" statement.\\\\r\\\\n\\\\r\\\\n[3]  pay a trademark license fee to the project of 20% of the\\\\r\\\\n     net profits you derive calculated using the method you\\\\r\\\\n     already use to calculate your applicable taxes.  if you\\\\r\\\\n     don\\\\\\'t derive profits, no royalty is due.  royalties are\\\\r\\\\n     payable to \"project gutenberg association / illinois\\\\r\\\\n     benedictine college\" within the 60 days following each\\\\r\\\\n     date you prepare (or were legally required to prepare)\\\\r\\\\n     your annual (or equivalent periodic) tax return.\\\\r\\\\n\\\\r\\\\nwhat if you *want* to send money even if you don\\\\\\'t have to?\\\\r\\\\nthe project gratefully accepts contributions in money, time,\\\\r\\\\nscanning machines, ocr software, public domain etexts, royalty\\\\r\\\\nfree copyright licenses, and every other sort of contribution\\\\r\\\\nyou can think of.  money should be paid to \"project gutenberg\\\\r\\\\nassociation / illinois benedictine college\".\\\\r\\\\n\\\\r\\\\nthis \"small print!\" by charles b. kramer, attorney\\\\r\\\\ninternet (72600.2026@compuserve.com); tel: (212-254-5093)\\\\r\\\\n*end*the small print! for public domain etexts*ver.04.29.93*end*\\\\r\\\\n\\\\r\\\\n\\\\r\\\\nall of the original project gutenberg etexts from the\\\\r\\\\n1970\\\\\\'s were produced in all caps, no lower case.  the\\\\r\\\\ncomputers we used then didn\\\\\\'t have lower case at all.\\\\r\\\\n\\\\r\\\\n***\\\\r\\\\n\\\\r\\\\nthese original project gutenberg etexts will be compiled into a file\\\\r\\\\ncontaining them all, in order to improve the content ratios of etext\\\\r\\\\nto header material.\\\\r\\\\n\\\\r\\\\n***\\\\r\\\\n\\\\r\\\\n\\\\r\\\\n\\\\r\\\\nthe united states bill of rights.\\\\r\\\\n\\\\r\\\\nthe ten original amendments to the constitution of the united states\\\\r\\\\npassed by congress september 25, 1789\\\\r\\\\nratified december 15, 1791\\\\r\\\\n\\\\r\\\\n\\\\r\\\\n\\\\r\\\\ni\\\\r\\\\n\\\\r\\\\ncongress shall make no law respecting an establishment of religion,\\\\r\\\\nor prohibiting the free exercise thereof; or abridging the freedom of speech,\\\\r\\\\nor of the press, or the right of the people peaceably to assemble,\\\\r\\\\nand to petition the government for a redress of grievances.\\\\r\\\\n\\\\r\\\\n\\\\r\\\\nii\\\\r\\\\n\\\\r\\\\na well-regulated militia, being necessary to the security of a free state,\\\\r\\\\nthe right of the people to keep and bear arms, shall not be infringed.\\\\r\\\\n\\\\r\\\\n\\\\r\\\\niii\\\\r\\\\nno soldier shall, in time of peace be quartered in any house,\\\\r\\\\nwithout the consent of the owner, nor in time of war,\\\\r\\\\nbut in a manner to be prescribed by law.\\\\r\\\\n\\\\r\\\\n\\\\r\\\\niv\\\\r\\\\n\\\\r\\\\nthe right of the people to be secure in their persons, houses, papers,\\\\r\\\\nand effects, against unreasonable searches and seizures, shall not be violated,\\\\r\\\\nand no warrants shall issue, but upon probable cause, supported by oath\\\\r\\\\nor affirmation, and particularly describing the place to be searched,\\\\r\\\\nand the persons or things to be seized.\\\\r\\\\n\\\\r\\\\n\\\\r\\\\nv\\\\r\\\\n\\\\r\\\\nno person shall be held to answer for a capital, or otherwise infamous crime,\\\\r\\\\nunless on a presentment or indictment of a grand jury, except in cases arising\\\\r\\\\nin the land or naval forces, or in the militia, when in actual service\\\\r\\\\nin time of war or public danger; nor shall any person be subject for\\\\r\\\\nthe same offense to be twice put in jeopardy of life or limb;\\\\r\\\\nnor shall be compelled in any criminal case to be a witness against himself,\\\\r\\\\nnor be deprived of life, liberty, or property, without due process of law;\\\\r\\\\nnor shall private property be taken for public use without just compensation.\\\\r\\\\n\\\\r\\\\n\\\\r\\\\nvi\\\\r\\\\n\\\\r\\\\nin all criminal prosecutions, the accused shall enjoy the right to a\\\\r\\\\nspeedy and public trial, by an impartial jury of the state and district\\\\r\\\\nwherein the crime shall have been committed, which district shall have\\\\r\\\\nbeen previously ascertained by law, and to be informed of the nature\\\\r\\\\nand cause of the accusation; to be confronted with the witnesses against him;\\\\r\\\\nto have compulsory process for obtaining witnesses in his favor,\\\\r\\\\nand to have the assistance of counsel for his defense.\\\\r\\\\n\\\\r\\\\n\\\\r\\\\nvii\\\\r\\\\n\\\\r\\\\nin suits at common law, where the value in controversy shall exceed\\\\r\\\\ntwenty dollars, the right of trial by jury shall be preserved,\\\\r\\\\nand no fact tried by a jury shall be otherwise re-examined in any court\\\\r\\\\nof the united states, than according to the rules of the common law.\\\\r\\\\n\\\\r\\\\n\\\\r\\\\nviii\\\\r\\\\n\\\\r\\\\nexcessive bail shall not be required nor excessive fines imposed,\\\\r\\\\nnor cruel and unusual punishments inflicted.\\\\r\\\\n\\\\r\\\\n\\\\r\\\\nix\\\\r\\\\n\\\\r\\\\nthe enumeration in the constitution, of certain rights,\\\\r\\\\nshall not be construed to deny or disparage others retained by the people.\\\\r\\\\n\\\\r\\\\nx\\\\r\\\\n\\\\r\\\\nthe powers not delegated to the united states by the constitution,\\\\r\\\\nnor prohibited by it to the states, are reserved to the states respectively,\\\\r\\\\nor to the people.\\''"
      ]
     },
     "execution_count": 102,
     "metadata": {},
     "output_type": "execute_result"
    }
   ],
   "source": [
    "import re\n",
    "data['text'] = [expand_contractions(re.sub('’', \"'\", text)) for text in data['text']]\n",
    "data['text'][1]"
   ]
  },
  {
   "cell_type": "markdown",
   "metadata": {},
   "source": [
    "## Invoking the remove_accented_chars() function"
   ]
  },
  {
   "cell_type": "code",
   "execution_count": 103,
   "metadata": {},
   "outputs": [],
   "source": [
    "import unicodedata\n",
    "def remove_accented_chars(text):\n",
    "    text = unicodedata.normalize('NFKD', text).encode('ascii', 'ignore').decode('utf-8', 'ignore')\n",
    "    #https://docs.python.org/2/library/unicodedata.html\n",
    "    return text"
   ]
  },
  {
   "cell_type": "code",
   "execution_count": 104,
   "metadata": {},
   "outputs": [
    {
     "data": {
      "text/plain": [
       "'b\\'\\\\xef\\\\xbb\\\\xbf**welcome to the world of free plain vanilla electronic texts**\\\\r\\\\n\\\\r\\\\n**etexts readable by both humans and by computers, since 1971**\\\\r\\\\n\\\\r\\\\n*these etexts prepared by hundreds of volunteers and donations*\\\\r\\\\n\\\\r\\\\n\\\\r\\\\n**the project gutenberg etext of kennedy\\\\\\'s inaugural address**\\\\r\\\\n*******this file should be named 3.txt or 3.zip*******\\\\r\\\\n\\\\r\\\\n\\\\r\\\\n[etext #3] november 22, 1973, 10th anniversary of assassination\\\\r\\\\n[officially rereleased for november 22, 1993, 30th anniversary]\\\\r\\\\n\\\\r\\\\nwe apologize for the fact that the legal small print is longer,\\\\r\\\\nand more complicated, than the etext itself, our legal beagles,\\\\r\\\\nof whom there are now a half dozen or so, insist this must be a\\\\r\\\\npart of any project gutenberg etext we post, for our protection\\\\r\\\\nfrom the rest of the legal beagles out there.  the us has twice\\\\r\\\\nas many lawyers as the rest of the world combined!\\\\r\\\\n\\\\r\\\\nyou are free to delete the headers and just keep the etexts, we\\\\r\\\\nare not free not to post it this way.  again my apologies.  the\\\\r\\\\nnormal project gutenberg blurb has been deleted, you can get it\\\\r\\\\nin this location in most project gutenberg etexts.  thanks,  mh\\\\r\\\\n\\\\r\\\\nwe will rerelease all of the early short project gutenberg text\\\\r\\\\nfiles combined as one file, with only one header, as requested,\\\\r\\\\nby several of the organizations reposting our books, who should\\\\r\\\\nlike to save space and time for themselves and their readers.\\\\r\\\\n\\\\r\\\\n\\\\r\\\\n***start**the small print!**for public domain etexts**start***\\\\r\\\\nwhy is this \"small print!\" statement here?  you know: lawyers.\\\\r\\\\nthey tell us you might sue us if there is something wrong with\\\\r\\\\nyour copy of this etext, even if you got it for free from\\\\r\\\\nsomeone other than us, and even if what\\\\\\'s wrong is not our\\\\r\\\\nfault.  so, among other things, this \"small print!\" statement\\\\r\\\\ndisclaims most of our liability to you.  it also tells you how\\\\r\\\\nyou can distribute copies of this etext if you want to.\\\\r\\\\n\\\\r\\\\n*before!* you use or read this etext\\\\r\\\\nby using or reading any part of this project gutenberg-tm\\\\r\\\\netext, you indicate that you understand, agree to and accept\\\\r\\\\nthis \"small print!\" statement.  if you do not, you can receive\\\\r\\\\na refund of the money (if any) you paid for this etext by\\\\r\\\\nsending a request within 30 days of receiving it to the person\\\\r\\\\nyou got it from.  if you received this etext on a physical\\\\r\\\\nmedium (such as a disk), you must return it with your request.\\\\r\\\\n\\\\r\\\\nabout project gutenberg-tm etexts\\\\r\\\\nthis project gutenberg-tm etext, like most project gutenberg-\\\\r\\\\ntm etexts, is a \"public domain\" work distributed by professor\\\\r\\\\nmichael s. hart through the project gutenberg association at\\\\r\\\\nillinois benedictine college (the \"project\").  among other\\\\r\\\\nthings, this means that no one owns a united states copyright\\\\r\\\\non or for this work, so the project (and you!) can copy and\\\\r\\\\ndistribute it in the united states without permission and\\\\r\\\\nwithout paying copyright royalties.  special rules, set forth\\\\r\\\\nbelow, apply if you wish to copy and distribute this etext\\\\r\\\\nunder the project\\\\\\'s \"project gutenberg\" trademark.\\\\r\\\\n\\\\r\\\\nto create these etexts, the project expends considerable\\\\r\\\\nefforts to identify, transcribe and proofread public domain\\\\r\\\\nworks.  despite these efforts, the project\\\\\\'s etexts and any\\\\r\\\\nmedium they may be on may contain \"defects\".  among other\\\\r\\\\nthings, defects may take the form of incomplete, inaccurate or\\\\r\\\\ncorrupt data, transcription errors, a copyright or other\\\\r\\\\nintellectual property infringement, a defective or damaged\\\\r\\\\ndisk or other etext medium, a computer virus, or computer\\\\r\\\\ncodes that damage or cannot be read by your equipment.\\\\r\\\\n\\\\r\\\\nlimted warranty; disclaimer of damages\\\\r\\\\nbut for the \"right of replacement or refund\" described below,\\\\r\\\\n[1] the project (and any other party you may receive this\\\\r\\\\netext from as a project gutenberg-tm etext) disclaims all\\\\r\\\\nliability to you for damages, costs and expenses, including\\\\r\\\\nlegal fees, and [2] you have no remedies for negligence or\\\\r\\\\nunder strict liability, or for breach of warranty or contract,\\\\r\\\\nincluding but not limited to indirect, consequential, punitive\\\\r\\\\nor incidental damages, even if you give notice of the\\\\r\\\\npossibility of such damages.\\\\r\\\\n\\\\r\\\\nif you discover a defect in this etext within 90 days of\\\\r\\\\nreceiving it, you can receive a refund of the money (if any)\\\\r\\\\nyou paid for it by sending an explanatory note within that\\\\r\\\\ntime to the person you received it from.  if you received it\\\\r\\\\non a physical medium, you must return it with your note, and\\\\r\\\\nsuch person may choose to alternatively give you a replacement\\\\r\\\\ncopy.  if you received it electronically, such person may\\\\r\\\\nchoose to alternatively give you a second opportunity to\\\\r\\\\nreceive it electronically.\\\\r\\\\n\\\\r\\\\nthis etext is otherwise provided to you \"as-is\".  no other\\\\r\\\\nwarranties of any kind, express or implied, are made to you as\\\\r\\\\nto the etext or any medium it may be on, including but not\\\\r\\\\nlimited to warranties of merchantability or fitness for a\\\\r\\\\nparticular purpose.\\\\r\\\\n\\\\r\\\\nsome states do not allow disclaimers of implied warranties or\\\\r\\\\nthe exclusion or limitation of consequential damages, so the\\\\r\\\\nabove disclaimers and exclusions may not apply to you, and you\\\\r\\\\nmay have other legal rights.\\\\r\\\\n\\\\r\\\\nindemnity\\\\r\\\\nyou will indemnify and hold the project, its directors,\\\\r\\\\nofficers, members and agents harmless from all liability, cost\\\\r\\\\nand expense, including legal fees, that arise directly or\\\\r\\\\nindirectly from any of the following that you do or cause:\\\\r\\\\n[1] distribution of this etext, [2] alteration, modification,\\\\r\\\\nor addition to the etext, or [3] any defect.\\\\r\\\\n\\\\r\\\\ndistribution under \"project gutenberg-tm\"\\\\r\\\\nyou may distribute copies of this etext electronically, or by\\\\r\\\\ndisk, book or any other medium if you either delete this\\\\r\\\\n\"small print!\" and all other references to project gutenberg,\\\\r\\\\nor:\\\\r\\\\n\\\\r\\\\n[1]  only give exact copies of it.  among other things, this\\\\r\\\\n     requires that you do not remove, alter or modify the\\\\r\\\\n     etext or this \"small print!\" statement.  you may however,\\\\r\\\\n     if you wish, distribute this etext in machine readable\\\\r\\\\n     binary, compressed, mark-up, or proprietary form,\\\\r\\\\n     including any form resulting from conversion by word pro-\\\\r\\\\n     cessing or hypertext software, but only so long as\\\\r\\\\n     *either*:\\\\r\\\\n\\\\r\\\\n     [*]  the etext, when displayed, is clearly readable, and\\\\r\\\\n          does *not* contain characters other than those\\\\r\\\\n          intended by the author of the work, although tilde\\\\r\\\\n          (~), asterisk (*) and underline (_) characters may\\\\r\\\\n          be used to convey punctuation intended by the\\\\r\\\\n          author, and additional characters may be used to\\\\r\\\\n          indicate hypertext links; or\\\\r\\\\n\\\\r\\\\n     [*]  the etext may be readily converted by the reader at\\\\r\\\\n          no expense into plain ascii, ebcdic or equivalent\\\\r\\\\n          form by the program that displays the etext (as is\\\\r\\\\n          the case, for instance, with most word processors);\\\\r\\\\n          or\\\\r\\\\n\\\\r\\\\n     [*]  you provide, or agree to also provide on request at\\\\r\\\\n          no additional cost, fee or expense, a copy of the\\\\r\\\\n          etext in its original plain ascii form (or in ebcdic\\\\r\\\\n          or other equivalent proprietary form).\\\\r\\\\n\\\\r\\\\n[2]  honor the etext refund and replacement provisions of this\\\\r\\\\n     \"small print!\" statement.\\\\r\\\\n\\\\r\\\\n[3]  pay a trademark license fee to the project of 20% of the\\\\r\\\\n     net profits you derive calculated using the method you\\\\r\\\\n     already use to calculate your applicable taxes.  if you\\\\r\\\\n     don\\\\\\'t derive profits, no royalty is due.  royalties are\\\\r\\\\n     payable to \"project gutenberg association / illinois\\\\r\\\\n     benedictine college\" within the 60 days following each\\\\r\\\\n     date you prepare (or were legally required to prepare)\\\\r\\\\n     your annual (or equivalent periodic) tax return.\\\\r\\\\n\\\\r\\\\nwhat if you *want* to send money even if you don\\\\\\'t have to?\\\\r\\\\nthe project gratefully accepts contributions in money, time,\\\\r\\\\nscanning machines, ocr software, public domain etexts, royalty\\\\r\\\\nfree copyright licenses, and every other sort of contribution\\\\r\\\\nyou can think of.  money should be paid to \"project gutenberg\\\\r\\\\nassociation / illinois benedictine college\".\\\\r\\\\n\\\\r\\\\nthis \"small print!\" by charles b. kramer, attorney\\\\r\\\\ninternet (72600.2026@compuserve.com); tel: (212-254-5093)\\\\r\\\\n*end*the small print! for public domain etexts*ver.04.29.93*end*\\\\r\\\\n\\\\r\\\\n\\\\r\\\\nall of the original project gutenberg etexts from the\\\\r\\\\n1970\\\\\\'s were produced in all caps, no lower case.  the\\\\r\\\\ncomputers we used then didn\\\\\\'t have lower case at all.\\\\r\\\\n\\\\r\\\\n\\\\r\\\\nthis is a retranscription of one of the first project\\\\r\\\\ngutenberg etexts, offically dated november 22, 1973--\\\\r\\\\nand now officially re-released on november 22, 1993--\\\\r\\\\non the 30th anniversary of his assassination.\\\\r\\\\n\\\\r\\\\n\\\\r\\\\n\\\\r\\\\n***the project gutenberg etext of kennedy\\\\\\'s inaugural address**\\\\r\\\\n\\\\r\\\\njfk\\\\\\'s inaugural address, january 20, 1961, 12:11 est\\\\r\\\\n\\\\r\\\\n\\\\r\\\\nwe observe today not a victory of party but a celebration of freedom. . .\\\\r\\\\nsymbolizing an end as well as a beginning. . .signifying renewal\\\\r\\\\nas well as change for i have sworn before you and almighty god\\\\r\\\\nthe same solemn oath our forbears prescribed nearly a century\\\\r\\\\nand three-quarters ago.\\\\r\\\\n\\\\r\\\\nthe world is very different now, for man holds in his mortal hands\\\\r\\\\nthe power to abolish all forms of human poverty and all forms of human life.\\\\r\\\\nand yet the same revolutionary beliefs for which our forbears fought\\\\r\\\\nare still at issue around the globe. . .the belief that the rights of man\\\\r\\\\ncome not from the generosity of the state but from the hand of god.\\\\r\\\\nwe dare not forget today that we are the heirs of that first revolution.\\\\r\\\\n\\\\r\\\\nlet the word go forth from this time and place. . .to friend and foe alike. . .\\\\r\\\\nthat the torch has been passed to a new generation of americans. . .\\\\r\\\\nborn in this century, tempered by war, disciplined by a hard and bitter peace,\\\\r\\\\nproud of our ancient heritage. . .and unwilling to witness or permit the slow\\\\r\\\\nundoing of those human rights to which this nation has always been committed,\\\\r\\\\nand to which we are committed today. . .at home and around the world.\\\\r\\\\n\\\\r\\\\nlet every nation know. . .whether it wishes us well or ill. . .\\\\r\\\\nthat we shall pay any price, bear any burden, meet any hardship,\\\\r\\\\nsupport any friend, oppose any foe, to assure the survival and\\\\r\\\\nthe success of liberty.  this much we pledge. . .and more.\\\\r\\\\n\\\\r\\\\nto those old allies whose cultural and spiritual origins we share:\\\\r\\\\nwe pledge the loyalty of faithful friends.  united. . .there is\\\\r\\\\nlittle we cannot do in a host of co-operative ventures.\\\\r\\\\ndivided. . .there is little we can do. . .for we dare not meet\\\\r\\\\na powerful challenge, at odds, and split asunder.\\\\r\\\\nto those new states whom we welcome to the ranks of the free:\\\\r\\\\nwe pledge our word that one form of colonial control shall not\\\\r\\\\nhave passed away merely to be replaced by a far more iron tyranny.\\\\r\\\\nwe shall not always expect to find them supporting our view.\\\\r\\\\nbut we shall always hope to find them strongly supporting their\\\\r\\\\nown freedom. . .and to remember that. . .in the past. . .those who\\\\r\\\\nfoolishly sought power by riding the back of the tiger ended up inside.\\\\r\\\\nto those people in the huts and villages of half the globe\\\\r\\\\nstruggling to break the bonds of mass misery:  we pledge our best\\\\r\\\\nefforts to help them help themselves, for whatever period\\\\r\\\\nis required. . .not because the communists may be doing it,\\\\r\\\\nnot because we seek their votes, but because it is right.\\\\r\\\\nif a free society cannot help the many who are poor,\\\\r\\\\nit cannot save the few who are rich.\\\\r\\\\n\\\\r\\\\nto our sister republics south of our border:  we offer a special pledge. . .\\\\r\\\\nto convert our good words into good deeds. . .in a new alliance for progress\\\\r\\\\n. . .to assist free men and free governments in casting off the chains of\\\\r\\\\npoverty.  but this peaceful revolution of hope cannot become the prey of\\\\r\\\\nhostile powers.  let all our neighbors know that we shall join with them\\\\r\\\\nto oppose aggression or subversion anywhere in the americas. . .and let\\\\r\\\\nevery other power know that this hemisphere intends to remain the master\\\\r\\\\nof its own house.\\\\r\\\\n\\\\r\\\\nto that world assembly of sovereign states:  the united nations. . .\\\\r\\\\nour last best hope in an age where the instruments of war\\\\r\\\\nhave far outpaced the instruments of peace, we renew our pledge\\\\r\\\\nof support. . .to prevent it from becoming merely a forum for\\\\r\\\\ninvective. . .to strengthen its shield of the new and the weak. . .\\\\r\\\\nand to enlarge the area in which its writ may run.\\\\r\\\\n\\\\r\\\\nfinally, to those nations who would make themselves our adversaries,\\\\r\\\\nwe offer not a pledge but a request:  that both sides begin anew\\\\r\\\\nthe quest for peace; before the dark powers of destruction unleashed\\\\r\\\\nby science engulf all humanity in planned or accidental self-destruction.\\\\r\\\\nwe dare not tempt them with weakness.  for only when our arms are sufficient\\\\r\\\\nbeyond doubt can we be certain beyond doubt that they will never be employed.\\\\r\\\\nbut neither can two great and powerful groups of nations take comfort from\\\\r\\\\nour present course. . .both sides overburdened by the cost of modern weapons,\\\\r\\\\nboth rightly alarmed by the steady spread of the deadly atom, yet both racing\\\\r\\\\nto alter that uncertain balance of terror that stays the hand of mankind\\\\\\'s\\\\r\\\\nfinal war.\\\\r\\\\n\\\\r\\\\nso let us begin anew. . .remembering on both sides that civility\\\\r\\\\nis not a sign of weakness, and sincerity is always subject to proof.\\\\r\\\\nlet us never negotiate out of fear, but let us never fear to negotiate.\\\\r\\\\nlet both sides explore what problems unite us instead of belaboring\\\\r\\\\nthose problems which divide us.  let both sides, for the first time,\\\\r\\\\nformulate serious and precise proposals for the inspection and\\\\r\\\\ncontrol of arms. . .and bring the absolute power to destroy\\\\r\\\\nother nations under the absolute control of all nations.\\\\r\\\\nlet both sides seek to invoke the wonders of science instead\\\\r\\\\nof its terrors.  together let us explore the stars, conquer the\\\\r\\\\ndeserts, eradicate disease, tap the ocean depths, and encourage\\\\r\\\\nthe arts and commerce.  let both sides unite to heed in all corners\\\\r\\\\nof the earth the command of isaiah. . .to \"undo the heavy burdens. . .\\\\r\\\\nlet the oppressed go free.\"\\\\r\\\\n\\\\r\\\\nand if a beachhead of co-operation may push back the jungle of suspicion. . .\\\\r\\\\nlet both sides join in creating not a new balance of power. . .\\\\r\\\\nbut a new world of law. . .where the strong are just. . .\\\\r\\\\nand the weak secure. . .and the peace preserved. . . .\\\\r\\\\n\\\\r\\\\nall this will not be finished in the first one hundred days.\\\\r\\\\nnor will it be finished in the first one thousand days. . .\\\\r\\\\nnor in the life of this administration, nor even perhaps\\\\r\\\\nin our lifetime on this planet.  but let us begin.\\\\r\\\\n\\\\r\\\\nin your hands, my fellow citizens. . .more than mine. . .will rest the\\\\r\\\\nfinal success or failure of our course.  since this country was founded,\\\\r\\\\neach generation of americans has been summoned to give testimony\\\\r\\\\nto its national loyalty.  the graves of young americans who answered\\\\r\\\\nthe call to service surround the globe.  now the trumpet summons us again. . .\\\\r\\\\nnot as a call to bear arms, though arms we need. . .not as a call to battle. . .\\\\r\\\\nthough embattled we are. . .but a call to bear the burden of a long\\\\r\\\\ntwilight struggle. . .year in and year out, rejoicing in hope,\\\\r\\\\npatient in tribulation. . .a struggle against the common enemies of man:\\\\r\\\\ntyranny. . .poverty. . .disease. . .and war itself.  can we forge against\\\\r\\\\nthese enemies a grand and global alliance. . .north and south. . .\\\\r\\\\neast and west. . .that can assure a more fruitful life for all mankind?\\\\r\\\\nwill you join in that historic effort?\\\\r\\\\n\\\\r\\\\nin the long history of the world, only a few generations have been granted\\\\r\\\\nthe role of defending freedom in its hour of maximum danger; i do not shrink\\\\r\\\\nfrom this responsibility. . .i welcome it.  i do not believe that any of us\\\\r\\\\nwould exchange places with any other people or any other generation.\\\\r\\\\nthe energy, the faith, the devotion which we bring to this endeavor\\\\r\\\\nwill light our country and all who serve it. . .and the glow from\\\\r\\\\nthat fire can truly light the world.\\\\r\\\\n\\\\r\\\\nand so, my fellow americans. . .ask not what your country can\\\\r\\\\ndo for you. . .ask what you can do for your country.  my fellow\\\\r\\\\ncitizens of the world. . .ask not what america will do for you,\\\\r\\\\nbut what together we can do for the freedom of man.\\\\r\\\\n\\\\r\\\\nfinally, whether you are citizens of america or citizens of the world,\\\\r\\\\nask of us here the same high standards of strength and sacrifice\\\\r\\\\nwhich we ask of you.  with a good conscience our only sure reward,\\\\r\\\\nwith history the final judge of our deeds; let us go forth to lead\\\\r\\\\nthe land we love, asking his blessing and his help, but knowing that\\\\r\\\\nhere on earth god\\\\\\'s work must truly be our own.\\''"
      ]
     },
     "execution_count": 104,
     "metadata": {},
     "output_type": "execute_result"
    }
   ],
   "source": [
    "data['text'] = [remove_accented_chars(text) for text in data['text']]\n",
    "data['text'][2]"
   ]
  },
  {
   "cell_type": "markdown",
   "metadata": {},
   "source": [
    "## Invoking various scrub functions"
   ]
  },
  {
   "cell_type": "code",
   "execution_count": 105,
   "metadata": {},
   "outputs": [],
   "source": [
    "def scrub_words(text):\n",
    "    #Replace \\xao characters in text\n",
    "    text = re.sub('\\xa0', ' ', text)\n",
    "    \n",
    "    #Replace non ascii / not words and digits\n",
    "    text = re.sub(\"(\\\\W|\\\\d)\",' ',text)\n",
    "    \n",
    "    #Replace new line characters and following text untill space\n",
    "    text = re.sub('\\n(\\w*?)[\\s]', '', text)\n",
    "    \n",
    "    #Remove html markup\n",
    "    text = re.sub(\"<.*?>\", ' ', text)\n",
    "    \n",
    "    #Remove extra spaces from the text\n",
    "    text = re.sub(\"\\s+\", ' ', text)\n",
    "    return text"
   ]
  },
  {
   "cell_type": "code",
   "execution_count": 106,
   "metadata": {},
   "outputs": [
    {
     "data": {
      "text/plain": [
       "'b xef xbb xbf welcome to the world of free plain vanilla electronic texts r n r n etexts readable by both humans and by computers since r n r n these etexts prepared by hundreds of volunteers and donations r n r n r ndecember etext r n r n r n the project gutenberg etext of the u s bill of rights r n this file should be named txt or zip r n r nwe apologize for the fact that the legal small print is longer r nand more complicated than the etext itself our legal beagles r nof whom there are now a half dozen or so insist this must be a r npart of any project gutenberg etext we post for our protection r nfrom the rest of the legal beagles out there the us has twice r nas many lawyers as the rest of the world combined r n r nyou are free to delete the headers and just keep the etexts we r nare not free not to post it this way again my apologies the r nnormal project gutenberg blurb has been deleted you can get it r nin this location in most project gutenberg etexts thanks mh r n r n r n start the small print for public domain etexts start r nwhy is this small print statement here you know lawyers r nthey tell us you might sue us if there is something wrong with r nyour copy of this etext even if you got it for free from r nsomeone other than us and even if what s wrong is not our r nfault so among other things this small print statement r ndisclaims most of our liability to you it also tells you how r nyou can distribute copies of this etext if you want to r n r n before you use or read this etext r nby using or reading any part of this project gutenberg tm r netext you indicate that you understand agree to and accept r nthis small print statement if you do not you can receive r na refund of the money if any you paid for this etext by r nsending a request within days of receiving it to the person r nyou got it from if you received this etext on a physical r nmedium such as a disk you must return it with your request r n r nabout project gutenberg tm etexts r nthis project gutenberg tm etext like most project gutenberg r ntm etexts is a public domain work distributed by professor r nmichael s hart through the project gutenberg association at r nillinois benedictine college the project among other r nthings this means that no one owns a united states copyright r non or for this work so the project and you can copy and r ndistribute it in the united states without permission and r nwithout paying copyright royalties special rules set forth r nbelow apply if you wish to copy and distribute this etext r nunder the project s project gutenberg trademark r n r nto create these etexts the project expends considerable r nefforts to identify transcribe and proofread public domain r nworks despite these efforts the project s etexts and any r nmedium they may be on may contain defects among other r nthings defects may take the form of incomplete inaccurate or r ncorrupt data transcription errors a copyright or other r nintellectual property infringement a defective or damaged r ndisk or other etext medium a computer virus or computer r ncodes that damage or cannot be read by your equipment r n r nlimited warranty disclaimer of damages r nbut for the right of replacement or refund described below r n the project and any other party you may receive this r netext from as a project gutenberg tm etext disclaims all r nliability to you for damages costs and expenses including r nlegal fees and you have no remedies for negligence or r nunder strict liability or for breach of warranty or contract r nincluding but not limited to indirect consequential punitive r nor incidental damages even if you give notice of the r npossibility of such damages r n r nif you discover a defect in this etext within days of r nreceiving it you can receive a refund of the money if any r nyou paid for it by sending an explanatory note within that r ntime to the person you received it from if you received it r non a physical medium you must return it with your note and r nsuch person may choose to alternatively give you a replacement r ncopy if you received it electronically such person may r nchoose to alternatively give you a second opportunity to r nreceive it electronically r n r nthis etext is otherwise provided to you as is no other r nwarranties of any kind express or implied are made to you as r nto the etext or any medium it may be on including but not r nlimited to warranties of merchantability or fitness for a r nparticular purpose r n r nsome states do not allow disclaimers of implied warranties or r nthe exclusion or limitation of consequential damages so the r nabove disclaimers and exclusions may not apply to you and you r nmay have other legal rights r n r nindemnity r nyou will indemnify and hold the project its directors r nofficers members and agents harmless from all liability cost r nand expense including legal fees that arise directly or r nindirectly from any of the following that you do or cause r n distribution of this etext alteration modification r nor addition to the etext or any defect r n r ndistribution under project gutenberg tm r nyou may distribute copies of this etext electronically or by r ndisk book or any other medium if you either delete this r n small print and all other references to project gutenberg r nor r n r n only give exact copies of it among other things this r n requires that you do not remove alter or modify the r n etext or this small print statement you may however r n if you wish distribute this etext in machine readable r n binary compressed mark up or proprietary form r n including any form resulting from conversion by word pro r n cessing or hypertext software but only so long as r n either r n r n the etext when displayed is clearly readable and r n does not contain characters other than those r n intended by the author of the work although tilde r n asterisk and underline _ characters may r n be used to convey punctuation intended by the r n author and additional characters may be used to r n indicate hypertext links or r n r n the etext may be readily converted by the reader at r n no expense into plain ascii ebcdic or equivalent r n form by the program that displays the etext as is r n the case for instance with most word processors r n or r n r n you provide or agree to also provide on request at r n no additional cost fee or expense a copy of the r n etext in its original plain ascii form or in ebcdic r n or other equivalent proprietary form r n r n honor the etext refund and replacement provisions of this r n small print statement r n r n pay a trademark license fee to the project of of the r n net profits you derive calculated using the method you r n already use to calculate your applicable taxes if you r n don t derive profits no royalty is due royalties are r n payable to project gutenberg association illinois r n benedictine college within the days following each r n date you prepare or were legally required to prepare r n your annual or equivalent periodic tax return r n r nwhat if you want to send money even if you don t have to r nthe project gratefully accepts contributions in money time r nscanning machines ocr software public domain etexts royalty r nfree copyright licenses and every other sort of contribution r nyou can think of money should be paid to project gutenberg r nassociation illinois benedictine college r n r nthis small print by charles b kramer attorney r ninternet compuserve com tel r n end the small print for public domain etexts ver end r n r n r nall of the original project gutenberg etexts from the r n s were produced in all caps no lower case the r ncomputers we used then didn t have lower case at all r n r n r n r nthese original project gutenberg etexts will be compiled into a file r ncontaining them all in order to improve the content ratios of etext r nto header material r n r n r n r n r n r nthe united states bill of rights r n r nthe ten original amendments to the constitution of the united states r npassed by congress september r nratified december r n r n r n r ni r n r ncongress shall make no law respecting an establishment of religion r nor prohibiting the free exercise thereof or abridging the freedom of speech r nor of the press or the right of the people peaceably to assemble r nand to petition the government for a redress of grievances r n r n r nii r n r na well regulated militia being necessary to the security of a free state r nthe right of the people to keep and bear arms shall not be infringed r n r n r niii r nno soldier shall in time of peace be quartered in any house r nwithout the consent of the owner nor in time of war r nbut in a manner to be prescribed by law r n r n r niv r n r nthe right of the people to be secure in their persons houses papers r nand effects against unreasonable searches and seizures shall not be violated r nand no warrants shall issue but upon probable cause supported by oath r nor affirmation and particularly describing the place to be searched r nand the persons or things to be seized r n r n r nv r n r nno person shall be held to answer for a capital or otherwise infamous crime r nunless on a presentment or indictment of a grand jury except in cases arising r nin the land or naval forces or in the militia when in actual service r nin time of war or public danger nor shall any person be subject for r nthe same offense to be twice put in jeopardy of life or limb r nnor shall be compelled in any criminal case to be a witness against himself r nnor be deprived of life liberty or property without due process of law r nnor shall private property be taken for public use without just compensation r n r n r nvi r n r nin all criminal prosecutions the accused shall enjoy the right to a r nspeedy and public trial by an impartial jury of the state and district r nwherein the crime shall have been committed which district shall have r nbeen previously ascertained by law and to be informed of the nature r nand cause of the accusation to be confronted with the witnesses against him r nto have compulsory process for obtaining witnesses in his favor r nand to have the assistance of counsel for his defense r n r n r nvii r n r nin suits at common law where the value in controversy shall exceed r ntwenty dollars the right of trial by jury shall be preserved r nand no fact tried by a jury shall be otherwise re examined in any court r nof the united states than according to the rules of the common law r n r n r nviii r n r nexcessive bail shall not be required nor excessive fines imposed r nnor cruel and unusual punishments inflicted r n r n r nix r n r nthe enumeration in the constitution of certain rights r nshall not be construed to deny or disparage others retained by the people r n r nx r n r nthe powers not delegated to the united states by the constitution r nnor prohibited by it to the states are reserved to the states respectively r nor to the people '"
      ]
     },
     "execution_count": 106,
     "metadata": {},
     "output_type": "execute_result"
    }
   ],
   "source": [
    "data['text'] = [scrub_words(text) for text in data['text']]\n",
    "data['text'][1]"
   ]
  },
  {
   "cell_type": "markdown",
   "metadata": {},
   "source": [
    "# Text Preprocessing"
   ]
  },
  {
   "cell_type": "code",
   "execution_count": 107,
   "metadata": {},
   "outputs": [
    {
     "data": {
      "text/html": [
       "<div>\n",
       "<style scoped>\n",
       "    .dataframe tbody tr th:only-of-type {\n",
       "        vertical-align: middle;\n",
       "    }\n",
       "\n",
       "    .dataframe tbody tr th {\n",
       "        vertical-align: top;\n",
       "    }\n",
       "\n",
       "    .dataframe thead th {\n",
       "        text-align: right;\n",
       "    }\n",
       "</style>\n",
       "<table border=\"1\" class=\"dataframe\">\n",
       "  <thead>\n",
       "    <tr style=\"text-align: right;\">\n",
       "      <th></th>\n",
       "      <th>text</th>\n",
       "      <th>author</th>\n",
       "    </tr>\n",
       "  </thead>\n",
       "  <tbody>\n",
       "    <tr>\n",
       "      <th>0</th>\n",
       "      <td>b xef xbb xbf r n r n r n r n note this file c...</td>\n",
       "      <td>Jefferson, Thomas, 1743-1826</td>\n",
       "    </tr>\n",
       "    <tr>\n",
       "      <th>1</th>\n",
       "      <td>b xef xbb xbf welcome to the world of free pla...</td>\n",
       "      <td>United States</td>\n",
       "    </tr>\n",
       "    <tr>\n",
       "      <th>2</th>\n",
       "      <td>b xef xbb xbf welcome to the world of free pla...</td>\n",
       "      <td>Kennedy, John F. (John Fitzgerald), 1917-1963</td>\n",
       "    </tr>\n",
       "    <tr>\n",
       "      <th>3</th>\n",
       "      <td>b xef xbb xbf r n r n welcome to the world of ...</td>\n",
       "      <td>Lincoln, Abraham, 1809-1865</td>\n",
       "    </tr>\n",
       "    <tr>\n",
       "      <th>4</th>\n",
       "      <td>b xef xbb xbfthe project gutenberg ebook of th...</td>\n",
       "      <td>United States</td>\n",
       "    </tr>\n",
       "  </tbody>\n",
       "</table>\n",
       "</div>"
      ],
      "text/plain": [
       "                                                text  \\\n",
       "0  b xef xbb xbf r n r n r n r n note this file c...   \n",
       "1  b xef xbb xbf welcome to the world of free pla...   \n",
       "2  b xef xbb xbf welcome to the world of free pla...   \n",
       "3  b xef xbb xbf r n r n welcome to the world of ...   \n",
       "4  b xef xbb xbfthe project gutenberg ebook of th...   \n",
       "\n",
       "                                          author  \n",
       "0                   Jefferson, Thomas, 1743-1826  \n",
       "1                                  United States  \n",
       "2  Kennedy, John F. (John Fitzgerald), 1917-1963  \n",
       "3                    Lincoln, Abraham, 1809-1865  \n",
       "4                                  United States  "
      ]
     },
     "execution_count": 107,
     "metadata": {},
     "output_type": "execute_result"
    }
   ],
   "source": [
    "data.head()"
   ]
  },
  {
   "cell_type": "markdown",
   "metadata": {},
   "source": [
    "#### Converting dataframe back to dictionary"
   ]
  },
  {
   "cell_type": "code",
   "execution_count": 108,
   "metadata": {},
   "outputs": [
    {
     "name": "stdout",
     "output_type": "stream",
     "text": [
      "The keys in the dictionary are dict_keys(['index', 'text', 'author'])\n"
     ]
    }
   ],
   "source": [
    "data = data.reset_index().to_dict(orient='list')\n",
    "print(f\"The keys in the dictionary are {data.keys()}\")"
   ]
  },
  {
   "cell_type": "code",
   "execution_count": 109,
   "metadata": {
    "scrolled": true
   },
   "outputs": [
    {
     "name": "stdout",
     "output_type": "stream",
     "text": [
      "b xef xbb xbf welcome to the world of free plain vanilla electronic texts r n r n etexts readable by both humans and by computers since r n r n these etexts prepared by hundreds of volunteers and donations r n r n r nthe project gutenberg etext of give me liberty or give me death r n r n this file should be named txt or zip r n r ndecember etext r n date last updated may r n r nofficially released in december unofficially released for r nthe th anniversary of the speech by patrick henry before the r n house as he referred to it which was the virgina provincial r nconvention march r n r nwe apologize for the fact that the legal small print is longer r nand more complicated than the etext itself our legal beagles r nof whom there are now a half dozen or so insist this must be a r npart of any project gutenberg etext we post for our protection r nfrom the rest of the legal beagles out there the us has twice r nas many lawyers as the rest of the world combined r n r nyou are free to delete the headers and just keep the etexts we r nare not free not to post it this way again my apologies the r nnormal project gutenberg blurb has been deleted you can get it r nin this location in most project gutenberg etexts thanks mh r n r n r n r n start the small print for public domain etexts start r nwhy is this small print statement here you know lawyers r nthey tell us you might sue us if there is something wrong with r nyour copy of this etext even if you got it for free from r nsomeone other than us and even if what s wrong is not our r nfault so among other things this small print statement r ndisclaims most of our liability to you it also tells you how r nyou can distribute copies of this etext if you want to r n r n before you use or read this etext r nby using or reading any part of this project gutenberg tm r netext you indicate that you understand agree to and accept r nthis small print statement if you do not you can receive r na refund of the money if any you paid for this etext by r nsending a request within days of receiving it to the person r nyou got it from if you received this etext on a physical r nmedium such as a disk you must return it with your request r n r nabout project gutenberg tm etexts r nthis project gutenberg tm etext like most project gutenberg r ntm etexts is a public domain work distributed by professor r nmichael s hart through the project gutenberg association at r nillinois benedictine college the project among other r nthings this means that no one owns a united states copyright r non or for this work so the project and you can copy and r ndistribute it in the united states without permission and r nwithout paying copyright royalties special rules set forth r nbelow apply if you wish to copy and distribute this etext r nunder the project s project gutenberg trademark r n r nto create these etexts the project expends considerable r nefforts to identify transcribe and proofread public domain r nworks despite these efforts the project s etexts and any r nmedium they may be on may contain defects among other r nthings defects may take the form of incomplete inaccurate or r ncorrupt data transcription errors a copyright or other r nintellectual property infringement a defective or damaged r ndisk or other etext medium a computer virus or computer r ncodes that damage or cannot be read by your equipment r n r nlimited warranty disclaimer of damages r nbut for the right of replacement or refund described below r n the project and any other party you may receive this r netext from as a project gutenberg tm etext disclaims all r nliability to you for damages costs and expenses including r nlegal fees and you have no remedies for negligence or r nunder strict liability or for breach of warranty or contract r nincluding but not limited to indirect consequential punitive r nor incidental damages even if you give notice of the r npossibility of such damages r n r nif you discover a defect in this etext within days of r nreceiving it you can receive a refund of the money if any r nyou paid for it by sending an explanatory note within that r ntime to the person you received it from if you received it r non a physical medium you must return it with your note and r nsuch person may choose to alternatively give you a replacement r ncopy if you received it electronically such person may r nchoose to alternatively give you a second opportunity to r nreceive it electronically r n r nthis etext is otherwise provided to you as is no other r nwarranties of any kind express or implied are made to you as r nto the etext or any medium it may be on including but not r nlimited to warranties of merchantability or fitness for a r nparticular purpose r n r nsome states do not allow disclaimers of implied warranties or r nthe exclusion or limitation of consequential damages so the r nabove disclaimers and exclusions may not apply to you and you r nmay have other legal rights r n r nindemnity r nyou will indemnify and hold the project its directors r nofficers members and agents harmless from all liability cost r nand expense including legal fees that arise directly or r nindirectly from any of the following that you do or cause r n distribution of this etext alteration modification r nor addition to the etext or any defect r n r ndistribution under project gutenberg tm r nyou may distribute copies of this etext electronically or by r ndisk book or any other medium if you either delete this r n small print and all other references to project gutenberg r nor r n r n only give exact copies of it among other things this r n requires that you do not remove alter or modify the r n etext or this small print statement you may however r n if you wish distribute this etext in machine readable r n binary compressed mark up or proprietary form r n including any form resulting from conversion by word pro r n cessing or hypertext software but only so long as r n either r n r n the etext when displayed is clearly readable and r n does not contain characters other than those r n intended by the author of the work although tilde r n asterisk and underline _ characters may r n be used to convey punctuation intended by the r n author and additional characters may be used to r n indicate hypertext links or r n r n the etext may be readily converted by the reader at r n no expense into plain ascii ebcdic or equivalent r n form by the program that displays the etext as is r n the case for instance with most word processors r n or r n r n you provide or agree to also provide on request at r n no additional cost fee or expense a copy of the r n etext in its original plain ascii form or in ebcdic r n or other equivalent proprietary form r n r n honor the etext refund and replacement provisions of this r n small print statement r n r n pay a trademark license fee to the project of of the r n net profits you derive calculated using the method you r n already use to calculate your applicable taxes if you r n don t derive profits no royalty is due royalties are r n payable to project gutenberg association illinois r n benedictine college within the days following each r n date you prepare or were legally required to prepare r n your annual or equivalent periodic tax return r n r nwhat if you want to send money even if you don t have to r nthe project gratefully accepts contributions in money time r nscanning machines ocr software public domain etexts royalty r nfree copyright licenses and every other sort of contribution r nyou can think of money should be paid to project gutenberg r nassociation illinois benedictine college r n r nthis small print by charles b kramer attorney r ninternet compuserve com tel r n end the small print for public domain etexts ver end r n r n r nall of the original project gutenberg etexts from the r n s were produced in all caps no lower case the r ncomputers we used then didn t have lower case at all r n r n r n r nthese original project gutenberg etexts will be compiled into a file r ncontaining them all in order to improve the content ratios of etext r nto header material r n r n r n r n r ngive me liberty or give me death r n r n r npatrick henry march r n r n r nno man thinks more highly than i do of the patriotism as well as abilities r nof the very worthy gentlemen who have just addressed the house but different r nmen often see the same subject in different lights and therefore i hope it r nwill not be thought disrespectful to those gentlemen if entertaining as i do r nopinions of a character very opposite to theirs i shall speak forth my r nsentiments freely and without reserve this is no time for ceremony r nthe question before the house is one of awful moment to this country r nfor my own part i consider it as nothing less than a question of r nfreedom or slavery and in proportion to the magnitude of the subject r nought to be the freedom of the debate it is only in this way that r nwe can hope to arrive at truth and fulfill the great responsibility r nwhich we hold to god and our country should i keep back my opinions r nat such a time through fear of giving offense i should consider myself r nas guilty of treason towards my country and of an act of disloyalty r ntoward the majesty of heaven which i revere above all earthly kings r n r nmr president it is natural to man to indulge in the illusions of hope r nwe are apt to shut our eyes against a painful truth and listen to the r nsong of that siren till she transforms us into beasts is this the part r nof wise men engaged in a great and arduous struggle for liberty r nare we disposed to be of the number of those who having eyes see not r nand having ears hear not the things which so nearly concern their r ntemporal salvation for my part whatever anguish of spirit it may cost r ni am willing to know the whole truth to know the worst and to provide for it r n r ni have but one lamp by which my feet are guided and that is the lamp of r nexperience i know of no way of judging of the future but by the past r nand judging by the past i wish to know what there has been in the conduct r nof the british ministry for the last ten years to justify those hopes with r nwhich gentlemen have been pleased to solace themselves and the house r nis it that insidious smile with which our petition has been lately received r ntrust it not sir it will prove a snare to your feet suffer not yourselves r nto be betrayed with a kiss ask yourselves how this gracious reception of our r npetition comports with those warlike preparations which cover our waters and r ndarken our land are fleets and armies necessary to a work of love and r nreconciliation have we shown ourselves so unwilling to be reconciled that r nforce must be called in to win back our love let us not deceive ourselves r nsir these are the implements of war and subjugation the last arguments to r nwhich kings resort i ask gentlemen sir what means this martial array if r nits purpose be not to force us to submission can gentlemen assign any other r npossible motive for it has great britain any enemy in this quarter of r nthe world to call for all this accumulation of navies and armies no sir r nshe has none they are meant for us they can be meant for no other r nthey are sent over to bind and rivet upon us those chains which the british r nministry have been so long forging and what have we to oppose to them r nshall we try argument sir we have been trying that for the last ten years r nhave we anything new to offer upon the subject nothing we have held the r nsubject up in every light of which it is capable but it has been all in vain r nshall we resort to entreaty and humble supplication what terms shall we r nfind which have not been already exhausted let us not i beseech you sir r ndeceive ourselves sir we have done everything that could be done to avert r nthe storm which is now coming on we have petitioned we have remonstrated r nwe have supplicated we have prostrated ourselves before the throne and have r nimplored its interposition to arrest the tyrannical hands of the ministry and r nparliament our petitions have been slighted our remonstrances have produced r nadditional violence and insult our supplications have been disregarded r nand we have been spurned with contempt from the foot of the throne r nin vain after these things may we indulge the fond hope of peace and r nreconciliation there is no longer any room for hope if we wish to be free r nif we mean to preserve inviolate those inestimable privileges for which r nwe have been so long contending if we mean not basely to abandon the noble r nstruggle in which we have been so long engaged and which we have pledged r nourselves never to abandon until the glorious object of our contest r nshall be obtained we must fight i repeat it sir we must fight r nan appeal to arms and to the god of hosts is all that is left us r n r nthey tell us sir that we are weak unable to cope with so formidable r nan adversary but when shall we be stronger will it be the next week r nor the next year will it be when we are totally disarmed and when a british r nguard shall be stationed in every house shall we gather strength by r nirresolution and inaction shall we acquire the means of effectual resistance r nby lying supinely on our backs and hugging the delusive phantom of hope until r nour enemies shall have bound us hand and foot sir we are not weak if we make r na proper use of those means which the god of nature hath placed in our power r nthe millions of people armed in the holy cause of liberty and in such a r ncountry as that which we possess are invincible by any force which our enemy r ncan send against us besides sir we shall not fight our battles alone r nthere is a just god who presides over the destinies of nations and who will r nraise up friends to fight our battles for us the battle sir is not to the r nstrong alone it is to the vigilant the active the brave besides sir r nwe have no election if we were base enough to desire it it is now too late r nto retire from the contest there is no retreat but in submission and slavery r nour chains are forged their clanking may be heard on the plains of boston r nthe war is inevitable and let it come i repeat it sir let it come r n r nit is in vain sir to extenuate the matter gentlemen may cry peace peace r nbut there is no peace the war is actually begun the next gale that sweeps r nfrom the north will bring to our ears the clash of resounding arms r nour brethren are already in the field why stand we here idle r nwhat is it that gentlemen wish what would they have is life so dear r nor peace so sweet as to be purchased at the price of chains and slavery r nforbid it almighty god i know not what course others may take r nbut as for me give me liberty or give me death "
     ]
    },
    {
     "name": "stdout",
     "output_type": "stream",
     "text": [
      "\n"
     ]
    }
   ],
   "source": [
    "print(data['text'][5])"
   ]
  },
  {
   "cell_type": "code",
   "execution_count": 110,
   "metadata": {},
   "outputs": [
    {
     "data": {
      "text/plain": [
       "list"
      ]
     },
     "execution_count": 110,
     "metadata": {},
     "output_type": "execute_result"
    }
   ],
   "source": [
    "type(data['text'])"
   ]
  },
  {
   "cell_type": "markdown",
   "metadata": {},
   "source": [
    "## Stopwords, stemming, and tokenizing"
   ]
  },
  {
   "cell_type": "code",
   "execution_count": 111,
   "metadata": {},
   "outputs": [],
   "source": [
    "#!conda install -c conda-forge spacy\n",
    "#!python -m spacy download en_core_web_sm\n",
    "#!pip install -U spacy\n",
    "import spacy\n",
    "nlp = spacy.load(\"en_core_web_sm\")\n",
    "\n",
    "# import en_core_web_sm\n",
    "#nlp = en_core_web_sm.load()"
   ]
  },
  {
   "cell_type": "code",
   "execution_count": 112,
   "metadata": {},
   "outputs": [],
   "source": [
    "## Adding Custom stopwords to the spacy stopword list\n",
    "customize_stop_words = ['xef','xbb','xbf']\n",
    "\n",
    "for w in customize_stop_words:\n",
    "    nlp.vocab[w].is_stop = True"
   ]
  },
  {
   "cell_type": "code",
   "execution_count": 113,
   "metadata": {},
   "outputs": [],
   "source": [
    "## It might be surprising, but spaCy doesn't contain any function for stemming as it relies on lemmatization only. \n",
    "## Therefore, in this section, we will use NLTK for stemming.\n",
    "\n",
    "## load nltk's SnowballStemmer as variable 'stemmer'\n",
    "from nltk.stem.snowball import SnowballStemmer\n",
    "stemmer = SnowballStemmer(\"english\")"
   ]
  },
  {
   "cell_type": "code",
   "execution_count": 114,
   "metadata": {},
   "outputs": [],
   "source": [
    "# Here I define a tokenizer and stemmer which returns the set of stems (excluding stop words) in the text that it is passed\n",
    "\n",
    "def tokenize_and_stem(doc, remove_stopwords = True):\n",
    "    # first tokenize by sentence, then by word to ensure that punctuation is caught as it's own token\n",
    "    if remove_stopwords:\n",
    "        tokens = [word.text for word in doc if not word.is_stop]\n",
    "    else:\n",
    "        tokens = [word.text for word in doc]\n",
    "\n",
    "    filtered_tokens = []\n",
    "    # filter out any tokens not containing letters (e.g., numeric tokens, raw punctuation)\n",
    "    for token in tokens:\n",
    "        if re.search('[a-zA-Z]', token):\n",
    "            filtered_tokens.append(token)\n",
    "\n",
    "    stems = [stemmer.stem(t) for t in filtered_tokens]\n",
    "    return stems\n",
    "\n",
    "def tokenize_and_lemmatize(doc, remove_stopwords = True):\n",
    "    \n",
    "    if remove_stopwords:\n",
    "        tokens = [word for word in doc if not word.is_stop]\n",
    "    else:\n",
    "        tokens = [word for word in doc]\n",
    "        \n",
    "    filtered_tokens = []\n",
    "    # filter out any tokens not containing letters (e.g., numeric tokens, raw punctuation)\n",
    "    for token in tokens:\n",
    "        if re.search('[a-zA-Z]', token.text):\n",
    "            filtered_tokens.append(token)\n",
    "            \n",
    "    lemma = [t.lemma_ for t in filtered_tokens]\n",
    "    return lemma\n",
    "\n",
    "\n",
    "def tokenize_only(doc, remove_stopwords = True):\n",
    "    \n",
    "    if remove_stopwords:\n",
    "        tokens = [word.text for word in doc if not word.is_stop]\n",
    "    else:\n",
    "        tokens = [word.text for word in doc]\n",
    "    filtered_tokens = []\n",
    "    # filter out any tokens not containing letters (e.g., numeric tokens, raw punctuation)\n",
    "    for token in tokens:\n",
    "        if re.search('[a-zA-Z]', token):\n",
    "            filtered_tokens.append(token)\n",
    "    return filtered_tokens"
   ]
  },
  {
   "cell_type": "code",
   "execution_count": 116,
   "metadata": {
    "scrolled": true
   },
   "outputs": [],
   "source": [
    "data=pd.DataFrame(data)"
   ]
  },
  {
   "cell_type": "code",
   "execution_count": 119,
   "metadata": {},
   "outputs": [],
   "source": [
    "data=data.drop([107])"
   ]
  },
  {
   "cell_type": "code",
   "execution_count": 121,
   "metadata": {},
   "outputs": [
    {
     "name": "stdout",
     "output_type": "stream",
     "text": [
      "The keys in the dictionary are dict_keys(['level_0', 'index', 'text', 'author'])\n"
     ]
    }
   ],
   "source": [
    "data = data.reset_index().to_dict(orient='list')\n",
    "print(f\"The keys in the dictionary are {data.keys()}\")"
   ]
  },
  {
   "cell_type": "code",
   "execution_count": 123,
   "metadata": {},
   "outputs": [],
   "source": [
    "nlp = spacy.load('en_core_web_sm') \n",
    "nlp.max_length =2500000"
   ]
  },
  {
   "cell_type": "code",
   "execution_count": 124,
   "metadata": {
    "scrolled": true
   },
   "outputs": [
    {
     "name": "stdout",
     "output_type": "stream",
     "text": [
      "processing 0 document\n",
      "processing 1 document\n",
      "processing 2 document\n",
      "processing 3 document\n",
      "processing 4 document\n",
      "processing 5 document\n",
      "processing 6 document\n",
      "processing 7 document\n",
      "processing 8 document\n",
      "processing 9 document\n",
      "processing 10 document\n",
      "processing 11 document\n",
      "processing 12 document\n",
      "processing 13 document\n",
      "processing 14 document\n",
      "processing 15 document\n",
      "processing 16 document\n",
      "processing 17 document\n",
      "processing 18 document\n",
      "processing 19 document\n",
      "processing 20 document\n",
      "processing 21 document\n",
      "processing 22 document\n",
      "processing 23 document\n",
      "processing 24 document\n",
      "processing 25 document\n",
      "processing 26 document\n",
      "processing 27 document\n",
      "processing 28 document\n",
      "processing 29 document\n",
      "processing 30 document\n",
      "processing 31 document\n",
      "processing 32 document\n",
      "processing 33 document\n",
      "processing 34 document\n",
      "processing 35 document\n",
      "processing 36 document\n",
      "processing 37 document\n",
      "processing 38 document\n",
      "processing 39 document\n",
      "processing 40 document\n",
      "processing 41 document\n",
      "processing 42 document\n",
      "processing 43 document\n",
      "processing 44 document\n",
      "processing 45 document\n",
      "processing 46 document\n",
      "processing 47 document\n",
      "processing 48 document\n",
      "processing 49 document\n",
      "processing 50 document\n",
      "processing 51 document\n",
      "processing 52 document\n",
      "processing 53 document\n",
      "processing 54 document\n",
      "processing 55 document\n",
      "processing 56 document\n",
      "processing 57 document\n",
      "processing 58 document\n",
      "processing 59 document\n",
      "processing 60 document\n",
      "processing 61 document\n",
      "processing 62 document\n",
      "processing 63 document\n",
      "processing 64 document\n",
      "processing 65 document\n",
      "processing 66 document\n",
      "processing 67 document\n",
      "processing 68 document\n",
      "processing 69 document\n",
      "processing 70 document\n",
      "processing 71 document\n",
      "processing 72 document\n",
      "processing 73 document\n",
      "processing 74 document\n",
      "processing 75 document\n",
      "processing 76 document\n",
      "processing 77 document\n",
      "processing 78 document\n",
      "processing 79 document\n",
      "processing 80 document\n",
      "processing 81 document\n",
      "processing 82 document\n",
      "processing 83 document\n",
      "processing 84 document\n",
      "processing 85 document\n",
      "processing 86 document\n",
      "processing 87 document\n",
      "processing 88 document\n",
      "processing 89 document\n",
      "processing 90 document\n",
      "processing 91 document\n",
      "processing 92 document\n",
      "processing 93 document\n",
      "processing 94 document\n",
      "processing 95 document\n",
      "processing 96 document\n",
      "processing 97 document\n",
      "processing 98 document\n",
      "processing 99 document\n",
      "processing 100 document\n",
      "processing 101 document\n",
      "processing 102 document\n",
      "processing 103 document\n",
      "processing 104 document\n",
      "processing 105 document\n",
      "processing 106 document\n",
      "Wall time: 49min 46s\n"
     ]
    }
   ],
   "source": [
    "%%time\n",
    "## We are trying to create four seperate lists for text with stop words, text without stop words,\n",
    "## text with stemmed words and text with lemmatized words.\n",
    "\n",
    "## Naming Conventions followed ####\n",
    "\n",
    "## 'clean' word is appended to lists which do not contain stopwords\n",
    "\n",
    "## 'all' keyword is appended to lists which contain stopwords.\n",
    "\n",
    "## use extend so it's a big flat list of vocab\n",
    "\n",
    "data['clean_text_stemmed'] = []\n",
    "data['clean_text_lemmatized'] = []\n",
    "data['text_stemmed'] = []\n",
    "data['text_lemmatized'] = []\n",
    "\n",
    "vocab_stemmed = []\n",
    "allvocab_stemmed =[]\n",
    "\n",
    "vocab_tokenized = []\n",
    "allvocab_tokenized = []\n",
    "\n",
    "vocab_lemmatized = []\n",
    "allvocab_lemmatized = []\n",
    "\n",
    "\n",
    "for idx,text in enumerate(data['text']):\n",
    "\n",
    "    doc = nlp(text)\n",
    "    print(f\"processing {idx} document\")\n",
    "    words_stemmed = tokenize_and_stem(doc)\n",
    "    vocab_stemmed.extend(words_stemmed)\n",
    "    data['clean_text_stemmed'].append(words_stemmed)\n",
    "        \n",
    "    words_lemmatized = tokenize_and_lemmatize(doc)\n",
    "    vocab_lemmatized.extend(words_lemmatized)\n",
    "    data['clean_text_lemmatized'].append(words_lemmatized)\n",
    "    \n",
    "       \n",
    "    allwords_stemmed = tokenize_and_stem(doc, False)\n",
    "    allvocab_stemmed.extend(allwords_stemmed)\n",
    "    data['text_stemmed'].append(allwords_stemmed)\n",
    "    \n",
    "    allwords_lemmatized = tokenize_and_lemmatize(doc, False)\n",
    "    allvocab_lemmatized.extend(allwords_lemmatized)\n",
    "    data['text_lemmatized'].append(allwords_lemmatized)\n",
    "    \n",
    "    allwords_tokenized = tokenize_only(doc,False)\n",
    "    allvocab_tokenized.extend(allwords_tokenized)\n",
    "    \n",
    "    words_tokenized = tokenize_only(doc)\n",
    "    vocab_tokenized.extend(words_tokenized)"
   ]
  },
  {
   "cell_type": "code",
   "execution_count": 125,
   "metadata": {},
   "outputs": [],
   "source": [
    "# save the model to disk\n",
    "import pickle\n",
    "filename = 'data.pkl'\n",
    "pickle.dump(data, open(filename, 'wb'))"
   ]
  },
  {
   "cell_type": "code",
   "execution_count": 3,
   "metadata": {},
   "outputs": [],
   "source": [
    "import pickle\n",
    "data = pickle.load(open('data.pkl', 'rb'))"
   ]
  },
  {
   "cell_type": "code",
   "execution_count": 126,
   "metadata": {},
   "outputs": [
    {
     "data": {
      "text/html": [
       "<div>\n",
       "<style scoped>\n",
       "    .dataframe tbody tr th:only-of-type {\n",
       "        vertical-align: middle;\n",
       "    }\n",
       "\n",
       "    .dataframe tbody tr th {\n",
       "        vertical-align: top;\n",
       "    }\n",
       "\n",
       "    .dataframe thead th {\n",
       "        text-align: right;\n",
       "    }\n",
       "</style>\n",
       "<table border=\"1\" class=\"dataframe\">\n",
       "  <thead>\n",
       "    <tr style=\"text-align: right;\">\n",
       "      <th></th>\n",
       "      <th>level_0</th>\n",
       "      <th>index</th>\n",
       "      <th>text</th>\n",
       "      <th>author</th>\n",
       "      <th>clean_text_stemmed</th>\n",
       "      <th>clean_text_lemmatized</th>\n",
       "      <th>text_stemmed</th>\n",
       "      <th>text_lemmatized</th>\n",
       "    </tr>\n",
       "  </thead>\n",
       "  <tbody>\n",
       "    <tr>\n",
       "      <th>0</th>\n",
       "      <td>0</td>\n",
       "      <td>0</td>\n",
       "      <td>b xef xbb xbf r n r n r n r n note this file c...</td>\n",
       "      <td>Jefferson, Thomas, 1743-1826</td>\n",
       "      <td>[b, xef, xbb, xbf, r, n, r, n, r, n, r, n, not...</td>\n",
       "      <td>[b, xef, xbb, xbf, r, n, r, n, r, n, r, n, not...</td>\n",
       "      <td>[b, xef, xbb, xbf, r, n, r, n, r, n, r, n, not...</td>\n",
       "      <td>[b, xef, xbb, xbf, r, n, r, n, r, n, r, n, not...</td>\n",
       "    </tr>\n",
       "    <tr>\n",
       "      <th>1</th>\n",
       "      <td>1</td>\n",
       "      <td>1</td>\n",
       "      <td>b xef xbb xbf welcome to the world of free pla...</td>\n",
       "      <td>United States</td>\n",
       "      <td>[b, xef, xbb, xbf, welcom, world, free, plain,...</td>\n",
       "      <td>[b, xef, xbb, xbf, welcome, world, free, plain...</td>\n",
       "      <td>[b, xef, xbb, xbf, welcom, to, the, world, of,...</td>\n",
       "      <td>[b, xef, xbb, xbf, welcome, to, the, world, of...</td>\n",
       "    </tr>\n",
       "    <tr>\n",
       "      <th>2</th>\n",
       "      <td>2</td>\n",
       "      <td>2</td>\n",
       "      <td>b xef xbb xbf welcome to the world of free pla...</td>\n",
       "      <td>Kennedy, John F. (John Fitzgerald), 1917-1963</td>\n",
       "      <td>[b, xef, xbb, xbf, welcom, world, free, plain,...</td>\n",
       "      <td>[b, xef, xbb, xbf, welcome, world, free, plain...</td>\n",
       "      <td>[b, xef, xbb, xbf, welcom, to, the, world, of,...</td>\n",
       "      <td>[b, xef, xbb, xbf, welcome, to, the, world, of...</td>\n",
       "    </tr>\n",
       "    <tr>\n",
       "      <th>3</th>\n",
       "      <td>3</td>\n",
       "      <td>3</td>\n",
       "      <td>b xef xbb xbf r n r n welcome to the world of ...</td>\n",
       "      <td>Lincoln, Abraham, 1809-1865</td>\n",
       "      <td>[b, xef, xbb, xbf, r, n, r, n, welcom, world, ...</td>\n",
       "      <td>[b, xef, xbb, xbf, r, n, r, n, welcome, world,...</td>\n",
       "      <td>[b, xef, xbb, xbf, r, n, r, n, welcom, to, the...</td>\n",
       "      <td>[b, xef, xbb, xbf, r, n, r, n, welcome, to, th...</td>\n",
       "    </tr>\n",
       "    <tr>\n",
       "      <th>4</th>\n",
       "      <td>4</td>\n",
       "      <td>4</td>\n",
       "      <td>b xef xbb xbfthe project gutenberg ebook of th...</td>\n",
       "      <td>United States</td>\n",
       "      <td>[b, xef, xbb, xbfthe, project, gutenberg, eboo...</td>\n",
       "      <td>[b, xef, xbb, xbfthe, project, gutenberg, eboo...</td>\n",
       "      <td>[b, xef, xbb, xbfthe, project, gutenberg, eboo...</td>\n",
       "      <td>[b, xef, xbb, xbfthe, project, gutenberg, eboo...</td>\n",
       "    </tr>\n",
       "  </tbody>\n",
       "</table>\n",
       "</div>"
      ],
      "text/plain": [
       "   level_0  index                                               text  \\\n",
       "0        0      0  b xef xbb xbf r n r n r n r n note this file c...   \n",
       "1        1      1  b xef xbb xbf welcome to the world of free pla...   \n",
       "2        2      2  b xef xbb xbf welcome to the world of free pla...   \n",
       "3        3      3  b xef xbb xbf r n r n welcome to the world of ...   \n",
       "4        4      4  b xef xbb xbfthe project gutenberg ebook of th...   \n",
       "\n",
       "                                          author  \\\n",
       "0                   Jefferson, Thomas, 1743-1826   \n",
       "1                                  United States   \n",
       "2  Kennedy, John F. (John Fitzgerald), 1917-1963   \n",
       "3                    Lincoln, Abraham, 1809-1865   \n",
       "4                                  United States   \n",
       "\n",
       "                                  clean_text_stemmed  \\\n",
       "0  [b, xef, xbb, xbf, r, n, r, n, r, n, r, n, not...   \n",
       "1  [b, xef, xbb, xbf, welcom, world, free, plain,...   \n",
       "2  [b, xef, xbb, xbf, welcom, world, free, plain,...   \n",
       "3  [b, xef, xbb, xbf, r, n, r, n, welcom, world, ...   \n",
       "4  [b, xef, xbb, xbfthe, project, gutenberg, eboo...   \n",
       "\n",
       "                               clean_text_lemmatized  \\\n",
       "0  [b, xef, xbb, xbf, r, n, r, n, r, n, r, n, not...   \n",
       "1  [b, xef, xbb, xbf, welcome, world, free, plain...   \n",
       "2  [b, xef, xbb, xbf, welcome, world, free, plain...   \n",
       "3  [b, xef, xbb, xbf, r, n, r, n, welcome, world,...   \n",
       "4  [b, xef, xbb, xbfthe, project, gutenberg, eboo...   \n",
       "\n",
       "                                        text_stemmed  \\\n",
       "0  [b, xef, xbb, xbf, r, n, r, n, r, n, r, n, not...   \n",
       "1  [b, xef, xbb, xbf, welcom, to, the, world, of,...   \n",
       "2  [b, xef, xbb, xbf, welcom, to, the, world, of,...   \n",
       "3  [b, xef, xbb, xbf, r, n, r, n, welcom, to, the...   \n",
       "4  [b, xef, xbb, xbfthe, project, gutenberg, eboo...   \n",
       "\n",
       "                                     text_lemmatized  \n",
       "0  [b, xef, xbb, xbf, r, n, r, n, r, n, r, n, not...  \n",
       "1  [b, xef, xbb, xbf, welcome, to, the, world, of...  \n",
       "2  [b, xef, xbb, xbf, welcome, to, the, world, of...  \n",
       "3  [b, xef, xbb, xbf, r, n, r, n, welcome, to, th...  \n",
       "4  [b, xef, xbb, xbfthe, project, gutenberg, eboo...  "
      ]
     },
     "execution_count": 126,
     "metadata": {},
     "output_type": "execute_result"
    }
   ],
   "source": [
    "pd.DataFrame(data).head()"
   ]
  },
  {
   "cell_type": "markdown",
   "metadata": {},
   "source": [
    "# TF-IDF"
   ]
  },
  {
   "cell_type": "code",
   "execution_count": 127,
   "metadata": {},
   "outputs": [
    {
     "data": {
      "text/plain": [
       "'b xef xbb xbf r n r n r n r n note file combine project gutenberg r n file give filenumber r n duplicate file update r n year original file include r n old subdirectory access r n file list pg catalog file change r n original etexts r n r n r n r n r n welcome world free plain vanilla electronic text r n r n etexts readable human computer r n r n etexts prepare hundred volunteer donation r n r nbelow find project gutenberg etexts r file header entire file r nthe overhead response request gopher site r nkeeper eliminate header possible r n r nhowever legal financial reason request r nheader leave beginning file post r nany general user area project gutenberg run r ndonation people like r n r nif book post header r nare request send note request attach r nheader legal protection r nloss donation hope project gutenberg go r nlong post book play musical piece etc r n r n r n r n start small print public domain etexts start r nwhy small print statement know lawyer r nthey tell sue wrong r nyour copy etext get free r nsomeone s wrong r nfault thing small print statement r ndisclaim liability tell r nyou distribute copy etext want r n r n use read etext r nby read project gutenberg tm r netext indicate understand agree accept r nthis small print statement receive r na refund money pay etext r nsende request day receive person r nyou get receive etext physical r nmedium disk return request r n r nabout project gutenberg tm etexts r nthis project gutenberg tm etext like project gutenberg r ntm etexts public domain work distribute professor r nmichael s hart project gutenberg association r nillinois benedictine college project r nthing mean own united states copyright r non work project copy r ndistribute united states permission r nwithout pay copyright royalty special rule set forth r nbelow apply wish copy distribute etext r nunder project s project gutenberg trademark r n r nto create etexts project expend considerable r neffort identify transcribe proofread public domain r nwork despite effort project s etexts r nmedium contain defect r nthing defect form incomplete inaccurate r ncorrupt data transcription error copyright r nintellectual property infringement defective damage r ndisk etext medium computer virus computer r ncode damage read equipment r n r nlimite warranty disclaimer damage r nbut right replacement refund describe r n project party receive r netext project gutenberg tm etext disclaim r nliability damage cost expense include r nlegal fee remedy negligence r nunder strict liability breach warranty contract r ninclude limit indirect consequential punitive r incidental damage notice r npossibility damage r n r nif discover defect etext day r nreceive receive refund money r nyou pay send explanatory note r ntime person receive receive r non physical medium return note r nsuch person choose alternatively replacement r ncopy receive electronically person r nchoose alternatively second opportunity r nreceive electronically r n r nthis etext provide r nwarrantie kind express imply r nto etext medium include r nlimite warranty merchantability fitness r nparticular purpose r n r nsome state allow disclaimer implied warranty r nthe exclusion limitation consequential damage r nabove disclaimer exclusion apply r nmay legal right r n r nindemnity r nyou indemnify hold project director r nofficer member agent harmless liability cost r nand expense include legal fee arise directly r nindirectly following cause r n distribution etext alteration modification r addition etext defect r n r ndistribution project gutenberg tm r nyou distribute copy etext electronically r ndisk book medium delete r n small print reference project gutenberg r r n r n exact copy thing r n require remove alter modify r n etext small print statement r n wish distribute etext machine readable r n binary compress mark proprietary form r n include form result conversion word pro r n cesse hypertext software long r n r n r n etext display clearly readable r n contain character r n intend author work tilde r n asterisk underline character r n convey punctuation intend r n author additional character r n indicate hypertext link r n r n etext readily convert reader r n expense plain ascii ebcdic equivalent r n form program display etext r n case instance word processor r n r n r n provide agree provide request r n additional cost fee expense copy r n etext original plain ascii form ebcdic r n equivalent proprietary form r n r n honor etext refund replacement provision r n small print statement r n r n pay trademark license fee project r n net profit derive calculate method r n use calculate applicable taxis r n don t derive profit royalty royalty r n payable project gutenberg association illinois r n benedictine college day follow r n date prepare legally require prepare r n annual equivalent periodic tax return r n r nwhat want send money don t r nthe project gratefully accept contribution money time r nscanne machines ocr software public domain etexts royalty r nfree copyright license sort contribution r nyou think money pay project gutenberg r nassociation illinois benedictine college r n r nthis small print charles b kramer attorney r ninternet compuserve com tel r n end small print public domain etexts ver end r n r n r n r ndecember etext r n r n r nthe project gutenberg etext declaration independence r n r nall original project gutenberg etexts r n s produce cap low case r ncomputer didn t low case r n r n r nthis retranscription project r ngutenberg etexts officially date december r nand officially release december r n r n r nthe united states declaration independence etext r nrelease project gutenberg early title store r nin email instruction set require tape diskpack r nhand mount retrieval diskpack size large r ncake cake carrier cost contain megabyte r nwhich file take tape backup keep plus r npaper tape file hope online end r n comparably price drive r n r nthis file copyright sharewared etc r nall use copy manner choose feel free r nmake edition base r n r nin research create transcription etext r ni come discrepancy official r ndocumentation provide united states conclude r n facsimile declaration indendence go r nall original facsimile r na plethora variation capitalization punctuation r nwhere name appear document name leave r n r nthe result document misspelling remove r nparchment facsimile r nbe able easily find time include brittain r n r n r n project gutenberg etext declaration independence r n r n r n r nthe declaration independence united states america r n r n r nwhen course human event necessary r people dissolve political band connect r nthem assume power earth r nthe separate equal station law nature r nof nature s god entitle decent respect opinion r nof mankind require declare cause r nimpel separation r n r nwe hold truth self evident man create equal r nthat endow creator certain unalienable right r nthat life liberty pursuit happiness r nthat secure right government institute man r nderive power consent govern r nthat form government destructive end r nit right people alter abolish institute r nnew government lay foundation principle organize r nit power form shall likely effect r ntheir safety happiness prudence dictate government r nlong establish change light transient cause r nand accordingly experience hath show mankind disposed r nto suffer evil sufferable right abolish r nthe form accustomed long train abuse r nusurpation pursue invariably object evince design reduce r nthem absolute despotism right duty throw r noff government provide new guard future security r n patient sufferance colony r nthe necessity constrain alter system government r nthe history present king great britain history repeat r ninjurie usurpation have direct object establishment r nof absolute tyranny state prove let fact r nbe submit candid world r n r nhe refuse assent law wholesome necessary r nfor public good r n r nhe forbid governor pass law immediate r nand press importance suspend operation r ntill assent obtain suspend r nhe utterly neglect attend r n r nhe refuse pass law accommodation r nlarge district people people relinquish r nthe right representation legislature right r ninestimable formidable tyrant r n r nhe call legislative body place unusual r nuncomfortable distant depository r npublic record sole purpose fatigue r ninto compliance measure r n r nhe dissolve representative house repeatedly oppose r nwith manly firmness invasion right people r n r nhe refuse long time dissolution r nto cause elect legislative power r nincapable annihilation return people large r nfor exercise state remain mean time expose r nto danger invasion convulsion r n r nhe endeavour prevent population state r nfor purpose obstruct law naturalization foreigner r nrefusing pass encourage migration hither r nand raise condition new appropriation land r n r nhe obstruct administration justice refuse assent r nto law establish judiciary power r n r nhe judge dependent tenure r nof office payment salary r n r nhe erect multitude new office send hither swarm r nofficer harass people eat substance r n r nhe keep time peace stand army r nwithout consent legislature r n r nhe affect render military independent r nand superior civil power r n r nhe combine subject jurisdiction r nforeign constitution unacknowledge law r ngive assent act pretended legislation r n r nfor quarter large body armed troop r n r nfor protect mock trial punishment murder r nwhich commit inhabitant state r n r nfor cut trade part world r n r nfor impose taxis consent r n r nfor deprive case benefit trial jury r n r nfor transport sea try pretended offence r n r nfor abolish free system english law neighbouring r nprovince establish arbitrary government r nand enlarge boundary render r nan example fit instrument introduce r nabsolute rule colony r n r nfor take away charter abolish valuable law r nand alter fundamentally form government r n r nfor suspend legislature declare r ninveste power legislate case whatsoever r n r nhe abdicate government declare protection r nand wage war r n r nhe plunder sea ravage coast burn town r nand destroy life people r n r nhe time transport large army foreign mercenary r nto compleat work death desolation tyranny begin r nwith circumstance cruelty perfidy scarcely parallel r nmost barbarous age totally unworthy head civilized nation r n r nhe constrain fellow citizen take captive high sea r nto bear arm country executioner r ntheir friend brother fall hand r n r nhe excite domestic insurrection r nendeavoured bring inhabitant frontier r nthe merciless indian savage know rule warfare r nis undistinguished destruction age sex condition r n r nin stage oppression petition redress r nin humble term repeat petition answer r nonly repeat injury prince character mark r nby act define tyrant unfit ruler r nof free people r n r nnor want attention british brethren r nwe warn time time attempt r nlegislature extend unwarrantable jurisdiction r nwe remind circumstance emigration r nsettlement appeal native justice r nand magnanimity conjure tie r ncommon kindre disavow usurpation inevitably r ninterrupt connection correspondence r ndeaf voice justice consanguinity r nacquiesce necessity denounce separation hold r nas hold rest mankind enemy war peace friend r n r nwe representative united states america r nin general congress assemble appeal supreme judge r nthe world rectitude intention r nand authority good people colony r nsolemnly publish declare united colonies r nand right ought free independent state r nthat absolve allegiance british crown r nand political connection state r nof great britain ought totally dissolve r nand free independent state power r nlevy war conclude peace contract alliance establish commerce r nand act thing independent state r nof right support declaration firm r nreliance protection divine providence mutually pledge r nto life fortune sacred honor r n r n r n r n r ndecember etext r n r n r n project gutenberg etext u s bill rights r n r n r n r n r nthe united states bill rights r n r nthe original amendment constitution united states r npasse congress september r nratifie december r n r n r n r n r ni r n r ncongress shall law respect establishment religion r prohibit free exercise thereof abridge freedom speech r press right people peaceably assemble r nand petition government redress grievance r n r n r n r n r n r nii r n r na regulated militia necessary security free state r nthe right people bear arm shall infringe r n r n r n r n r niii r n r nno soldier shall time peace quarter house r nwithout consent owner time war r nbut manner prescribe law r n r n r n r n r niv r n r nthe right people secure person house paper r nand effect unreasonable search seizure shall violate r nand warrant shall issue probable cause support oath r affirmation particularly describe place search r nand person thing seize r n r n r n r n r nv r n r nno person shall hold answer capital infamous crime r nunless presentment indictment grand jury case arise r nin land naval force militia actual service r nin time war public danger shall person subject r nthe offense twice jeopardy life limb r nnor shall compel criminal case witness r nnor deprive life liberty property process law r nnor shall private property take public use compensation r n r n r n r n r nvi r n r nin criminal prosecution accuse shall enjoy right r nspeedy public trial impartial jury state district r nwherein crime shall commit district shall r nbeen previously ascertain law inform nature r nand cause accusation confront witness r nto compulsory process obtain witness favor r nand assistance counsel defense r n r n r n r n r nvii r n r nin suit common law value controversy shall exceed r ntwenty dollar right trial jury shall preserve r nand fact try jury shall examine court r nof united states accord rule common law r n r n r n r n r nviii r n r nexcessive bail shall require excessive fine impose r nnor cruel unusual punishment inflict r n r n r n r n r nix r n r nthe enumeration constitution certain right r nshall construe deny disparage retain people r n r n r n r n r nx r n r nthe power delegated united states constitution r nnor prohibit state reserve state respectively r people r n r n r n r n r n etext november th anniversary assassination r n officially rerelease november th anniversary r n r n r n r n project gutenberg etext kennedy s inaugural address r n r n r nthis retranscription project r ngutenberg etexts offically date november r nand officially release november r non th anniversary assassination r n r n r n r n project gutenberg etext kennedy s inaugural address r n r njfk s inaugural address january est r n r n r nwe observe today victory party celebration freedom r nsymbolize end beginning signify renewal r nas change swear almighty god r nthe solemn oath forbear prescribe nearly century r nand quarter ago r n r nthe world different man hold mortal hand r nthe power abolish form human poverty form human life r nand revolutionary belief forbear fight r nare issue globe belief right man r ncome generosity state hand god r nwe dare forget today heir revolution r n r nlet word forth time place friend foe alike r nthat torch pass new generation americans r nborn century temper war discipline hard bitter peace r nproud ancient heritage unwilling witness permit slow r nundoing human right nation commit r nand commit today home world r n r nlet nation know wish ill r nthat shall pay price bear burden meet hardship r nsupport friend oppose foe assure survival r nthe success liberty pledge r n r nto old ally cultural spiritual origin share r nwe pledge loyalty faithful friend unite r nlittle host co operative venture r ndivide little dare meet r na powerful challenge odd split asunder r nto new state welcome rank free r nwe pledge word form colonial control shall r nhave pass away merely replace far iron tyranny r nwe shall expect find support view r nbut shall hope find strongly support r nown freedom remember past r nfoolishly seek power ride tiger end inside r nto people hut village half globe r nstruggle break bond mass misery pledge good r neffort help help period r nis require communist r nnot seek vote right r nif free society help poor r nit save rich r n r nto sister republic south border offer special pledge r nto convert good word good deed new alliance progress r n assist free man free government cast chain r npoverty peaceful revolution hope prey r nhostile power let neighbor know shall join r nto oppose aggression subversion america let r nevery power know hemisphere intend remain master r nof house r n r nto world assembly sovereign state united nations r nour good hope age instrument war r nhave far outpace instrument peace renew pledge r nof support prevent merely forum r ninvective strengthen shield new weak r nand enlarge area writ run r n r nfinally nation adversary r nwe offer pledge request side begin anew r nthe quest peace dark power destruction unleash r nby science engulf humanity plan accidental self destruction r nwe dare tempt weakness arm sufficient r nbeyond doubt certain doubt employ r nbut great powerful group nation comfort r nour present course side overburden cost modern weapon r nboth rightly alarm steady spread deadly atom race r nto alter uncertain balance terror stay hand mankind s r nfinal war r n r nso let begin anew remember side civility r nis sign weakness sincerity subject proof r nlet negotiate fear let fear negotiate r nlet side explore problem unite instead belabor r nthose problem divide let side time r nformulate precise proposal inspection r ncontrol arm bring absolute power destroy r nother nation absolute control nation r nlet side seek invoke wonder science instead r nof terror let explore star conquer r ndeserts eradicate disease tap ocean depth encourage r nthe art commerce let side unite heed corner r nof earth command isaiah undo heavy burden r nlet oppress free r n r nand beachhead co operation push jungle suspicion r nlet side join create new balance power r nbut new world law strong r nand weak secure peace preserve r n r nall finish day r nnor finish thousand day r nnor life administration r nin lifetime planet let begin r n r nin hand fellow citizen rest r nfinal success failure course country found r neach generation americans summon testimony r nto national loyalty grave young americans answer r nthe service surround globe trumpet summon r nnot bear arm arm need battle r nthough embattle bear burden long r ntwilight struggle year year rejoice hope r npatient tribulation struggle common enemy man r ntyranny poverty disease war forge r nthese enemy grand global alliance north south r neast west assure fruitful life mankind r nwill join historic effort r n r nin long history world generation grant r nthe role defend freedom hour maximum danger shrink r nfrom responsibility welcome believe r nwould exchange place people generation r nthe energy faith devotion bring endeavor r nwill light country serve glow r nthat fire truly light world r n r nand fellow americans ask country r ndo ask country fellow r ncitizen world ask america r nbut freedom man r n r nfinally citizen america citizen world r nask high standard strength sacrifice r nwhich ask good conscience sure reward r nwith history final judge deed let forth lead r nthe land love ask blessing help know r nhere earth god s work truly r n r n r n r ndecember etext r n r n r n project gutenberg etext lincoln s gettysburg address r n r n r nthis retranscription project r ngutenberg etexts offically date december r nand officially release november r n year speak rerelease r ninaugural address president kennedy officially r nnovember day th anniversary r nof assassination r n r n r n r nlincoln s gettysburg address give november r non battlefield near gettysburg pennsylvania usa r n r n r nfour score seven year ago father bring forth r nupon continent new nation conceive liberty r ndedicate proposition man create equal r n r nnow engage great civil war testing r nthat nation nation conceive dedicated r ncan long endure meet great battlefield war r n r nwe come dedicate portion field final resting place r nfor give life nation live r nit altogether fitting proper r n r nbut large sense dedicate consecrate r nwe hallow ground brave man live dead r nwho struggle consecrate far poor power r nto add detract world little note long remember r nwhat forget r n r nit living dedicate unfinished r nwork fight far nobly advanced r nit dedicate great task remain r nbefore honor dead increase devotion r nto cause give measure devotion r nthat highly resolve dead shall die vain r nthat nation god shall new birth freedom r nand government people people people r nshall perish earth r n r n r n r n r ndecember etext r n r n r n project gutenberg etext u s constitution r n r nthe follow edition consitution united states america r nhas base hour study variety edition r ninclude certain variant spelling punctuation captialization r nhave able reasonable ascertain belong orginal case r nof internal discrepancy matter leave r n r nin orginal edition letter capital r nanythe capitalization consistent r nthe punctuation limit punctionation day r n r nthis document include amendment bill rights r early project gutenberg etexts send r nin separate post r n r n r n r nwe ask consitutional scholar minute r long send note concern possible correction r n r n r n r n r n r nthe constitution united states america r n r n r n r nwe people united states order form perfect union r nestablish justice insure domestic tranquility provide common defence r npromote general welfare secure blessing liberty r nand posterity ordain establish constitution r nunited states america r n r n r narticle r n r nsection legislative power grant shall vest r ncongress united states shall consist senate r nhouse representatives r n r nsection house representatives shall compose member r nchosen second year people state r nand elector state shall qualification requisite r nfor elector numerous branch state legislature r n r nno person shall representative shall attain r nage year seven year citizen united states r nand shall elect inhabitant state r nhe shall choose r n r nrepresentative direct taxis shall apportion r nthe state include union r naccording respective number shall determine r nby add number free person include r nbound service term year exclude indians tax r nthree fifth person actual enumeration shall r nwithin year meeting congress r nunited state subsequent term year r nin manner shall law direct number r nrepresentative shall exceed thirty thousand r nbut state shall representative r nand enumeration shall state new hampshire r nshall entitle chuse massachusetts rhode island r nand providence plantation connecticut new york r nnew jersey pennsylvania delaware maryland r nvirginia north carolina south carolina georgia r n r nwhen vacancy happen representation state executive r nauthority thereof shall issue writ election fill vacancy r n r nthe house representatives shall chuse speaker officer r nand shall sole power impeachment r n r nsection senate united states shall compose r ntwo senator state choose legislature thereof r nfor year senator shall vote r n r nimmediately shall assemble consequence election r nthey shall divide equally class seat r nthe senator class shall vacate expiration r nsecond year second class expiration fourth year r nand class expiration sixth year r nmay choose second year vacancy happen resignation r recess legislature state r nthe executive thereof temporary appointment r nnext meeting legislature shall fill vacancy r n r nno person shall senator shall attain age r nthirty year year citizen united states r nand shall elect inhabitant state r nfor shall choose r n r nthe vice president united states shall president senate r nbut shall vote equally divide r n r nthe senate shall choose officer president r npro tempore absence vice president shall r nexercise office president united states r n r nthe senate shall sole power try impeachment r nwhen sit purpose shall oath affirmation r nwhen president united states try chief justice r nshall preside person shall convict concurrence r nof third member present r n r njudgment case impeachment shall extend removal r nfrom office disqualification hold enjoy office honor r ntrust profit united states party convict shall r nnevertheless liable subject indictment trial judgment r npunishment accord law r n r nsection time place manner hold election senator r nrepresentative shall prescribe state legislature thereof r nbut congress time law alter regulation r nexcept place chuse senator r n r nthe congress shall assemble year r nand meeting shall monday december r nunless shall law appoint different day r n r n r nsection house shall judge election r nreturn qualification member r nmajority shall constitute quorum business r nbut small number adjourn day day r nand authorize compel attendance absent member r nin manner penalty house provide r n r neach house determine rule proceeding r npunish member disorderly behavior r nconcurrence third expel member r n r neach house shall journal proceeding r nand time time publish excepting part r nin judgment require secrecy yea nay r nmember house question shall desire r fifth present enter journal r n r nneith house session congress shall r nconsent adjourn day r nany place house shall sit r n r nsection senator representative shall receive compensation r nfor service ascertain law pay treasury r nof united states shall case treason felony r nbreach peace privilege arrest attendance r nat session respective house go return r nfrom speech debate house r nthey shall question place r n r nno senator representative shall time elect r nbe appoint civil office authority united states r nwhich shall create emolument whereof shall r nincrease time person hold office r nunited state shall member house continuance r nin office r n r nsection bill raise revenue shall originate r nhouse representative senate propose concur r namendment bill r n r nevery bill shall pass house representatives r nthe senate shall law present r npresident united states approve shall sign r nbut shall return objection house r nin shall originate shall enter objection r nat large journal proceed reconsider r nif reconsideration third house r nshall agree pass bill shall send r ntogether objection house r nit shall likewise reconsider approve third r nof house shall law case r nthe vote house shall determine yeas nays r nand name person vote bill shall r nentere journal house respectively bill r nshall return president day sunday except r nafter shall present shall law r nin like manner sign congress r nadjournment prevent return case shall law r n r nevery order resolution vote concurrence senate r nand house representatives necessary question r nof adjournment shall present president united states r nand shall effect shall approve r disapprove shall repasse third r nthe senate house representatives accord rule r nand limitation prescribe case bill r n r nsection congress shall power lay collect taxis duty r nimpost excise pay debt provide common defence r nand general welfare united states duty impost excise r nshall uniform united states r n r nto borrow money credit united states r n r nto regulate commerce foreign nation state r nand indian tribe r n r nto establish uniform rule naturalization uniform law r non subject bankruptcy united states r n r nto coin money regulate value thereof foreign coin r nand fix standard weight measure r n r nto provide punishment counterfeit security r nand current coin united states r n r nto establish post office post road r n r nto promote progress science useful art secure r nfor limit time author inventor exclusive right r nto respective writing discovery r n r nto constitute tribunal inferior supreme court r n r nto define punish piracy felony commit high sea r nand offense law nations r n r nto declare war grant letter marque reprisal r nand rule concern capture land water r n r nto raise support army appropriation money use r nshall long term year r n r nto provide maintain navy r n r nto rule government regulation land naval forces r n r nto provide call forth militia execute law union r nsuppress insurrection repel invasion r n r nto provide organize arm discipline militia r ngoverne employ service r nunited state reserve state respectively appointment r nof officer authority train militia accord r nto discipline prescribe congress r n r nto exercise exclusive legislation case whatsoever r nover district exceed mile square r nby cession particular state acceptance congress r nbecome seat government united states r nexercise like authority place purchase consent r nof legislature state shall r nfor erection fort magazine arsenal dockyard r nand needful building r n r nto law shall necessary proper carry r ninto execution foregoing power power vest r nby constitution government united states r department officer thereof r n r nsection migration importation person r nof state exist shall think proper admit shall r nbe prohibit congress prior year thousand r nhundred tax duty impose importation r nnot exceed dollar person r n r nthe privilege writ habea corpus shall suspend r nwhen case rebellion invasion public safety require r n r nno bill attainder ex post facto law shall pass r n r nno capitation direct tax shall lay proportion r nto census enumeration direct take r n r nno tax duty shall lay article export state r n r nno preference shall give regulation commerce revenue r nto port state shall vessel bind r state oblige enter clear pay duty r n r nno money shall draw treasury consequence r nof appropriation law regular statement account r nof receipt expenditure public money shall r npublishe time time r n r nno title nobility shall grant united states r nand person hold office profit trust shall r nwithout consent congress accept present emolument r noffice title kind king prince r foreign state r n r nsection state shall enter treaty alliance r nconfederation grant letter marque reprisal coin money r nemit bill credit thing gold silver coin tender r nin payment debt pass bill attainder ex post facto law r law impair obligation contract grant title nobility r n r nno state shall consent congress lie impost duty r non import export absolutely necessary execute r nit s inspection law net produce duty impost r nlaid state import export shall use treasury r nof united states law shall subject revision r nand controul congress r n r n r nno state shall consent congress lie duty r ntonnage troop ship war time peace enter r nagreement compact state foreign power r nengage war actually invade imminent danger r nas admit delay r n r narticle r n r nsection executive power shall vest president r nof united states america shall hold office r nthe term year vice president r nchosen term elect follow r n r neach state shall appoint manner legislature thereof direct r na number elector equal number senator representative r nto state entitle congress senator r nrepresentative person hold office trust profit r nthe united states shall appoint elector r n r nthe elector shall meet respective state vote ballot r nfor person shall lie inhabitant r nthe state shall list r nall person vote number vote r nwhich list shall sign certify transmit seal r nthe seat government united states direct r npresident senate president senate shall r nin presence senate house representatives r nopen certificate vote shall count r nthe person have great number vote shall president r nif number majority number elector appoint r nand majority equal r nnumber vote house representatives shall immediately r nchuse ballot president person r na majority high list said house r nshall like manner chuse president chuse president r nthe vote shall take state representation state r nhave vote quorum purpose shall consist member r member third state majority r nstate shall necessary choice case choice r nof president person have great number vote r nthe elector shall vice president remain r ntwo equal vote senate shall chuse r nby ballot vice president r n r nthe congress determine time chuse elector r nand day shall vote day r nshall united states r n r nno person natural bear citizen citizen united states r nat time adoption constitution shall eligible r nthe office president shall person eligible r noffice shall attain age thirty year r nand fourteen year resident united states r n r nin case removal president office death r nresignation inability discharge power duty r nsaid office shall devolve vice president r ncongress law provide case removal death resignation r inability president vice president declare r nofficer shall act president officer shall act accordingly r nuntil disability remove president shall elect r n r nthe president shall stated time receive service r na compensation shall encrease diminish r nthe period shall elect shall receive r nwithin period emolument united states r n r nbefore enter execution office shall r nfollowing oath affirmation solemnly swear affirm r ni faithfully execute office president united states r nand good ability preserve protect defend r nconstitution united states r n r nsection president shall commander chief army r nand navy united states militia state r nwhen call actual service united states r nhe require opinion writing principal officer r nin executive department subject relate r nthe duty respective office shall power r nto grant reprieve pardon offense united states r nexcept case impeachment r n r nhe shall power advice consent r nsenate treaty provide third senator r npresent concur shall nominate advice r nand consent senate shall appoint ambassador public r nminister consul judge supreme court r nofficer united states appointment r notherwise provide shall establish law r nbut congress law vest appointment inferior officer r nas think proper president court law r head department r n r nthe president shall power fill vacancy happen r ndure recess senate grant commission shall r nexpire end session r n r nsection shall time time congress r ninformation state union recommend r nconsideration measure shall judge necessary expedient r nhe extraordinary occasion convene house r nof case disagreement respect r nthe time adjournment adjourn time shall r nthink proper shall receive ambassador public minister r nhe shall care law faithfully execute shall r ncommission officer united states r n r nsection president vice president civil officer r nunited state shall remove office impeachment r nand conviction treason bribery high crime misdemeanor r n r narticle r n r nsection judicial power united states shall vest r nin supreme court inferior court congress r nfrom time time ordain establish judge supreme r nand inferior court shall hold office good behavior r nand shall stated time receive service compensation r nwhich shall diminish continuance office r n r nsection judicial power shall extend case law equity r narising constitution law united states treaty r nmade shall authority case affect r nambassador public minister consul case admiralty r nand maritime jurisdiction controversy united states r nshall party controversy state r nstate citizen state citizen different state r n citizen state claim land grant r ndifferent state state citizen thereof r nand foreign state citizen subject r n r nin case affect ambassador public minister consul r nand state shall party supreme court shall r noriginal jurisdiction case mention r nsupreme court shall appellate jurisdiction law fact r nwith exception regulation congress shall r n r nthe trial crime case impeachment shall jury r nand trial shall hold state say crime shall r nhave commit commit state trial r nshall place place congress law direct r n r nsection treason united states shall consist r nlevye war adhere enemy give r naid comfort person shall convict treason r nthe testimony witness overt act confession r nin open court r n r nthe congress shall power declare punishment treason r nbut attainder treason shall work corruption blood r forfeiture life person attaint r n r n r narticle r n r nsection faith credit shall give state r npublic act record judicial proceeding state r nand congress general law prescribe manner act r nrecord proceeding shall prove effect thereof r n r n r nsection citizen state shall entitle r nprivilege immunity citizen state r n r na person charge state treason felony crime r nwho shall flee justice find state r nshall demand executive authority state r nwhich flee deliver remove state have r njurisdiction crime r n r nno person hold service labor state law thereof r nescape shall consequence law regulation r nbe discharge service labor shall deliver claim r nof party service labor r n r n r nsection new state admit congress union r nbut new state shall form erect jurisdiction r nof state state form junction r state part state consent r nlegislature state concern congress r n r nthe congress shall power dispose needful rule r nand regulation respect territory property belong r nto united states constitution shall r nconstrue prejudice claim united states r particular state r n r nsection united states shall guarantee state union r na republican form government shall protect r ninvasion application legislature executive r n legislature convene domestic violence r n r n r narticle r n r nthe congress third house shall deem necessary r nshall propose amendment constitution application r nthe legislature third state shall convention r nfor propose amendment case shall valid intent r nand purpose constitution ratify legislature r nof fourth state convention fourth r nthereof mode ratification propose r nthe congress provide amendment prior r nyear thousand shall manner affect r nthe fourth clause ninth section article r nand state consent shall deprive s r nequal suffrage senate r n r narticle r n r nall debt contract engagement enter adoption r nof constitution shall valid united states r nunder constitution confederation r n r nthis constitution law united states shall r nin pursuance thereof treaty shall r nunder authority united states shall supreme r nlaw land judge state shall bind r nany thing constitution law state contrary r nnotwithstande r n r nthe senator representative mention member r nseveral state legislature executive judicial officer r nboth united states state shall bind r nby oath affirmation support constitution religious r ntest shall require qualification office public trust r nunder united states r n r narticle seven r n r nthe ratification convention state shall sufficient r nestablishment constitution state ratify r n r ndone convention unanimous consent state present r nthe seventeenth day september year lord r nthousand seven eighty seven independence r nunited states america twelfth witness whereof r nhereunto subscribe name r n r ngo washington r npresid deputy virginia r n r nnew hampshire r n r njohn langdon r nnicholas gilman r n r nmassachusetts r n r nnathaniel gorham r nrufus king r n r nconnecticut r n r nwm saml johnson r nroger herman r n r nnew york r n r nalexander hamilton r n r nnew jersey r n r nwil livingston r ndavid brearley r nwm paterson r njona dayton r n r npennsylvania r n r nb franklin r nthomas mifflin r nrobt morris r ngeo clymer r nthos fitzsimon r njare ingersoll r njames wilson r ngouv morris r n r ndelaware r n r ngeo read r ngunning bedford jun r njohn dickinson r nrichard bassett r njaco broom r n r nmaryland r n r njames mchenry r ndan st thos jenifer r ndanl carroll r n r nvirginia r n r njohn blair r njames madison jr r n r nnorth carolina r n r nwm blount r nrich d dobb spaight r nhu williamson r n r nsouth carolina r n r nj rutledge r ncharles cotesworth pinckney r ncharles pinckney r npierce butler r n r ngeorgia r n r nwilliam r nabr baldwin r n r n r nattest r nwilliam jackson secretary r n r n r n r n r ndecember etext r n r n r nthe project gutenberg etext liberty death r n r nofficially release december unofficially release r nthe th anniversary speech patrick henry r n house refer virgina provincial r nconvention march r n r n r ngive liberty death r n r n r npatrick henry march r n r n r nno man think highly patriotism ability r nof worthy gentleman address house different r nman subject different light hope r nwill think disrespectful gentleman entertain r nopinion character opposite -PRON- shall speak forth r nsentiment freely reserve time ceremony r nthe questing house awful moment country r nfor consider question r nfreedom slavery proportion magnitude subject r nought freedom debate way r nwe hope arrive truth fulfill great responsibility r nwhich hold god country opinion r nat time fear give offense consider r nas guilty treason country act disloyalty r ntoward majesty heaven revere earthly king r n r nmr president natural man indulge illusion hope r nwe apt shut eye painful truth listen r nsong siren till transform beast r nof wise man engage great arduous struggle liberty r nare dispose number have eye r nand have ear hear thing nearly concern r ntemporal salvation anguish spirit cost r ni willing know truth know bad provide r n r ni lamp foot guide lamp r nexperience know way judging future past r nand judging past wish know conduct r nof british ministry year justify hope r nwhich gentleman please solace house r nis insidious smile petition lately receive r ntrust sir prove snare foot suffer r nto betray kiss ask gracious reception r npetition comport warlike preparation cover water r ndarken land fleet army necessary work love r nreconciliation show unwilling reconcile r nforce call win love let deceive r nsir implement war subjugation argument r nwhich king resort ask gentlemen sir mean martial array r nit purpose force submission gentleman assign r npossible motive great britain enemy quarter r nthe world accumulation navy army sir r nshe mean mean r nthey send bind rivet chain british r nministry long forge oppose r nshall try argument sir try year r nhave new offer subject hold r nsubject light capable vain r nshall resort entreaty humble supplication term shall r nfind exhaust let beseech sir r ndeceive sir avert r nthe storm come petition remonstrate r nwe supplicate prostrate throne r nimplore interposition arrest tyrannical hand ministry r nparliament petition slight remonstrance produce r nadditional violence insult supplication disregard r nand spurn contempt foot throne r nin vain thing indulge fond hope peace r nreconciliation longer room hope wish free r nif mean preserve inviolate inestimable privilege r nwe long contend mean basely abandon noble r nstruggle long engage pledge r nourselve abandon glorious object contest r nshall obtain fight repeat sir fight r nan appeal arm god host leave r n r nthey tell sir weak unable cope formidable r nan adversary shall strong week r year totally disarm british r nguard shall station house shall gather strength r nirresolution inaction shall acquire mean effectual resistance r nby lie supinely back hug delusive phantom hope r nour enemy shall bind hand foot sir weak r na proper use mean god nature hath place power r nthe million people arm holy cause liberty r ncountry possess invincible force enemy r ncan send sir shall fight battle r nthere god preside destiny nation r nraise friend fight battle battle sir r nstrong vigilant active brave sir r nwe election base desire late r nto retire contest retreat submission slavery r nour chain forge clanking hear plain boston r nthe war inevitable let come repeat sir let come r n r nit vain sir extenuate matter gentleman cry peace peace r nbut peace war actually begin gale sweep r nfrom north bring ear clash resound arm r nour brother field stand idle r nwhat gentleman wish life dear r peace sweet purchase price chain slavery r nforbid almighty god know course r nbut liberty death r n r n r n r n r nofficially release december etext r nofficially release november r nin honor thanksgiving r n r n project gutenberg etext mayflower compact r n r n r n r nthe mayflower compact r n r nnovember november old style calendar r n r nin god amen name underwrite r nthe loyal subject dread sovereigne lord king james r nby grace god great britaine france ireland r nke defender faith c r n r nhave undertake glory god advancement r nthe christian faith honour king country r na voyage plant colony northerne part r nof virginia doe present solemnly mutually r nin presence god covenant r ncombine civill body politick r nfor well ordering preservation furtherance r nof end aforesaid virtue hereof enact r nconstitute frame equall law ordinances r nact constitution office time time r nas shall think meete convenient r ngenerall good colonie unto promise r nall submission obedience r n r nin witness whereof hereunto subscribe name r nat cape cod eleventh november raigne r nsovereigne lord king james england france ireland r nthe eighteenth scotland fiftie fourth r nanno domini r n r nmr john carver mr stephen hopkins r nmr william bradford digery priest r nmr edward winslow thomas williams r nmr william brewster gilbert winslow r nisaac allerton edmund margesson r nmiles standish peter brown r njohn alden richard bitteridge r njohn turner george soule r nfrancis eaton edward tilly r njames chilton john tilly r njohn craxton francis cooke r njohn billington thomas rogers r njoses fletcher thomas tinker r njohn goodman john ridgate r nmr samuel fuller edward fuller r nmr christopher martin richard clark r nmr william mullins richard gardiner r nmr william white mr john allerton r nmr richard warren thomas english r njohn howland edward doten r nedward liester r n r n r n r ndecember etext r n r n project gutenberg etext lincoln s nd inaugural address r n r n r n r n r nlincoln s second inaugural address r nmarch r n r n r n r nfellow countryman second appear oath r nof presidential office occasion extended r naddress statement somewhat r nin detail course pursue fitting proper r nnow expiration year public declaration r nhave constantly call forth point phase great r ncontest absorb attention engross energy r nof nation little new present progress r nof arm chiefly depend know r nto public trust reasonably satisfactory r nand encourage high hope future prediction r nin regard venture r n r non occasion correspond year ago thought r nwere anxiously direct impending civil war dread r nall seek avert inaugural address deliver r nfrom place devote altogether save union war r ninsurgent agent city seek destroy war r nseeke dissolve union divide effect negotiation r nboth party deprecate war war r nthan let nation survive accept war r nthan let perish war come r n r eighth population color slave distribute r ngenerally union localize southern r nthese slave constitute peculiar powerful interest know r nthat interest cause war strengthen r nperpetuate extend interest object r ninsurgent rend union war government claim r nno right restrict territorial enlargement r n r nneith party expect war magnitude duration r nwhich attain anticipate cause r nof conflict cease conflict r nshould cease look easy triumph result r nfundamental astounding read bible pray r nto god invoke aid r nit strange man dare ask god s r nassistance wring bread sweat man s face r nbut let judge judge prayer r ncould answer answer fully r n r nthe almighty purpose woe unto world r nof offense need offense come woe r nto man offense cometh shall suppose r nthat american slavery offense r nprovidence god needs come have continue r nthrough appoint time will remove r ngive north south terrible war woe r nto offense come shall discern r ndeparture divine attribute believer r nlive god ascribe fondly hope fervently r ndo pray mighty scourge war speedily pass away r nyet god will continue wealth pile r nthe bondsman s year unrequited toil r nshall sink drop blood draw lash r nshall pay draw sword say r nthree thousand year ago say r njudgment lord true righteous altogether r n r nwith malice charity firmness r nthe right god give right let strive r nto finish work bind nation s wound r nto care shall bear battle widow r nand orphan achieve cherish r nand last peace nation r n r n r n r n r ndecember etext r n r nthe project gutenberg etext lincoln s st inaugural address r n r n r n r nlincoln s inaugural address r nmarch r n r n r n r nfellow citizen united states compliance custom old r nas government appear address briefly r nand presence oath prescribe constitution r nof united states take president enter r non execution office r n r ni consider necessary present discuss matter r nof administration special anxiety excitement r n r napprehension exist people southern states r nthat accession republican administration property r nand peace personal security endanger r nthere reasonable cause apprehension r nindeed ample evidence contrary r nexiste open inspection find r nnearly publish speech address r ni quote speech declare r n purpose directly indirectly interfere r nthe institution slavery exist believe r nno lawful right inclination r nthose nominate elect knowledge r nthat similar declaration r nnever recant place r nplatform acceptance law r nthe clear emphatic resolution read r n r n resolve maintenance inviolate r nof right state especially r nthe right state order control r nit domestic institution accord r nit judgment exclusively essential r nto balance power perfection r nand endurance political fabric depend r nand denounce lawless invasion armed r nforce soil state territory r nno matter pretext r nas gravest crime r n r ni reiterate sentiment press r nthe public attention conclusive evidence case r nis susceptible property peace security section r nare wise endanger incoming administration r ni add protection consistently r nconstitution law give cheerfully give r nto state lawfully demand cause r nas cheerfully section r n r nthere controversy delivering fugitive r nfrom service labor clause read plainly r nwritten constitution provision r n r n person hold service labor state r nunder law thereof escape r nshall consequence law regulation r ntherein discharge service labor r nbut shall deliver claim party r nto service labor r n r nit scarcely question provision intend r nwho reclaiming fugitive slave r nand intention lawgiver law member r nof congress swear support constitution r nto provision proposition r nthen slave case come term clause r n shall deliver oath unanimous r nwould effort good temper nearly r nequal unanimity frame pass law mean good r nthat unanimous oath r n r nthere difference opinion clause r nbe enforce national state authority surely r ndifference material slave r nsurrendere little consequence r nby authority case r ncontent oath shall unkept merely unsubstantial r ncontroversy shall keep r n r nagain law subject ought safeguard r nliberty know civilized humane jurisprudence introduce r nso free man case surrender slave r nand time provide law r nenforcement clause constitution guarantee r n citizen state shall entitle privileged r nimmunitie citizen state r n r ni official oath today mental reservation r nand purpose construe constitution law r nany hypercritical rule choose specify r nparticular act congress proper enforce suggest r nthat safe official private station r nto conform abide act stand unrepealed r nthan violate trust find impunity have r nthem hold unconstitutional r n r nit seventy year inauguration president r nunder national constitution period different r nand greatly distinguish citizen succession administer r nthe executive branch government conduct r nmany peril generally great success scope r nof precedent enter task brief constitutional r nterm year great peculiar difficulty disruption r nthe federal union heretofore menaced formidably attempt r n r ni hold contemplation universal law constitution r nthe union state perpetual perpetuity imply r nif express fundamental law national government r nit safe assert government proper provision r nin organic law termination continue execute r nthe express provision national constitution union r nendure forever impossible destroy action r nnot provide instrument r n r nagain united states government proper association r nof state nature contract merely contract r nbe peaceably unmade party r party contract violate break speak r nbut require lawfully rescind r n r ndescende general principle find proposition r nthat legal contemplation union perpetual confirm r nthe history union union old r nthe constitution form fact article r nassociation mature continue r ndeclaration independence mature r nand faith thirteen state expressly plight r nand engage perpetual article confederation r nin finally declare object ordain r nand establish constitution form perfect union r n r nbut destruction union states r nbe lawfully possible union perfect constitution r nhave lose vital element perpetuity r n r nit follow view state mere motion r ncan lawfully union resolve ordinance r nto effect legally void act violence r nwithin state state authority united states r nare insurrectionary revolutionary accord circumstance r n r ni consider view constitution law r nthe union unbroken extent ability shall care r nas constitution expressly enjoin r nlaws union faithfully execute state r ndoing deem simple duty r nand shall perform far practicable r nrightful master american people shall withhold r nrequisite mean authoritative manner direct contrary r ni trust regard menace r ndeclared purpose union constitutionally r ndefend maintain r n r nin need bloodshed violence r nshall force national authority r nthe power confide hold occupy possess r nthe property place belong government collect r nthe duty impost necessary object r nthere invasion force people r nanywhere hostility united states interior locality r nshall great universal prevent competent resident citizen r nfrom hold federal office attempt force r nobnoxious stranger people object strict r nlegal right exist government enforce exercise r nthese office attempt irritate r nand nearly impracticable withal deem better r nto forego time use office r n r nthe mail repel continue furnish part r nof union far possible people shall r nsense perfect security favorable calm thought r nand reflection course indicate follow current r nevent experience shall modification change proper r nand case exigency good discretion exercise r naccording circumstance actually exist view r na hope peaceful solution national trouble r nrestoration fraternal sympathy affection r n r nthat person section seek destroy r nthe union event glad pretext r nneither affirm deny need address word r nto love union speak r n r nbefore enter grave matter destruction r nnational fabric benefit memory hope r nwould wise ascertain precisely r nwill hazard desperate step possibility r nthat portion ill fly real existence r nwill certain ill fly great r nthe real one fly risk commission r nfearful mistake r n r nall profess content union constitutional right r ncan maintain true right plainly write r nin constitution deny think happily human r nmind constituted party reach audacity r nthink single instance plainly write provision r nof constitution deny mere force number r nmajority deprive minority clearly write constitutional right r nit moral point view justify revolution certainly r na right vital case vital right r nminoritie individual plainly assure affirmation r nand negations guaranty prohibition constitution r ncontroversie arise concern organic law r nframe provision specifically applicable question r noccur practical administration foresight anticipate r nnor document reasonable length contain express provision r nfor possible question shall fugitive labor surrender r nby national state authority constitution expressly r nmay congress prohibit slavery territory constitution r nexpressly congress protect slavery territory r nthe constitution expressly r n r nfrom question class spring constitutional controversy r nand divide majority minority minority r nwill acquiesce majority government cease r nthere alternative continue government r nacquiescence r n r nif minority case secede acquiesce r nthey precedent turn divide ruin r nfor minority secede r na majority refuse control minority r nfor instance portion new r nconfederacy year arbitrarily secede r nprecisely portion present union claim secede r nall cherish disunion sentiment educate r nexact temper r n r nis perfect identity interest states r nto compose new union produce harmony r nand prevent renew secession r n r nplainly central idea secession essence anarchy r na majority hold restraint constitutional check limitation r nand change easily deliberate change popular r nopinion sentiment true sovereign free people r nwhoever reject necessity fly anarchy despotism r nunanimity impossible rule minority permanent arrangement r nis wholly inadmissible reject majority principle r nanarchy despotism form leave r n r ni forget position assume constitutional r nquestion decide supreme court deny r nthat decision bind case party r nto suit object suit entitle r nto high respect consideration parallel case r ndepartment government obviously possible r nsuch decision erroneous give case evil effect r nfollowe limit particular case chance r nit overrule precedent case r ncan better bear evil different practice r nat time candid citizen confess policy r nof government vital question affect people r nis irrevocably fix decision supreme court r nthe instant ordinary litigation party r nin personal action people cease ruler r nhave extent practically resign government hand r nof eminent tribunal view assault r nthe court judge duty shrink r nto decide case properly bring fault r ntheir seek turn decision political purpose r n r section country believe slavery right ought r nto extend believe wrong ought r nnot extend substantial dispute r nthe fugitive slave clause constitution law r nsuppression foreign slave trade enforce r nperhap law community moral r nsense people imperfectly support law r nthe great body people abide dry legal obligation r nin case break think r ncannot perfectly cure bad case r nafter separation section foreign r nslave trade imperfectly suppress ultimately revive r nwithout restriction section fugitive slave r nnow partially surrender surrender r nat r n r nphysically speak separate remove r nrespective section build impassable wall r nbetween husband wife divorce r nthe presence reach different r npart country remain r nface face intercourse amicable hostile r nmust continue possible r nthat intercourse advantageous satisfactory r nseparation alien treaty easy r nfriend law treaty faithfully enforce r nbetween alien law friend suppose war r nyou fight loss side r nan gain cease fight identical old question r nas term intercourse r n r nthis country institution belong people inhabit r nwhenever shall grow weary exist government exercise r ntheir constitutional right amend revolutionary right r nto dismember overthrow ignorant fact r nthat worthy patriotic citizen desirous have r nnational constitution amend recommendation r namendment fully recognize rightful authority people r nover subject exercise mode prescribed r nin instrument exist circumstance r nfavor oppose fair opportunity afford people r nto act venture add convention mode r nseem preferable allow amendment originate r nthe people instead permit r nreject proposition originate especially choose r nfor purpose precisely r nwish accept refuse understand propose amendment r nto constitution amendment see r npasse congress effect federal government shall r nnever interfere domestic institution state r ninclude person hold service avoid misconstruction r nof say depart purpose speak particular r namendment far hold provision r nimplied constitutional law objection express r nand irrevocable r n r nthe chief magistrate derive authority people r nand confer fix term r nseparation state people r nalso choose executive r ndo duty administer present government r nas come hand transmit unimpaired r nto successor r n r nwhy patient confidence ultimate justice r nof people well equal hope world r nin present difference party faith r nin right almighty ruler nation eternal r ntruth justice north r nof south truth justice surely prevail r nby judgment great tribunal american people r n r nby frame government live people r nhave wisely give public servant little power mischief r nand equal wisdom provide return little r nto hand short interval people retain r ntheir virtue vigilance administration extreme r nwickedness folly seriously injure government r nin short space year r n r nmy countryman think calmly r nwhole subject valuable lose take time r nif object hurry hot haste step r nwhich deliberately object r nfrustrate take time good object frustrate r nby dissatisfied r nold constitution unimpaire sensitive point r nthe law framing new administration r nwill immediate power change r nif admit dissatisfy hold r nright dispute single good reason r nfor precipitate action intelligence patriotism christianity r nand firm reliance forsake favor land r nare competent adjust good way present difficulty r n r nin hand dissatisfied fellow countryman r nis momentous issue civil war government assail r nyou conflict aggressor r nyou oath register heaven destroy government r nshall solemn preserve protect defend r n r ni loathe close enemy friend r nbe enemy passion strain break r nour bond affection mystic chord memory stretch r nevery battlefield patriot grave live heart hearthstone r nall broad land swell chorus union r nwhen touch surely well angel nature r n r n end collect etexts project gutenberg s r n hope rely continued support end r nwhen hope present th project gutenberg etext r n r n r n r n r n r n r n r nthe project gutenberg ebook declaration independence r n r ncopyright law change world sure check r ncopyright law country download redistribute r nthis project gutenberg ebook r n r nthis header thing see view project r ngutenberg file remove change edit r nheader write permission r n r nplease read legal small print information r nebook project gutenberg file include r nimportant information specific right restriction r nhow file find r ndonation project gutenberg involve r n r n r n welcome world free plain vanilla electronic text r n r n ebook readable human computer r n r n ebook prepare thousand volunteer r n r n r ntitle declaration independence r n r nrelease date december ebook r n recently update november r n r nedition r n r nlanguage english r n r n r n r n r n r n r nthe united states declaration independence etext r nrelease project gutenberg early title store r nin email instruction set require tape diskpack r nhand mount retrieval diskpack size large r ncake cake carrier cost contain megabyte r nwhich file take tape backup keep plus r npaper tape file hope online end r n comparably price drive r n r nthis file copyright sharewared etc r nall use copy manner choose feel free r nmake edition base r n r nin research create transcription etext r ni come discrepancy official r ndocumentation provide united states conclude r n facsimile declaration indendence go r nall original facsimile r na plethora variation capitalization punctuation r nwhere name appear document name leave r n r nthe result document misspelling remove r nparchment facsimile r nbe able easily find time include brittain r n r n jt apr brittish spell original r n r n r n project gutenberg etext declaration independence r n r n r n r nthe declaration independence united states america r n r n r n r n r nin congress july r n r nthe unanimous declaration thirteen united states america r n r n r n r nwhen course human event necessary r people dissolve political band connect r nthem assume power earth r nthe separate equal station law nature r nof nature s god entitle decent respect opinion r nof mankind require declare cause r nimpel separation r n r nwe hold truth self evident man create equal r nthat endow creator certain unalienable right r nthat life liberty pursuit happiness r nthat secure right government institute man r nderive power consent govern r nthat form government destructive end r nit right people alter abolish institute r nnew government lay foundation principle organize r nit power form shall likely effect r ntheir safety happiness prudence dictate government r nlong establish change light transient cause r nand accordingly experience hath show mankind disposed r nto suffer evil sufferable right abolish r nthe form accustomed long train abuse r nusurpation pursue invariably object evince design reduce r nthem absolute despotism right duty throw r noff government provide new guard future security r n patient sufferance colony r nthe necessity constrain alter system government r nthe history present king great britain history repeat r ninjurie usurpation have direct object establishment r nof absolute tyranny state prove let fact r nbe submit candid world r n r nhe refuse assent law wholesome necessary r nfor public good r n r nhe forbid governor pass law immediate r nand press importance suspend operation r ntill assent obtain suspend r nhe utterly neglect attend r n r nhe refuse pass law accommodation r nlarge district people people relinquish r nthe right representation legislature right r ninestimable formidable tyrant r n r nhe call legislative body place unusual r nuncomfortable distant depository r npublic record sole purpose fatigue r ninto compliance measure r n r nhe dissolve representative house repeatedly oppose r nwith manly firmness invasion right people r n r nhe refuse long time dissolution r nto cause elect legislative power r nincapable annihilation return people large r nfor exercise state remain mean time expose r nto danger invasion convulsion r n r nhe endeavour prevent population state r nfor purpose obstruct law naturalization foreigner r nrefusing pass encourage migration hither r nand raise condition new appropriation land r n r nhe obstruct administration justice refuse assent r nto law establish judiciary power r n r nhe judge dependent tenure r nof office payment salary r n r nhe erect multitude new office send hither swarm r nofficer harass people eat substance r n r nhe keep time peace stand army r nwithout consent legislature r n r nhe affect render military independent r nand superior civil power r n r nhe combine subject jurisdiction r nforeign constitution unacknowledge law r ngive assent act pretended legislation r n r nfor quarter large body armed troop r n r nfor protect mock trial punishment murder r nwhich commit inhabitant state r n r nfor cut trade part world r n r nfor impose taxis consent r n r nfor deprive case benefit trial jury r n r nfor transport sea try pretended offence r n r nfor abolish free system english law neighbouring r nprovince establish arbitrary government r nand enlarge boundary render r nan example fit instrument introduce r nabsolute rule colony r n r nfor take away charter abolish valuable law r nand alter fundamentally form government r n r nfor suspend legislature declare r ninveste power legislate case whatsoever r n r nhe abdicate government declare protection r nand wage war r n r nhe plunder sea ravage coast burn town r nand destroy life people r n r nhe time transport large army foreign mercenary r nto compleat work death desolation tyranny begin r nwith circumstance cruelty perfidy scarcely parallel r nmost barbarous age totally unworthy head civilized nation r n r nhe constrain fellow citizen take captive high sea r nto bear arm country executioner r ntheir friend brother fall hand r n r nhe excite domestic insurrection r nendeavoured bring inhabitant frontier r nthe merciless indian savage know rule warfare r nis undistinguished destruction age sex condition r n r nin stage oppression petition redress r nin humble term repeat petition answer r nonly repeat injury prince character mark r nby act define tyrant unfit ruler r nof free people r n r nnor want attention brittish brethren r nwe warn time time attempt r nlegislature extend unwarrantable jurisdiction r nwe remind circumstance emigration r nsettlement appeal native justice r nand magnanimity conjure tie r ncommon kindre disavow usurpation inevitably r ninterrupt connection correspondence r ndeaf voice justice consanguinity r nacquiesce necessity denounce separation hold r nas hold rest mankind enemy war peace friend r n r nwe representative united states america r nin general congress assemble appeal supreme judge r nthe world rectitude intention r nand authority good people colony r nsolemnly publish declare united colonies r nand right ought free independent state r nthat absolve allegiance british crown r nand political connection state r nof great britain ought totally dissolve r nand free independent state power r nlevy war conclude peace contract alliance establish commerce r nand act thing independent state r nof right support declaration firm r nreliance protection divine providence mutually pledge r nto life fortune sacred honor r n r n r n r n r nend project gutenberg ebook declaration independence r n r n file name txt zip r n r ncorrected edition ebook new number txt r nversion base separate source new letter txt r n r nthis etext produce michael s hart r n r n r n r nproject gutenberg ebook create print r nedition confirm public domain r nunless copyright notice include usually r nkeep ebook compliance particular paper edition r n r nwe try release ebook year advance r nof official release date leave time well edit r nplease encourage tell error correction r neven year official publication date r n r nplease note listing content final til r nmidnight day month announcement r nthe official release date project gutenberg ebooks r nmidnight central time day state month r npreliminary version post suggestion comment r nand editing wish r n r nmost people start web site r nhttp gutenberg net r nhttp promo net pg r n r nthese web site include award win information project r ngutenberg include donate help produce new r nebook subscribe email newsletter free r n r n r nthose want download ebook announcement r ncan follow download date r nalso good way instantly announcement r nindexe cataloguer produce obviously r nannouncement go project gutenberg newsletter r n r nhttp www ibiblio org gutenberg etext r nftp ftp ibiblio org pub doc book gutenberg etext r n r etext r n r njust search letter filename want r nas appear newsletter r n r n r ninformation project gutenberg page r n r nwe produce million dollar hour work r ntime take conservative estimate hour r nto ebook select enter proofread edited copyright r nsearche analyze copyright letter write etc r nprojecte audience million reader value r nper text nominally estimate dollar produce r nmillion dollar hour release new text r nfile month ebook total r nwe way try ebook r nif reach world s population total r nwill reach half trillion ebook give away year s end r n r nthe goal project gutenberg away trillion ebook r nthis thousand title million reader r nwhich present number computer user r n r nhere brief record progress mean estimate r n r nebooks year month r n r n july r n january r n january r n august r n october r n december r n december r n november r n october november r n december r n november r n january r n r n r nthe project gutenberg literary archive foundation create r nto secure future project gutenberg millennium r n r nwe need donation r n r nas february contribution solicit people r nand organization alabama alaska arkansas connecticut r ndelaware district columbia florida georgia hawaii illinois r nindiana iowa kansas kentucky louisiana maine massachusetts r nmichigan mississippi missouri montana nebraska nevada new r nhampshire new jersey new mexico new york north carolina ohio r noklahoma oregon pennsylvania rhode island south carolina south r ndakota tennessee texas utah vermont virginia washington west r nvirginia wisconsin wyoming r n r nwe file state one r nthat respond r n r nas requirement state meet addition list r nwill fund raising begin additional state r nplease feel free ask check status state r n r nin answer question receive r n r nwe constantly work finish paperwork legally r nrequest donation state state list r nyou like know add list r njust ask r n r nwhile solicit donation people state r nnot register know prohibition accept r ndonation donor state approach offer r ndonate r n r ninternational donation accept don t know r nhow tax deductible r ndeductible don t staff handle r nways r n r ndonation check money order send r n r nproject gutenberg literary archive foundation r npmb r n university ave r noxford ms r n r ncontact want arrange wire transfer payment r nmethod check money order r n r nthe project gutenberg literary archive foundation approve r nthe internal revenue service c organization ein r n employee identification number donation r ntax deductible maximum extent permit law fund raise r nrequirement state meet addition list r nmade fund raising begin additional state r n r nwe need donation r n r nyou date donation information online r n r nhttp www gutenberg net donation html r n r n r n r n r nif t reach project gutenberg r nyou email directly r n r nmichael s hart hart pobox com r n r nprof hart answer forward message r n r nwe prefer send information email r n r n r n legal small print r n r n r n page r n r n start small print public domain ebook start r nwhy small print statement know lawyer r nthey tell sue wrong r nyour copy ebook get free r nsomeone s wrong r nfault thing small print statement r ndisclaim liability tell r nyou distribute copy ebook want r n r n use read ebook r nby read project gutenberg tm r nebook indicate understand agree accept r nthis small print statement receive r na refund money pay ebook r nsende request day receive person r nyou get receive ebook physical r nmedium disk return request r n r nabout project gutenberg tm ebooks r nthis project gutenberg tm ebook like project gutenberg tm ebooks r nis public domain work distribute professor michael s hart r nthrough project gutenberg association project r namong thing mean own united states copyright r non work project copy r ndistribute united states permission r nwithout pay copyright royalty special rule set forth r nbelow apply wish copy distribute ebook r nunder project gutenberg trademark r n r nplease use project gutenberg trademark market r nany commercial product permission r n r nto create ebook project expend considerable r neffort identify transcribe proofread public domain r nwork despite effort project s ebook r nmedium contain defect r nthing defect form incomplete inaccurate r ncorrupt data transcription error copyright r nintellectual property infringement defective damage r ndisk ebook medium computer virus computer r ncode damage read equipment r n r nlimite warranty disclaimer damage r nbut right replacement refund describe r n michael hart foundation party r nreceive ebook project gutenberg tm ebook disclaim r nall liability damage cost expense include r nlegal fee remedy negligence r nunder strict liability breach warranty contract r ninclude limit indirect consequential punitive r incidental damage notice r npossibility damage r n r nif discover defect ebook day r nreceive receive refund money r nyou pay send explanatory note r ntime person receive receive r non physical medium return note r nsuch person choose alternatively replacement r ncopy receive electronically person r nchoose alternatively second opportunity r nreceive electronically r n r nthis ebook provide r nwarrantie kind express imply r nto ebook medium include r nlimite warranty merchantability fitness r nparticular purpose r n r nsome state allow disclaimer implied warranty r nthe exclusion limitation consequential damage r nabove disclaimer exclusion apply r nmay legal right r n r nindemnity r nyou indemnify hold michael hart foundation r nand trustee agent volunteer associate r nwith production distribution project gutenberg tm r ntexts harmless liability cost expense include r nlegal fee arise directly indirectly r nfollowing cause distribution ebook r n alteration modification addition ebook r defect r n r ndistribution project gutenberg tm r nyou distribute copy ebook electronically r ndisk book medium delete r n small print reference project gutenberg r r n r n exact copy thing r n require remove alter modify r n ebook small print statement r n wish distribute ebook machine readable r n binary compress mark proprietary form r n include form result conversion word r n processing hypertext software long r n r n r n ebook display clearly readable r n contain character r n intend author work tilde r n asterisk underline character r n convey punctuation intend r n author additional character r n indicate hypertext link r n r n ebook readily convert reader r n expense plain ascii ebcdic equivalent r n form program display ebook r n case instance word processor r n r n r n provide agree provide request r n additional cost fee expense copy r n ebook original plain ascii form ebcdic r n equivalent proprietary form r n r n honor ebook refund replacement provision r n small print statement r n r n pay trademark license fee foundation r n gross profit derive calculate method r n use calculate applicable taxis r n don t derive profit royalty royalty r n payable project gutenberg literary archive foundation r n day follow date prepare r n legally require prepare annual equivalent r n periodic tax return contact r n let know plan work detail r n r nwhat want send money don t r nproject gutenberg dedicated increase number r npublic domain license work freely distribute r nin machine readable form r n r nthe project gratefully accept contribution money time r npublic domain material royalty free copyright license r nmoney pay r n project gutenberg literary archive foundation r n r nif interested contribute scanning equipment r nsoftware item contact michael hart r nhart pobox com r n r n portion header copyright c michael s hart r nand reprint ebook free fee r n project gutenberg trademark sale r nof project gutenberg ebook material hardware r nsoftware related product express permission r n r n end small print public domain ebook ver end'"
      ]
     },
     "execution_count": 127,
     "metadata": {},
     "output_type": "execute_result"
    }
   ],
   "source": [
    "## tfidf vectorizer needs sentence and not token. Hence we need to combine all the tokens back to form a string\n",
    "\n",
    "data['clean_text_stemmed'] = [' '.join(text) for text in data['clean_text_stemmed']]\n",
    "data['clean_text_lemmatized'] = [' '.join(text) for text in data['clean_text_lemmatized']]\n",
    "data['clean_text_lemmatized'][0]"
   ]
  },
  {
   "cell_type": "code",
   "execution_count": 161,
   "metadata": {},
   "outputs": [],
   "source": [
    "train_data=data['clean_text_lemmatized']"
   ]
  },
  {
   "cell_type": "code",
   "execution_count": 164,
   "metadata": {},
   "outputs": [],
   "source": [
    "train_data=pd.DataFrame(train_data)"
   ]
  },
  {
   "cell_type": "code",
   "execution_count": 166,
   "metadata": {},
   "outputs": [
    {
     "data": {
      "text/plain": [
       "(107, 1)"
      ]
     },
     "execution_count": 166,
     "metadata": {},
     "output_type": "execute_result"
    }
   ],
   "source": [
    "train_data.shape"
   ]
  },
  {
   "cell_type": "code",
   "execution_count": 167,
   "metadata": {},
   "outputs": [
    {
     "data": {
      "text/plain": [
       "0      b xef xbb xbf r n r n r n r n note file combin...\n",
       "1      b xef xbb xbf welcome world free plain vanilla...\n",
       "2      b xef xbb xbf welcome world free plain vanilla...\n",
       "3      b xef xbb xbf r n r n welcome world free plain...\n",
       "4      b xef xbb xbfthe project gutenberg ebook unite...\n",
       "5      b xef xbb xbf welcome world free plain vanilla...\n",
       "6      b xef xbb xbfthe project gutenberg ebook linco...\n",
       "7      b xef xbb xbfthe project gutenberg ebook linco...\n",
       "8      b project gutenberg ebook alice xe x x s adven...\n",
       "9      b xef xbb xbfthe project gutenberg ebook look ...\n",
       "10     b xef xbb xbfthe project gutenberg ebook hunti...\n",
       "11     b xef xbb xbfthe project gutenberg ebook cia w...\n",
       "12     b project gutenberg ebook moby dick herman mel...\n",
       "13     b xef xbb xbfthe project gutenberg ebook peter...\n",
       "14     b xef xbb xbfthe project gutenberg ebook book ...\n",
       "15     b xef xbb xbfthe project gutenberg ebook book ...\n",
       "16     b xef xbb xbfthe project gutenberg ebook feder...\n",
       "17     b xef xbb xbfthe project gutenberg ebook feder...\n",
       "18     b xef xbb xbfthe project gutenberg ebook feder...\n",
       "19     b xef xbb xbfthe project gutenberg ebook song ...\n",
       "20     b xef xbb xbfthe project gutenberg ebook song ...\n",
       "21     b project gutenberg ebook paradise lose john m...\n",
       "22     b xef xbb xbfthe project gutenberg ebook aesop...\n",
       "23     b xef xbb xbfthe project gutenberg ebook aesop...\n",
       "24     b xef xbb xbfthe project gutenberg ebook roget...\n",
       "25     b xef xbb xbf r nthe project gutenberg ebook n...\n",
       "26     b xef xbb xbfthe project gutenberg ebook o pio...\n",
       "27     b xef xbb xbfthe project gutenberg ebook cia w...\n",
       "28     b xef xbb xbfthe project gutenberg ebook parad...\n",
       "29     b xef xbb xbfthe project gutenberg ebook far m...\n",
       "                             ...                        \n",
       "77     b project gutenberg ebook duty civil disobedie...\n",
       "78     b xef xbb xbfthe project gutenberg ebook thuvi...\n",
       "79     b xef xbb xbfthe project gutenberg ebook red b...\n",
       "80     b xef xbb xbf r nthe project gutenberg ebook a...\n",
       "81     b xef xbb xbfthe project gutenberg ebook email...\n",
       "82     b xef xbb xbf r nthe project gutenberg ebook a...\n",
       "83     b xef xbb xbf r nthe project gutenberg ebook a...\n",
       "84     b xef xbb xbfproject gutenberg s house seven g...\n",
       "85     b xef xbb xbfthe project gutenberg ebook tarza...\n",
       "86     b xef xbb xbfthe project gutenberg ebook termi...\n",
       "87     b xef xbb xbfthe project gutenberg ebook onlin...\n",
       "88     b xef xbb xbfthe project gutenberg ebook retur...\n",
       "89     b xef xbb xbfthe project gutenberg ebook ivanh...\n",
       "90     b xef xbb xbfthe project gutenberg ebook earth...\n",
       "91     b xef xbb xbf r nproject gutenberg s frankenst...\n",
       "92     b xef xbb xbfthe project gutenberg ebook beast...\n",
       "93     b xef xbb xbfthe project gutenberg ebook conne...\n",
       "94     b xef xbb xbfthe project gutenberg ebook cia w...\n",
       "95     b xef xbb xbfproject gutenberg s price cost in...\n",
       "96     b xef xbb xbfthe project gutenberg ebook north...\n",
       "97     b xef xbb xbfthe project gutenberg ebook son t...\n",
       "98     b xef xbb xbfproject gutenberg s tom sawyer ab...\n",
       "99     b xef xbb xbfproject gutenberg s tarzan jewel ...\n",
       "100    b xef xbb xbfproject gutenberg s tom sawyer de...\n",
       "101    b xef xbb xbfthe project gutenberg ebook alexa...\n",
       "102    b xef xbb xbfthe project gutenberg ebook priso...\n",
       "103    b xef xbb xbfthe project gutenberg ebook monst...\n",
       "104    b xef xbb xbfthe project gutenberg ebook flatl...\n",
       "105    b xef xbb xbfthe project gutenberg ebook tale ...\n",
       "106    b xef xbb xbfthe project gutenberg ebook colle...\n",
       "Name: 0, Length: 107, dtype: object"
      ]
     },
     "execution_count": 167,
     "metadata": {},
     "output_type": "execute_result"
    }
   ],
   "source": [
    "train_data[0]"
   ]
  },
  {
   "cell_type": "code",
   "execution_count": 177,
   "metadata": {},
   "outputs": [
    {
     "name": "stdout",
     "output_type": "stream",
     "text": [
      "(107, 22965)\n"
     ]
    }
   ],
   "source": [
    "from sklearn.feature_extraction.text import TfidfVectorizer\n",
    "\n",
    "#define vectorizer parameters\n",
    "tfidf_vectorizer = TfidfVectorizer(max_df=0.90,\n",
    "                                 min_df=0.10,\n",
    "                                 use_idf=True, ngram_range=(1,4))  \n",
    "tfidf_matrix = tfidf_vectorizer.fit_transform(data['clean_text_lemmatized'])\n",
    "\n",
    "print(tfidf_matrix.shape)"
   ]
  },
  {
   "cell_type": "markdown",
   "metadata": {},
   "source": [
    "# we have 107 authors so n_components giving 107"
   ]
  },
  {
   "cell_type": "code",
   "execution_count": 221,
   "metadata": {},
   "outputs": [],
   "source": [
    "# SVD\n",
    "from sklearn.decomposition import TruncatedSVD\n",
    "svd_model = TruncatedSVD(n_components=107, algorithm='randomized', n_iter=100, random_state=122)"
   ]
  },
  {
   "cell_type": "code",
   "execution_count": 222,
   "metadata": {},
   "outputs": [
    {
     "data": {
      "text/plain": [
       "(107, 22965)"
      ]
     },
     "execution_count": 222,
     "metadata": {},
     "output_type": "execute_result"
    }
   ],
   "source": [
    "tfidf_matrix.shape"
   ]
  },
  {
   "cell_type": "code",
   "execution_count": 223,
   "metadata": {},
   "outputs": [
    {
     "data": {
      "text/plain": [
       "TruncatedSVD(algorithm='randomized', n_components=107, n_iter=100,\n",
       "             random_state=122, tol=0.0)"
      ]
     },
     "execution_count": 223,
     "metadata": {},
     "output_type": "execute_result"
    }
   ],
   "source": [
    "svd_model.fit(tfidf_matrix)"
   ]
  },
  {
   "cell_type": "code",
   "execution_count": 224,
   "metadata": {},
   "outputs": [],
   "source": [
    "svd_matrix_train = preprocessing_model.transform(tfidf_matrix)"
   ]
  },
  {
   "cell_type": "code",
   "execution_count": 225,
   "metadata": {},
   "outputs": [
    {
     "data": {
      "text/plain": [
       "numpy.ndarray"
      ]
     },
     "execution_count": 225,
     "metadata": {},
     "output_type": "execute_result"
    }
   ],
   "source": [
    "type(svd_matrix_train)"
   ]
  },
  {
   "cell_type": "code",
   "execution_count": 226,
   "metadata": {},
   "outputs": [],
   "source": [
    "train_data=pd.DataFrame(svd_matrix_train) #new data with 107 features instead of 22965"
   ]
  },
  {
   "cell_type": "code",
   "execution_count": 227,
   "metadata": {},
   "outputs": [
    {
     "data": {
      "text/html": [
       "<div>\n",
       "<style scoped>\n",
       "    .dataframe tbody tr th:only-of-type {\n",
       "        vertical-align: middle;\n",
       "    }\n",
       "\n",
       "    .dataframe tbody tr th {\n",
       "        vertical-align: top;\n",
       "    }\n",
       "\n",
       "    .dataframe thead th {\n",
       "        text-align: right;\n",
       "    }\n",
       "</style>\n",
       "<table border=\"1\" class=\"dataframe\">\n",
       "  <thead>\n",
       "    <tr style=\"text-align: right;\">\n",
       "      <th></th>\n",
       "      <th>0</th>\n",
       "      <th>1</th>\n",
       "      <th>2</th>\n",
       "      <th>3</th>\n",
       "      <th>4</th>\n",
       "      <th>5</th>\n",
       "      <th>6</th>\n",
       "      <th>7</th>\n",
       "      <th>8</th>\n",
       "      <th>9</th>\n",
       "      <th>...</th>\n",
       "      <th>97</th>\n",
       "      <th>98</th>\n",
       "      <th>99</th>\n",
       "      <th>100</th>\n",
       "      <th>101</th>\n",
       "      <th>102</th>\n",
       "      <th>103</th>\n",
       "      <th>104</th>\n",
       "      <th>105</th>\n",
       "      <th>106</th>\n",
       "    </tr>\n",
       "  </thead>\n",
       "  <tbody>\n",
       "    <tr>\n",
       "      <th>0</th>\n",
       "      <td>0.111502</td>\n",
       "      <td>0.407191</td>\n",
       "      <td>0.285223</td>\n",
       "      <td>-0.366838</td>\n",
       "      <td>-0.434369</td>\n",
       "      <td>0.384149</td>\n",
       "      <td>-0.059686</td>\n",
       "      <td>0.082783</td>\n",
       "      <td>-0.046326</td>\n",
       "      <td>-0.060589</td>\n",
       "      <td>...</td>\n",
       "      <td>3.130464e-17</td>\n",
       "      <td>-3.210213e-17</td>\n",
       "      <td>-1.540075e-17</td>\n",
       "      <td>-2.137911e-17</td>\n",
       "      <td>-3.005442e-17</td>\n",
       "      <td>-3.306393e-18</td>\n",
       "      <td>-8.637026e-17</td>\n",
       "      <td>-1.513987e-17</td>\n",
       "      <td>3.011033e-17</td>\n",
       "      <td>-8.080694e-19</td>\n",
       "    </tr>\n",
       "    <tr>\n",
       "      <th>1</th>\n",
       "      <td>0.025885</td>\n",
       "      <td>0.120821</td>\n",
       "      <td>0.215968</td>\n",
       "      <td>-0.230507</td>\n",
       "      <td>-0.268490</td>\n",
       "      <td>0.699513</td>\n",
       "      <td>-0.101948</td>\n",
       "      <td>-0.426224</td>\n",
       "      <td>0.033161</td>\n",
       "      <td>0.025279</td>\n",
       "      <td>...</td>\n",
       "      <td>3.320369e-19</td>\n",
       "      <td>5.905514e-18</td>\n",
       "      <td>-7.440337e-18</td>\n",
       "      <td>-6.017322e-18</td>\n",
       "      <td>5.353248e-18</td>\n",
       "      <td>7.941781e-18</td>\n",
       "      <td>-5.664956e-18</td>\n",
       "      <td>1.159461e-17</td>\n",
       "      <td>4.570590e-18</td>\n",
       "      <td>-2.402185e-18</td>\n",
       "    </tr>\n",
       "    <tr>\n",
       "      <th>2</th>\n",
       "      <td>0.057019</td>\n",
       "      <td>0.212848</td>\n",
       "      <td>0.185989</td>\n",
       "      <td>-0.233803</td>\n",
       "      <td>-0.256472</td>\n",
       "      <td>0.650348</td>\n",
       "      <td>-0.079287</td>\n",
       "      <td>-0.406633</td>\n",
       "      <td>0.026026</td>\n",
       "      <td>0.041936</td>\n",
       "      <td>...</td>\n",
       "      <td>1.153659e-18</td>\n",
       "      <td>4.838252e-18</td>\n",
       "      <td>-2.386600e-17</td>\n",
       "      <td>-9.276705e-18</td>\n",
       "      <td>-1.358641e-17</td>\n",
       "      <td>1.023555e-17</td>\n",
       "      <td>-1.419627e-18</td>\n",
       "      <td>1.386847e-17</td>\n",
       "      <td>9.774760e-18</td>\n",
       "      <td>-1.023893e-17</td>\n",
       "    </tr>\n",
       "    <tr>\n",
       "      <th>3</th>\n",
       "      <td>0.030670</td>\n",
       "      <td>0.132388</td>\n",
       "      <td>0.194772</td>\n",
       "      <td>-0.211989</td>\n",
       "      <td>-0.250230</td>\n",
       "      <td>0.705206</td>\n",
       "      <td>-0.101578</td>\n",
       "      <td>-0.460221</td>\n",
       "      <td>0.032678</td>\n",
       "      <td>0.033760</td>\n",
       "      <td>...</td>\n",
       "      <td>9.059864e-18</td>\n",
       "      <td>2.005774e-18</td>\n",
       "      <td>-1.394555e-17</td>\n",
       "      <td>6.125742e-18</td>\n",
       "      <td>2.900241e-18</td>\n",
       "      <td>-2.900241e-18</td>\n",
       "      <td>7.494548e-18</td>\n",
       "      <td>-9.852687e-18</td>\n",
       "      <td>1.665267e-17</td>\n",
       "      <td>-6.164706e-18</td>\n",
       "    </tr>\n",
       "    <tr>\n",
       "      <th>4</th>\n",
       "      <td>0.057786</td>\n",
       "      <td>0.233684</td>\n",
       "      <td>0.244992</td>\n",
       "      <td>-0.298480</td>\n",
       "      <td>-0.306923</td>\n",
       "      <td>0.171022</td>\n",
       "      <td>-0.045235</td>\n",
       "      <td>0.170663</td>\n",
       "      <td>-0.046259</td>\n",
       "      <td>-0.088660</td>\n",
       "      <td>...</td>\n",
       "      <td>-1.079798e-17</td>\n",
       "      <td>5.817422e-18</td>\n",
       "      <td>2.713470e-18</td>\n",
       "      <td>1.548376e-18</td>\n",
       "      <td>7.804303e-18</td>\n",
       "      <td>-7.373422e-18</td>\n",
       "      <td>-2.487058e-17</td>\n",
       "      <td>4.626494e-18</td>\n",
       "      <td>-1.947498e-17</td>\n",
       "      <td>-3.805296e-18</td>\n",
       "    </tr>\n",
       "  </tbody>\n",
       "</table>\n",
       "<p>5 rows × 107 columns</p>\n",
       "</div>"
      ],
      "text/plain": [
       "        0         1         2         3         4         5         6    \\\n",
       "0  0.111502  0.407191  0.285223 -0.366838 -0.434369  0.384149 -0.059686   \n",
       "1  0.025885  0.120821  0.215968 -0.230507 -0.268490  0.699513 -0.101948   \n",
       "2  0.057019  0.212848  0.185989 -0.233803 -0.256472  0.650348 -0.079287   \n",
       "3  0.030670  0.132388  0.194772 -0.211989 -0.250230  0.705206 -0.101578   \n",
       "4  0.057786  0.233684  0.244992 -0.298480 -0.306923  0.171022 -0.045235   \n",
       "\n",
       "        7         8         9    ...           97            98   \\\n",
       "0  0.082783 -0.046326 -0.060589  ...  3.130464e-17 -3.210213e-17   \n",
       "1 -0.426224  0.033161  0.025279  ...  3.320369e-19  5.905514e-18   \n",
       "2 -0.406633  0.026026  0.041936  ...  1.153659e-18  4.838252e-18   \n",
       "3 -0.460221  0.032678  0.033760  ...  9.059864e-18  2.005774e-18   \n",
       "4  0.170663 -0.046259 -0.088660  ... -1.079798e-17  5.817422e-18   \n",
       "\n",
       "            99            100           101           102           103  \\\n",
       "0 -1.540075e-17 -2.137911e-17 -3.005442e-17 -3.306393e-18 -8.637026e-17   \n",
       "1 -7.440337e-18 -6.017322e-18  5.353248e-18  7.941781e-18 -5.664956e-18   \n",
       "2 -2.386600e-17 -9.276705e-18 -1.358641e-17  1.023555e-17 -1.419627e-18   \n",
       "3 -1.394555e-17  6.125742e-18  2.900241e-18 -2.900241e-18  7.494548e-18   \n",
       "4  2.713470e-18  1.548376e-18  7.804303e-18 -7.373422e-18 -2.487058e-17   \n",
       "\n",
       "            104           105           106  \n",
       "0 -1.513987e-17  3.011033e-17 -8.080694e-19  \n",
       "1  1.159461e-17  4.570590e-18 -2.402185e-18  \n",
       "2  1.386847e-17  9.774760e-18 -1.023893e-17  \n",
       "3 -9.852687e-18  1.665267e-17 -6.164706e-18  \n",
       "4  4.626494e-18 -1.947498e-17 -3.805296e-18  \n",
       "\n",
       "[5 rows x 107 columns]"
      ]
     },
     "execution_count": 227,
     "metadata": {},
     "output_type": "execute_result"
    }
   ],
   "source": [
    "train_data.head()"
   ]
  },
  {
   "cell_type": "markdown",
   "metadata": {},
   "source": [
    "# train test split"
   ]
  },
  {
   "cell_type": "markdown",
   "metadata": {},
   "source": [
    "# Add target variable"
   ]
  },
  {
   "cell_type": "code",
   "execution_count": 231,
   "metadata": {},
   "outputs": [
    {
     "data": {
      "text/plain": [
       "(107, 108)"
      ]
     },
     "execution_count": 231,
     "metadata": {},
     "output_type": "execute_result"
    }
   ],
   "source": [
    "train_data.shape"
   ]
  },
  {
   "cell_type": "code",
   "execution_count": 233,
   "metadata": {},
   "outputs": [
    {
     "data": {
      "text/plain": [
       "(107, 8)"
      ]
     },
     "execution_count": 233,
     "metadata": {},
     "output_type": "execute_result"
    }
   ],
   "source": [
    "pd.DataFrame(data).shape"
   ]
  },
  {
   "cell_type": "code",
   "execution_count": 228,
   "metadata": {},
   "outputs": [],
   "source": [
    "train_data['target']=data['author']"
   ]
  },
  {
   "cell_type": "code",
   "execution_count": 234,
   "metadata": {
    "scrolled": true
   },
   "outputs": [
    {
     "data": {
      "text/html": [
       "<div>\n",
       "<style scoped>\n",
       "    .dataframe tbody tr th:only-of-type {\n",
       "        vertical-align: middle;\n",
       "    }\n",
       "\n",
       "    .dataframe tbody tr th {\n",
       "        vertical-align: top;\n",
       "    }\n",
       "\n",
       "    .dataframe thead th {\n",
       "        text-align: right;\n",
       "    }\n",
       "</style>\n",
       "<table border=\"1\" class=\"dataframe\">\n",
       "  <thead>\n",
       "    <tr style=\"text-align: right;\">\n",
       "      <th></th>\n",
       "      <th>0</th>\n",
       "      <th>1</th>\n",
       "      <th>2</th>\n",
       "      <th>3</th>\n",
       "      <th>4</th>\n",
       "      <th>5</th>\n",
       "      <th>6</th>\n",
       "      <th>7</th>\n",
       "      <th>8</th>\n",
       "      <th>9</th>\n",
       "      <th>...</th>\n",
       "      <th>98</th>\n",
       "      <th>99</th>\n",
       "      <th>100</th>\n",
       "      <th>101</th>\n",
       "      <th>102</th>\n",
       "      <th>103</th>\n",
       "      <th>104</th>\n",
       "      <th>105</th>\n",
       "      <th>106</th>\n",
       "      <th>target</th>\n",
       "    </tr>\n",
       "  </thead>\n",
       "  <tbody>\n",
       "    <tr>\n",
       "      <th>102</th>\n",
       "      <td>0.962017</td>\n",
       "      <td>-0.233212</td>\n",
       "      <td>0.017188</td>\n",
       "      <td>-0.002894</td>\n",
       "      <td>-0.001477</td>\n",
       "      <td>0.001124</td>\n",
       "      <td>-0.005381</td>\n",
       "      <td>-0.004498</td>\n",
       "      <td>-0.022527</td>\n",
       "      <td>0.003123</td>\n",
       "      <td>...</td>\n",
       "      <td>1.001102e-16</td>\n",
       "      <td>-1.523473e-17</td>\n",
       "      <td>1.550441e-18</td>\n",
       "      <td>3.494699e-17</td>\n",
       "      <td>-2.228472e-16</td>\n",
       "      <td>2.819032e-17</td>\n",
       "      <td>-1.019115e-16</td>\n",
       "      <td>-9.401748e-18</td>\n",
       "      <td>-7.358953e-17</td>\n",
       "      <td>Hope, Anthony, 1863-1933</td>\n",
       "    </tr>\n",
       "    <tr>\n",
       "      <th>103</th>\n",
       "      <td>0.165171</td>\n",
       "      <td>0.491660</td>\n",
       "      <td>-0.199769</td>\n",
       "      <td>0.053720</td>\n",
       "      <td>0.049243</td>\n",
       "      <td>-0.006913</td>\n",
       "      <td>-0.144966</td>\n",
       "      <td>-0.050039</td>\n",
       "      <td>-0.184895</td>\n",
       "      <td>0.020447</td>\n",
       "      <td>...</td>\n",
       "      <td>1.683582e-15</td>\n",
       "      <td>1.542108e-15</td>\n",
       "      <td>-3.580112e-17</td>\n",
       "      <td>-1.200902e-17</td>\n",
       "      <td>5.178891e-16</td>\n",
       "      <td>3.999144e-17</td>\n",
       "      <td>-7.205324e-16</td>\n",
       "      <td>-3.379132e-16</td>\n",
       "      <td>-2.413124e-16</td>\n",
       "      <td>Burroughs, Edgar Rice, 1875-1950</td>\n",
       "    </tr>\n",
       "    <tr>\n",
       "      <th>104</th>\n",
       "      <td>0.154651</td>\n",
       "      <td>0.469268</td>\n",
       "      <td>0.017219</td>\n",
       "      <td>-0.001537</td>\n",
       "      <td>-0.021763</td>\n",
       "      <td>-0.012948</td>\n",
       "      <td>0.051017</td>\n",
       "      <td>0.113320</td>\n",
       "      <td>0.101758</td>\n",
       "      <td>0.079206</td>\n",
       "      <td>...</td>\n",
       "      <td>-7.756045e-16</td>\n",
       "      <td>4.051613e-17</td>\n",
       "      <td>2.341737e-16</td>\n",
       "      <td>2.363307e-17</td>\n",
       "      <td>-3.312084e-16</td>\n",
       "      <td>5.430451e-16</td>\n",
       "      <td>-2.541055e-16</td>\n",
       "      <td>-1.083762e-15</td>\n",
       "      <td>-3.472568e-16</td>\n",
       "      <td>Abbott, Edwin Abbott, 1838-1926</td>\n",
       "    </tr>\n",
       "    <tr>\n",
       "      <th>105</th>\n",
       "      <td>0.967256</td>\n",
       "      <td>-0.190799</td>\n",
       "      <td>0.006137</td>\n",
       "      <td>-0.007257</td>\n",
       "      <td>0.000640</td>\n",
       "      <td>0.000025</td>\n",
       "      <td>-0.013403</td>\n",
       "      <td>-0.000434</td>\n",
       "      <td>-0.003600</td>\n",
       "      <td>-0.000027</td>\n",
       "      <td>...</td>\n",
       "      <td>3.944753e-17</td>\n",
       "      <td>-5.920951e-16</td>\n",
       "      <td>5.577517e-17</td>\n",
       "      <td>1.793621e-16</td>\n",
       "      <td>3.937211e-17</td>\n",
       "      <td>4.744833e-17</td>\n",
       "      <td>-9.690731e-17</td>\n",
       "      <td>-2.340239e-16</td>\n",
       "      <td>3.779999e-17</td>\n",
       "      <td>Dickens, Charles, 1812-1870</td>\n",
       "    </tr>\n",
       "    <tr>\n",
       "      <th>106</th>\n",
       "      <td>0.155161</td>\n",
       "      <td>0.488778</td>\n",
       "      <td>0.203278</td>\n",
       "      <td>0.110699</td>\n",
       "      <td>-0.158917</td>\n",
       "      <td>-0.023562</td>\n",
       "      <td>-0.075027</td>\n",
       "      <td>0.140438</td>\n",
       "      <td>-0.001587</td>\n",
       "      <td>0.015559</td>\n",
       "      <td>...</td>\n",
       "      <td>4.051121e-16</td>\n",
       "      <td>1.068888e-16</td>\n",
       "      <td>2.573422e-16</td>\n",
       "      <td>3.578138e-16</td>\n",
       "      <td>6.115171e-16</td>\n",
       "      <td>-1.121878e-16</td>\n",
       "      <td>-3.782917e-16</td>\n",
       "      <td>-3.699501e-16</td>\n",
       "      <td>-3.171562e-16</td>\n",
       "      <td>Douglass, Frederick, 1818-1895</td>\n",
       "    </tr>\n",
       "  </tbody>\n",
       "</table>\n",
       "<p>5 rows × 108 columns</p>\n",
       "</div>"
      ],
      "text/plain": [
       "            0         1         2         3         4         5         6  \\\n",
       "102  0.962017 -0.233212  0.017188 -0.002894 -0.001477  0.001124 -0.005381   \n",
       "103  0.165171  0.491660 -0.199769  0.053720  0.049243 -0.006913 -0.144966   \n",
       "104  0.154651  0.469268  0.017219 -0.001537 -0.021763 -0.012948  0.051017   \n",
       "105  0.967256 -0.190799  0.006137 -0.007257  0.000640  0.000025 -0.013403   \n",
       "106  0.155161  0.488778  0.203278  0.110699 -0.158917 -0.023562 -0.075027   \n",
       "\n",
       "            7         8         9  ...            98            99  \\\n",
       "102 -0.004498 -0.022527  0.003123  ...  1.001102e-16 -1.523473e-17   \n",
       "103 -0.050039 -0.184895  0.020447  ...  1.683582e-15  1.542108e-15   \n",
       "104  0.113320  0.101758  0.079206  ... -7.756045e-16  4.051613e-17   \n",
       "105 -0.000434 -0.003600 -0.000027  ...  3.944753e-17 -5.920951e-16   \n",
       "106  0.140438 -0.001587  0.015559  ...  4.051121e-16  1.068888e-16   \n",
       "\n",
       "              100           101           102           103           104  \\\n",
       "102  1.550441e-18  3.494699e-17 -2.228472e-16  2.819032e-17 -1.019115e-16   \n",
       "103 -3.580112e-17 -1.200902e-17  5.178891e-16  3.999144e-17 -7.205324e-16   \n",
       "104  2.341737e-16  2.363307e-17 -3.312084e-16  5.430451e-16 -2.541055e-16   \n",
       "105  5.577517e-17  1.793621e-16  3.937211e-17  4.744833e-17 -9.690731e-17   \n",
       "106  2.573422e-16  3.578138e-16  6.115171e-16 -1.121878e-16 -3.782917e-16   \n",
       "\n",
       "              105           106                            target  \n",
       "102 -9.401748e-18 -7.358953e-17          Hope, Anthony, 1863-1933  \n",
       "103 -3.379132e-16 -2.413124e-16  Burroughs, Edgar Rice, 1875-1950  \n",
       "104 -1.083762e-15 -3.472568e-16   Abbott, Edwin Abbott, 1838-1926  \n",
       "105 -2.340239e-16  3.779999e-17       Dickens, Charles, 1812-1870  \n",
       "106 -3.699501e-16 -3.171562e-16    Douglass, Frederick, 1818-1895  \n",
       "\n",
       "[5 rows x 108 columns]"
      ]
     },
     "execution_count": 234,
     "metadata": {},
     "output_type": "execute_result"
    }
   ],
   "source": [
    "train_data.tail()"
   ]
  },
  {
   "cell_type": "code",
   "execution_count": 239,
   "metadata": {},
   "outputs": [],
   "source": [
    "train_data.isnull().sum()\n",
    "\n",
    "train_data.dropna(inplace=True)"
   ]
  },
  {
   "cell_type": "code",
   "execution_count": 240,
   "metadata": {},
   "outputs": [],
   "source": [
    "train_data_new=train_data.sample(frac=0.8,random_state=200) #random state is a seed value\n",
    "val_data=train_data.drop(train_data_new.index)"
   ]
  },
  {
   "cell_type": "code",
   "execution_count": 241,
   "metadata": {},
   "outputs": [],
   "source": [
    "#Performing train val split on the data\n",
    "X_train, y_train = train_data_new.loc[:,train_data_new.columns!='target'], train_data_new.loc[:,'target']\n",
    "\n",
    "X_val, y_val = val_data.loc[:,val_data.columns!='target'], val_data.loc[:,'target']"
   ]
  },
  {
   "cell_type": "markdown",
   "metadata": {},
   "source": [
    "# Modelling"
   ]
  },
  {
   "cell_type": "code",
   "execution_count": 243,
   "metadata": {},
   "outputs": [],
   "source": [
    "from sklearn.svm import SVC"
   ]
  },
  {
   "cell_type": "code",
   "execution_count": 244,
   "metadata": {},
   "outputs": [],
   "source": [
    "clf_svm= SVC()"
   ]
  },
  {
   "cell_type": "code",
   "execution_count": 245,
   "metadata": {},
   "outputs": [
    {
     "data": {
      "text/plain": [
       "SVC(C=1.0, break_ties=False, cache_size=200, class_weight=None, coef0=0.0,\n",
       "    decision_function_shape='ovr', degree=3, gamma='scale', kernel='rbf',\n",
       "    max_iter=-1, probability=False, random_state=None, shrinking=True,\n",
       "    tol=0.001, verbose=False)"
      ]
     },
     "execution_count": 245,
     "metadata": {},
     "output_type": "execute_result"
    }
   ],
   "source": [
    "clf_svm.fit(X_train,y_train)"
   ]
  },
  {
   "cell_type": "code",
   "execution_count": 246,
   "metadata": {},
   "outputs": [],
   "source": [
    "train_pred=clf_svm.predict(X_train)\n",
    "val_pred=clf_svm.predict(X_val)"
   ]
  },
  {
   "cell_type": "code",
   "execution_count": 249,
   "metadata": {},
   "outputs": [],
   "source": [
    "from sklearn.metrics import classification_report"
   ]
  },
  {
   "cell_type": "code",
   "execution_count": 250,
   "metadata": {},
   "outputs": [
    {
     "name": "stdout",
     "output_type": "stream",
     "text": [
      "                                               precision    recall  f1-score   support\n",
      "\n",
      "              Abbott, Edwin Abbott, 1838-1926       1.00      1.00      1.00         1\n",
      "                     Aesop, 620? BCE-564? BCE       1.00      0.50      0.67         2\n",
      "     Barrie, J. M. (James Matthew), 1860-1937       0.00      0.00      0.00         1\n",
      "      Baum, L. Frank (Lyman Frank), 1856-1919       1.00      1.00      1.00         2\n",
      "             Burroughs, Edgar Rice, 1875-1950       0.60      1.00      0.75         9\n",
      "                                       Canada       1.00      1.00      1.00         1\n",
      "                    Carroll, Lewis, 1832-1898       0.00      0.00      0.00         3\n",
      "                     Cather, Willa, 1873-1947       0.00      0.00      0.00         2\n",
      "                        Coombs, Norman, 1932-       1.00      1.00      1.00         1\n",
      "                        De Presno, Odd, 1944-       1.00      1.00      1.00         1\n",
      "                   Descartes, René, 1596-1650       0.00      0.00      0.00         1\n",
      "                  Dickens, Charles, 1812-1870       0.00      0.00      0.00         1\n",
      "               Douglass, Frederick, 1818-1895       1.00      1.00      1.00         2\n",
      "                 Engels, Friedrich, 1820-1895       0.00      0.00      0.00         1\n",
      "         Gilman, Charlotte Perkins, 1860-1935       0.00      0.00      0.00         1\n",
      "                             Goodwin, John E.       0.00      0.00      0.00         1\n",
      "                     Hardy, Thomas, 1840-1928       0.00      0.00      0.00         1\n",
      "                     Hart, Michael, 1947-2011       1.00      1.00      1.00         1\n",
      "              Hawthorne, Nathaniel, 1804-1864       1.00      1.00      1.00         2\n",
      "                              Hemphill, Scott       0.00      0.00      0.00         1\n",
      "                    Henry, Patrick, 1736-1799       1.00      1.00      1.00         1\n",
      "                Irving, Washington, 1783-1859       0.00      0.00      0.00         1\n",
      "                         Jay, John, 1745-1829       0.00      0.00      0.00         1\n",
      "                 Jefferson, Thomas, 1743-1826       1.00      1.00      1.00         1\n",
      "                              Joly, Norman F.       1.00      1.00      1.00         1\n",
      "                 Kehoe, Brendan P., 1970-2011       0.00      0.00      0.00         1\n",
      "    Kemble, E. W. (Edward Windsor), 1861-1933       0.00      0.00      0.00         1\n",
      "Kennedy, John F. (John Fitzgerald), 1917-1963       1.00      1.00      1.00         1\n",
      "                       Leech, John, 1817-1864       0.00      0.00      0.00         1\n",
      "                  Lincoln, Abraham, 1809-1865       1.00      1.00      1.00         1\n",
      "       Longfellow, Henry Wadsworth, 1807-1882       0.00      0.00      0.00         1\n",
      "                    Madison, James, 1751-1836       0.50      1.00      0.67         1\n",
      "                        Marx, Karl, 1818-1883       0.50      1.00      0.67         1\n",
      "                  Melville, Herman, 1819-1891       0.00      0.00      0.00         1\n",
      "                      Milton, John, 1608-1674       0.50      0.67      0.57         3\n",
      "     Montgomery, L. M. (Lucy Maud), 1874-1942       0.00      0.00      0.00         3\n",
      "                           Morris, Woodrow W.       0.00      0.00      0.00         1\n",
      "    Orczy, Emmuska Orczy, Baroness, 1865-1947       0.00      0.00      0.00         1\n",
      "                           Polly, Jean Armour       0.50      1.00      0.67         2\n",
      "                      Raymond, Eric S., 1957-       0.00      0.00      0.00         1\n",
      "                 Roget, Peter Mark, 1779-1869       0.00      0.00      0.00         1\n",
      "                       Schwartau, Winn, 1952-       1.00      1.00      1.00         1\n",
      "                             Slowinski, David       0.00      0.00      0.00         1\n",
      "                Smith, Joseph, Jr., 1805-1844       1.00      1.00      1.00         1\n",
      "                  Sophocles, 495? BCE-406 BCE       0.00      0.00      0.00         1\n",
      "                        Steele, Guy L., 1954-       0.50      1.00      0.67         1\n",
      "           Stevenson, Robert Louis, 1850-1894       1.00      0.50      0.67         2\n",
      "                    Storr, Francis, 1839-1919       0.00      0.00      0.00         1\n",
      "              Thoreau, Henry David, 1817-1862       0.00      0.00      0.00         1\n",
      "            Townsend, George Fyler, 1814-1900       0.00      0.00      0.00         1\n",
      "                       Twain, Mark, 1835-1910       0.16      1.00      0.28         4\n",
      "                                United States       1.00      1.00      1.00         1\n",
      "          United States. Bureau of the Census       1.00      1.00      1.00         2\n",
      "   United States. Central Intelligence Agency       1.00      1.00      1.00         1\n",
      "                                      Unknown       0.60      1.00      0.75         3\n",
      "                      Veitch, John, 1829-1894       0.50      1.00      0.67         1\n",
      "                      Verne, Jules, 1828-1905       1.00      1.00      1.00         1\n",
      "     Wells, H. G. (Herbert George), 1866-1946       0.00      0.00      0.00         2\n",
      "\n",
      "                                     accuracy                           0.57        86\n",
      "                                    macro avg       0.44      0.49      0.45        86\n",
      "                                 weighted avg       0.46      0.57      0.48        86\n",
      "\n",
      "                                             precision    recall  f1-score   support\n",
      "\n",
      "           Burroughs, Edgar Rice, 1875-1950       0.17      1.00      0.29         1\n",
      "                   Cather, Willa, 1873-1947       0.00      0.00      0.00         1\n",
      "Church of Jesus Christ of Latter-day Saints       0.00      0.00      0.00         1\n",
      "                  Crane, Stephen, 1871-1900       0.00      0.00      0.00         1\n",
      "                         Daly, James, 1948-       0.00      0.00      0.00         1\n",
      "                Dickens, Charles, 1812-1870       0.00      0.00      0.00         1\n",
      "             Hamilton, Alexander, 1757-1804       0.00      0.00      0.00         1\n",
      "                   Hope, Anthony, 1863-1933       0.00      0.00      0.00         1\n",
      "                                 Kerr, Stan       0.00      0.00      0.00         1\n",
      "                            Krol, Ed, 1951-       0.00      0.00      0.00         1\n",
      "                        Library of Congress       0.00      0.00      0.00         1\n",
      "                Lincoln, Abraham, 1809-1865       0.00      0.00      0.00         2\n",
      "                  Madison, James, 1751-1836       0.00      0.00      0.00         0\n",
      "                         Polly, Jean Armour       0.00      0.00      0.00         0\n",
      "                   Scott, Walter, 1771-1832       0.00      0.00      0.00         1\n",
      "    Shelley, Mary Wollstonecraft, 1797-1851       0.00      0.00      0.00         1\n",
      "              Smith, Joseph, Jr., 1805-1844       0.00      0.00      0.00         0\n",
      "                     Twain, Mark, 1835-1910       0.29      1.00      0.44         2\n",
      "                              United States       0.00      0.00      0.00         1\n",
      " United States. Central Intelligence Agency       1.00      0.33      0.50         3\n",
      "                                    Unknown       0.00      0.00      0.00         0\n",
      "\n",
      "                                   accuracy                           0.19        21\n",
      "                                  macro avg       0.07      0.11      0.06        21\n",
      "                               weighted avg       0.18      0.19      0.13        21\n",
      "\n"
     ]
    }
   ],
   "source": [
    "print(classification_report(y_train,train_pred))\n",
    "print(classification_report(y_val,val_pred))"
   ]
  },
  {
   "cell_type": "code",
   "execution_count": null,
   "metadata": {},
   "outputs": [],
   "source": []
  }
 ],
 "metadata": {
  "kernelspec": {
   "display_name": "Python 3",
   "language": "python",
   "name": "python3"
  },
  "language_info": {
   "codemirror_mode": {
    "name": "ipython",
    "version": 3
   },
   "file_extension": ".py",
   "mimetype": "text/x-python",
   "name": "python",
   "nbconvert_exporter": "python",
   "pygments_lexer": "ipython3",
   "version": "3.7.4"
  }
 },
 "nbformat": 4,
 "nbformat_minor": 2
}
